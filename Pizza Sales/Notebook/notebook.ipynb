{
 "cells": [
  {
   "cell_type": "markdown",
   "id": "fa6108de-3474-4524-918f-a68a75d6dc92",
   "metadata": {},
   "source": [
    "# Pizza Sales Analysis\n",
    "\n",
    "This project is based on a challenge from Maven Analytics, where the data was given, and the image above contains a little explanation and some questions about the data. The data is about sales from a fictional pizza place during a period of a year."
   ]
  },
  {
   "cell_type": "markdown",
   "id": "08cb6ff1-3aa9-497f-b5c7-db227a178c59",
   "metadata": {},
   "source": [
    "![image](../Imgs/image.png)"
   ]
  },
  {
   "cell_type": "markdown",
   "id": "657bfb5b-dddc-434f-a3ab-92a5fff43f9c",
   "metadata": {},
   "source": [
    "## The Data\n",
    "\n",
    "The data given, is divided in four soucers:\n",
    "\n",
    "### Order information\n",
    "\n",
    "- 'order_id' - The ID of the order (matches the order_details data)\n",
    "- 'date' - the date of the order\n",
    "- 'time' - the time of the order\n",
    "\n",
    "### Order Details information\n",
    "\n",
    "- 'order_details_id' - The ID for the order detail\n",
    "- 'order_id' - The ID of the order refered to (matches the order data)\n",
    "- 'pizza_id' - The ID of the pizza for the order (matches the pizza data)\n",
    "- 'quantity' -  The number of pizzas mentioned on 'pizza_id' for that order\n",
    "\n",
    "### Pizza information\n",
    "\n",
    "- 'pizza_id' - The ID of the pizza\n",
    "- 'pizza_type_id' - The ID for the type of the pizza (matches witch the pizza_type data)\n",
    "- 'size' - The size of the Pizza ('S','M','L','XL','XXL')\n",
    "- 'price' - The price of the Pizza\n",
    "\n",
    "### Pizza Types Information\n",
    "\n",
    "- 'pizza_type_id' - The ID for the type of the pizza (matches witch the pizza data)\n",
    "- 'name' - The name for this pizza type\n",
    "- 'category' - Category for the pizza type (e.g. Chicken, Veggie, Meat, etc)\n",
    "- 'ingredients' - A list of the ingredients of this pizza type"
   ]
  },
  {
   "cell_type": "code",
   "execution_count": null,
   "id": "7b118a24-2285-4ad4-840d-a07340a9a0ff",
   "metadata": {
    "collapsed": false,
    "executionCancelledAt": null,
    "executionTime": 4646,
    "jupyter": {
     "outputs_hidden": false,
     "source_hidden": true
    },
    "lastExecutedAt": 1718976559510,
    "lastExecutedByKernel": "8bf0682e-e275-47e8-9836-fae1c07588aa",
    "lastScheduledRunId": null,
    "lastSuccessfullyExecutedCode": "# importing the modules that will be needed in the code\nimport seaborn as sns\nimport pingouin as png\nimport numpy as np\nimport pandas as pd\nimport matplotlib.pyplot as plt\nimport plotly.express as px\nimport statsmodels.api as sm"
   },
   "outputs": [],
   "source": [
    "# importing the modules that will be needed in the code\n",
    "import seaborn as sns\n",
    "import pandas as pd\n",
    "import matplotlib.pyplot as plt\n",
    "import plotly.express as px\n",
    "import statsmodels.api as sm"
   ]
  },
  {
   "cell_type": "code",
   "execution_count": null,
   "id": "75002913-be67-4a5f-81a8-0bc772a01eec",
   "metadata": {
    "collapsed": false,
    "executionCancelledAt": null,
    "executionTime": 1473,
    "jupyter": {
     "outputs_hidden": false,
     "source_hidden": true
    },
    "lastExecutedAt": 1718976560985,
    "lastExecutedByKernel": "8bf0682e-e275-47e8-9836-fae1c07588aa",
    "lastScheduledRunId": null,
    "lastSuccessfullyExecutedCode": "# reading our data, i'm already formating the date type for the order data\norder = pd.read_csv('orders.csv',parse_dates=['date','time'])\norder.time = order.time.dt.strftime('%H:%M')\npizzas = pd.read_csv('pizzas.csv')\npizza_types = pd.read_csv('pizza_types.csv',encoding='latin1')\norder_details = pd.read_csv('order_details.csv')"
   },
   "outputs": [],
   "source": [
    "# reading the data, i'm already formating the date type for the order data\n",
    "order = pd.read_csv('../Data/orders.csv',parse_dates=['date','time'])\n",
    "order.time = order.time.dt.strftime('%H:%M')\n",
    "pizzas = pd.read_csv('../Data/pizzas.csv')\n",
    "pizza_types = pd.read_csv('../Data/pizza_types.csv',encoding='latin1')\n",
    "order_details = pd.read_csv('../Data/order_details.csv')"
   ]
  },
  {
   "cell_type": "code",
   "execution_count": 3,
   "id": "9c4c9a34-11d5-4a19-b969-81a536295db5",
   "metadata": {
    "collapsed": false,
    "executionCancelledAt": null,
    "executionTime": 58,
    "jupyter": {
     "outputs_hidden": false,
     "source_hidden": true
    },
    "lastExecutedAt": 1718976561045,
    "lastExecutedByKernel": "8bf0682e-e275-47e8-9836-fae1c07588aa",
    "lastScheduledRunId": null,
    "lastSuccessfullyExecutedCode": "order_details.pizza_id = order_details.pizza_id.astype('string')\npizzas.pizza_id = pizzas.pizza_id.astype('string')"
   },
   "outputs": [],
   "source": [
    "order_details.pizza_id = order_details.pizza_id.astype('string')\n",
    "pizzas.pizza_id = pizzas.pizza_id.astype('string')"
   ]
  },
  {
   "cell_type": "markdown",
   "id": "2f5f63f6-fb0e-41de-b0b8-d6c2e90e434f",
   "metadata": {},
   "source": [
    "Before answering the questions I'll take a first look at the data"
   ]
  },
  {
   "cell_type": "code",
   "execution_count": 4,
   "id": "ef55f062-9ad2-4010-a944-4ed51df956b3",
   "metadata": {
    "collapsed": false,
    "executionCancelledAt": null,
    "executionTime": 52,
    "jupyter": {
     "outputs_hidden": false,
     "source_hidden": true
    },
    "lastExecutedAt": 1718976561098,
    "lastExecutedByKernel": "8bf0682e-e275-47e8-9836-fae1c07588aa",
    "lastScheduledRunId": null,
    "lastSuccessfullyExecutedCode": "pizza_types.head()",
    "outputsMetadata": {
     "0": {
      "height": 550,
      "tableState": {},
      "type": "dataFrame"
     }
    }
   },
   "outputs": [
    {
     "data": {
      "application/com.datacamp.data-table.v2+json": {
       "table": {
        "data": {
         "category": [
          "Chicken",
          "Chicken",
          "Chicken",
          "Chicken",
          "Chicken"
         ],
         "index": [
          0,
          1,
          2,
          3,
          4
         ],
         "ingredients": [
          "Barbecued Chicken, Red Peppers, Green Peppers, Tomatoes, Red Onions, Barbecue Sauce",
          "Chicken, Artichoke, Spinach, Garlic, Jalapeno Peppers, Fontina Cheese, Gouda Cheese",
          "Chicken, Red Onions, Red Peppers, Mushrooms, Asiago Cheese, Alfredo Sauce",
          "Chicken, Tomatoes, Red Peppers, Spinach, Garlic, Pesto Sauce",
          "Chicken, Tomatoes, Red Peppers, Red Onions, Jalapeno Peppers, Corn, Cilantro, Chipotle Sauce"
         ],
         "name": [
          "The Barbecue Chicken Pizza",
          "The California Chicken Pizza",
          "The Chicken Alfredo Pizza",
          "The Chicken Pesto Pizza",
          "The Southwest Chicken Pizza"
         ],
         "pizza_type_id": [
          "bbq_ckn",
          "cali_ckn",
          "ckn_alfredo",
          "ckn_pesto",
          "southw_ckn"
         ]
        },
        "schema": {
         "fields": [
          {
           "name": "index",
           "type": "integer"
          },
          {
           "name": "pizza_type_id",
           "type": "string"
          },
          {
           "name": "name",
           "type": "string"
          },
          {
           "name": "category",
           "type": "string"
          },
          {
           "name": "ingredients",
           "type": "string"
          }
         ],
         "pandas_version": "1.4.0",
         "primaryKey": [
          "index"
         ]
        }
       },
       "total_rows": 5,
       "truncation_type": null
      },
      "text/html": [
       "<div>\n",
       "<style scoped>\n",
       "    .dataframe tbody tr th:only-of-type {\n",
       "        vertical-align: middle;\n",
       "    }\n",
       "\n",
       "    .dataframe tbody tr th {\n",
       "        vertical-align: top;\n",
       "    }\n",
       "\n",
       "    .dataframe thead th {\n",
       "        text-align: right;\n",
       "    }\n",
       "</style>\n",
       "<table border=\"1\" class=\"dataframe\">\n",
       "  <thead>\n",
       "    <tr style=\"text-align: right;\">\n",
       "      <th></th>\n",
       "      <th>pizza_type_id</th>\n",
       "      <th>name</th>\n",
       "      <th>category</th>\n",
       "      <th>ingredients</th>\n",
       "    </tr>\n",
       "  </thead>\n",
       "  <tbody>\n",
       "    <tr>\n",
       "      <th>0</th>\n",
       "      <td>bbq_ckn</td>\n",
       "      <td>The Barbecue Chicken Pizza</td>\n",
       "      <td>Chicken</td>\n",
       "      <td>Barbecued Chicken, Red Peppers, Green Peppers,...</td>\n",
       "    </tr>\n",
       "    <tr>\n",
       "      <th>1</th>\n",
       "      <td>cali_ckn</td>\n",
       "      <td>The California Chicken Pizza</td>\n",
       "      <td>Chicken</td>\n",
       "      <td>Chicken, Artichoke, Spinach, Garlic, Jalapeno ...</td>\n",
       "    </tr>\n",
       "    <tr>\n",
       "      <th>2</th>\n",
       "      <td>ckn_alfredo</td>\n",
       "      <td>The Chicken Alfredo Pizza</td>\n",
       "      <td>Chicken</td>\n",
       "      <td>Chicken, Red Onions, Red Peppers, Mushrooms, A...</td>\n",
       "    </tr>\n",
       "    <tr>\n",
       "      <th>3</th>\n",
       "      <td>ckn_pesto</td>\n",
       "      <td>The Chicken Pesto Pizza</td>\n",
       "      <td>Chicken</td>\n",
       "      <td>Chicken, Tomatoes, Red Peppers, Spinach, Garli...</td>\n",
       "    </tr>\n",
       "    <tr>\n",
       "      <th>4</th>\n",
       "      <td>southw_ckn</td>\n",
       "      <td>The Southwest Chicken Pizza</td>\n",
       "      <td>Chicken</td>\n",
       "      <td>Chicken, Tomatoes, Red Peppers, Red Onions, Ja...</td>\n",
       "    </tr>\n",
       "  </tbody>\n",
       "</table>\n",
       "</div>"
      ],
      "text/plain": [
       "  pizza_type_id  ...                                        ingredients\n",
       "0       bbq_ckn  ...  Barbecued Chicken, Red Peppers, Green Peppers,...\n",
       "1      cali_ckn  ...  Chicken, Artichoke, Spinach, Garlic, Jalapeno ...\n",
       "2   ckn_alfredo  ...  Chicken, Red Onions, Red Peppers, Mushrooms, A...\n",
       "3     ckn_pesto  ...  Chicken, Tomatoes, Red Peppers, Spinach, Garli...\n",
       "4    southw_ckn  ...  Chicken, Tomatoes, Red Peppers, Red Onions, Ja...\n",
       "\n",
       "[5 rows x 4 columns]"
      ]
     },
     "execution_count": 4,
     "metadata": {},
     "output_type": "execute_result"
    }
   ],
   "source": [
    "pizza_types.head()"
   ]
  },
  {
   "cell_type": "code",
   "execution_count": 5,
   "id": "c9d6df04-1a61-4bb6-afb5-059f2e58aa22",
   "metadata": {
    "collapsed": false,
    "executionCancelledAt": null,
    "executionTime": 64,
    "jupyter": {
     "outputs_hidden": false,
     "source_hidden": true
    },
    "lastExecutedAt": 1718976561162,
    "lastExecutedByKernel": "8bf0682e-e275-47e8-9836-fae1c07588aa",
    "lastScheduledRunId": null,
    "lastSuccessfullyExecutedCode": "order.info()\npizzas.info()\npizza_types.info()\norder_details.info()",
    "outputsMetadata": {
     "0": {
      "height": 616,
      "type": "stream"
     }
    }
   },
   "outputs": [
    {
     "name": "stdout",
     "output_type": "stream",
     "text": [
      "<class 'pandas.core.frame.DataFrame'>\n",
      "RangeIndex: 21350 entries, 0 to 21349\n",
      "Data columns (total 3 columns):\n",
      " #   Column    Non-Null Count  Dtype         \n",
      "---  ------    --------------  -----         \n",
      " 0   order_id  21350 non-null  int64         \n",
      " 1   date      21350 non-null  datetime64[ns]\n",
      " 2   time      21350 non-null  object        \n",
      "dtypes: datetime64[ns](1), int64(1), object(1)\n",
      "memory usage: 500.5+ KB\n",
      "<class 'pandas.core.frame.DataFrame'>\n",
      "RangeIndex: 96 entries, 0 to 95\n",
      "Data columns (total 4 columns):\n",
      " #   Column         Non-Null Count  Dtype  \n",
      "---  ------         --------------  -----  \n",
      " 0   pizza_id       96 non-null     string \n",
      " 1   pizza_type_id  96 non-null     object \n",
      " 2   size           96 non-null     object \n",
      " 3   price          96 non-null     float64\n",
      "dtypes: float64(1), object(2), string(1)\n",
      "memory usage: 3.1+ KB\n",
      "<class 'pandas.core.frame.DataFrame'>\n",
      "RangeIndex: 32 entries, 0 to 31\n",
      "Data columns (total 4 columns):\n",
      " #   Column         Non-Null Count  Dtype \n",
      "---  ------         --------------  ----- \n",
      " 0   pizza_type_id  32 non-null     object\n",
      " 1   name           32 non-null     object\n",
      " 2   category       32 non-null     object\n",
      " 3   ingredients    32 non-null     object\n",
      "dtypes: object(4)\n",
      "memory usage: 1.1+ KB\n",
      "<class 'pandas.core.frame.DataFrame'>\n",
      "RangeIndex: 48620 entries, 0 to 48619\n",
      "Data columns (total 4 columns):\n",
      " #   Column            Non-Null Count  Dtype \n",
      "---  ------            --------------  ----- \n",
      " 0   order_details_id  48620 non-null  int64 \n",
      " 1   order_id          48620 non-null  int64 \n",
      " 2   pizza_id          48620 non-null  string\n",
      " 3   quantity          48620 non-null  int64 \n",
      "dtypes: int64(3), string(1)\n",
      "memory usage: 1.5 MB\n"
     ]
    }
   ],
   "source": [
    "order.info()\n",
    "pizzas.info()\n",
    "pizza_types.info()\n",
    "order_details.info()"
   ]
  },
  {
   "cell_type": "code",
   "execution_count": 6,
   "id": "e219f16c-4579-4b5f-9e51-208aca3a2822",
   "metadata": {
    "collapsed": false,
    "executionCancelledAt": null,
    "executionTime": 51,
    "jupyter": {
     "outputs_hidden": false,
     "source_hidden": true
    },
    "lastExecutedAt": 1718976561213,
    "lastExecutedByKernel": "8bf0682e-e275-47e8-9836-fae1c07588aa",
    "lastScheduledRunId": null,
    "lastSuccessfullyExecutedCode": "order.describe()",
    "outputsMetadata": {
     "0": {
      "height": 550,
      "tableState": {},
      "type": "dataFrame"
     }
    }
   },
   "outputs": [
    {
     "data": {
      "application/com.datacamp.data-table.v2+json": {
       "table": {
        "data": {
         "index": [
          "count",
          "mean",
          "std",
          "min",
          "25%",
          "50%",
          "75%",
          "max"
         ],
         "order_id": [
          21350,
          10675.5,
          6163.3584594765,
          1,
          5338.25,
          10675.5,
          16012.75,
          21350
         ]
        },
        "schema": {
         "fields": [
          {
           "name": "index",
           "type": "string"
          },
          {
           "name": "order_id",
           "type": "number"
          }
         ],
         "pandas_version": "1.4.0",
         "primaryKey": [
          "index"
         ]
        }
       },
       "total_rows": 8,
       "truncation_type": null
      },
      "text/html": [
       "<div>\n",
       "<style scoped>\n",
       "    .dataframe tbody tr th:only-of-type {\n",
       "        vertical-align: middle;\n",
       "    }\n",
       "\n",
       "    .dataframe tbody tr th {\n",
       "        vertical-align: top;\n",
       "    }\n",
       "\n",
       "    .dataframe thead th {\n",
       "        text-align: right;\n",
       "    }\n",
       "</style>\n",
       "<table border=\"1\" class=\"dataframe\">\n",
       "  <thead>\n",
       "    <tr style=\"text-align: right;\">\n",
       "      <th></th>\n",
       "      <th>order_id</th>\n",
       "    </tr>\n",
       "  </thead>\n",
       "  <tbody>\n",
       "    <tr>\n",
       "      <th>count</th>\n",
       "      <td>21350.000000</td>\n",
       "    </tr>\n",
       "    <tr>\n",
       "      <th>mean</th>\n",
       "      <td>10675.500000</td>\n",
       "    </tr>\n",
       "    <tr>\n",
       "      <th>std</th>\n",
       "      <td>6163.358459</td>\n",
       "    </tr>\n",
       "    <tr>\n",
       "      <th>min</th>\n",
       "      <td>1.000000</td>\n",
       "    </tr>\n",
       "    <tr>\n",
       "      <th>25%</th>\n",
       "      <td>5338.250000</td>\n",
       "    </tr>\n",
       "    <tr>\n",
       "      <th>50%</th>\n",
       "      <td>10675.500000</td>\n",
       "    </tr>\n",
       "    <tr>\n",
       "      <th>75%</th>\n",
       "      <td>16012.750000</td>\n",
       "    </tr>\n",
       "    <tr>\n",
       "      <th>max</th>\n",
       "      <td>21350.000000</td>\n",
       "    </tr>\n",
       "  </tbody>\n",
       "</table>\n",
       "</div>"
      ],
      "text/plain": [
       "           order_id\n",
       "count  21350.000000\n",
       "mean   10675.500000\n",
       "std     6163.358459\n",
       "min        1.000000\n",
       "25%     5338.250000\n",
       "50%    10675.500000\n",
       "75%    16012.750000\n",
       "max    21350.000000"
      ]
     },
     "execution_count": 6,
     "metadata": {},
     "output_type": "execute_result"
    }
   ],
   "source": [
    "order.describe()"
   ]
  },
  {
   "cell_type": "code",
   "execution_count": 7,
   "id": "c8db9d68-8e80-41e1-8fdf-1393a9e5c86e",
   "metadata": {
    "collapsed": false,
    "executionCancelledAt": null,
    "executionTime": 52,
    "jupyter": {
     "outputs_hidden": false,
     "source_hidden": true
    },
    "lastExecutedAt": 1718976561266,
    "lastExecutedByKernel": "8bf0682e-e275-47e8-9836-fae1c07588aa",
    "lastScheduledRunId": null,
    "lastSuccessfullyExecutedCode": "pizzas.describe()",
    "outputsMetadata": {
     "0": {
      "height": 550,
      "tableState": {},
      "type": "dataFrame"
     }
    }
   },
   "outputs": [
    {
     "data": {
      "application/com.datacamp.data-table.v2+json": {
       "table": {
        "data": {
         "index": [
          "count",
          "mean",
          "std",
          "min",
          "25%",
          "50%",
          "75%",
          "max"
         ],
         "price": [
          96,
          16.440625,
          4.0902664467,
          9.75,
          12.5,
          16.25,
          20.25,
          35.95
         ]
        },
        "schema": {
         "fields": [
          {
           "name": "index",
           "type": "string"
          },
          {
           "name": "price",
           "type": "number"
          }
         ],
         "pandas_version": "1.4.0",
         "primaryKey": [
          "index"
         ]
        }
       },
       "total_rows": 8,
       "truncation_type": null
      },
      "text/html": [
       "<div>\n",
       "<style scoped>\n",
       "    .dataframe tbody tr th:only-of-type {\n",
       "        vertical-align: middle;\n",
       "    }\n",
       "\n",
       "    .dataframe tbody tr th {\n",
       "        vertical-align: top;\n",
       "    }\n",
       "\n",
       "    .dataframe thead th {\n",
       "        text-align: right;\n",
       "    }\n",
       "</style>\n",
       "<table border=\"1\" class=\"dataframe\">\n",
       "  <thead>\n",
       "    <tr style=\"text-align: right;\">\n",
       "      <th></th>\n",
       "      <th>price</th>\n",
       "    </tr>\n",
       "  </thead>\n",
       "  <tbody>\n",
       "    <tr>\n",
       "      <th>count</th>\n",
       "      <td>96.000000</td>\n",
       "    </tr>\n",
       "    <tr>\n",
       "      <th>mean</th>\n",
       "      <td>16.440625</td>\n",
       "    </tr>\n",
       "    <tr>\n",
       "      <th>std</th>\n",
       "      <td>4.090266</td>\n",
       "    </tr>\n",
       "    <tr>\n",
       "      <th>min</th>\n",
       "      <td>9.750000</td>\n",
       "    </tr>\n",
       "    <tr>\n",
       "      <th>25%</th>\n",
       "      <td>12.500000</td>\n",
       "    </tr>\n",
       "    <tr>\n",
       "      <th>50%</th>\n",
       "      <td>16.250000</td>\n",
       "    </tr>\n",
       "    <tr>\n",
       "      <th>75%</th>\n",
       "      <td>20.250000</td>\n",
       "    </tr>\n",
       "    <tr>\n",
       "      <th>max</th>\n",
       "      <td>35.950000</td>\n",
       "    </tr>\n",
       "  </tbody>\n",
       "</table>\n",
       "</div>"
      ],
      "text/plain": [
       "           price\n",
       "count  96.000000\n",
       "mean   16.440625\n",
       "std     4.090266\n",
       "min     9.750000\n",
       "25%    12.500000\n",
       "50%    16.250000\n",
       "75%    20.250000\n",
       "max    35.950000"
      ]
     },
     "execution_count": 7,
     "metadata": {},
     "output_type": "execute_result"
    }
   ],
   "source": [
    "pizzas.describe()"
   ]
  },
  {
   "cell_type": "code",
   "execution_count": 8,
   "id": "43d6559f-cf31-4079-b1f1-1e8eb92a15da",
   "metadata": {
    "collapsed": false,
    "executionCancelledAt": null,
    "executionTime": 51,
    "jupyter": {
     "outputs_hidden": false,
     "source_hidden": true
    },
    "lastExecutedAt": 1718976561317,
    "lastExecutedByKernel": "8bf0682e-e275-47e8-9836-fae1c07588aa",
    "lastScheduledRunId": null,
    "lastSuccessfullyExecutedCode": "pizza_types.describe()",
    "outputsMetadata": {
     "0": {
      "height": 550,
      "tableState": {},
      "type": "dataFrame"
     }
    }
   },
   "outputs": [
    {
     "data": {
      "application/com.datacamp.data-table.v2+json": {
       "table": {
        "data": {
         "category": [
          32,
          4,
          "Supreme",
          9
         ],
         "index": [
          "count",
          "unique",
          "top",
          "freq"
         ],
         "ingredients": [
          32,
          32,
          "Barbecued Chicken, Red Peppers, Green Peppers, Tomatoes, Red Onions, Barbecue Sauce",
          1
         ],
         "name": [
          32,
          32,
          "The Barbecue Chicken Pizza",
          1
         ],
         "pizza_type_id": [
          32,
          32,
          "bbq_ckn",
          1
         ]
        },
        "schema": {
         "fields": [
          {
           "name": "index",
           "type": "string"
          },
          {
           "name": "pizza_type_id",
           "type": "string"
          },
          {
           "name": "name",
           "type": "string"
          },
          {
           "name": "category",
           "type": "string"
          },
          {
           "name": "ingredients",
           "type": "string"
          }
         ],
         "pandas_version": "1.4.0",
         "primaryKey": [
          "index"
         ]
        }
       },
       "total_rows": 4,
       "truncation_type": null
      },
      "text/html": [
       "<div>\n",
       "<style scoped>\n",
       "    .dataframe tbody tr th:only-of-type {\n",
       "        vertical-align: middle;\n",
       "    }\n",
       "\n",
       "    .dataframe tbody tr th {\n",
       "        vertical-align: top;\n",
       "    }\n",
       "\n",
       "    .dataframe thead th {\n",
       "        text-align: right;\n",
       "    }\n",
       "</style>\n",
       "<table border=\"1\" class=\"dataframe\">\n",
       "  <thead>\n",
       "    <tr style=\"text-align: right;\">\n",
       "      <th></th>\n",
       "      <th>pizza_type_id</th>\n",
       "      <th>name</th>\n",
       "      <th>category</th>\n",
       "      <th>ingredients</th>\n",
       "    </tr>\n",
       "  </thead>\n",
       "  <tbody>\n",
       "    <tr>\n",
       "      <th>count</th>\n",
       "      <td>32</td>\n",
       "      <td>32</td>\n",
       "      <td>32</td>\n",
       "      <td>32</td>\n",
       "    </tr>\n",
       "    <tr>\n",
       "      <th>unique</th>\n",
       "      <td>32</td>\n",
       "      <td>32</td>\n",
       "      <td>4</td>\n",
       "      <td>32</td>\n",
       "    </tr>\n",
       "    <tr>\n",
       "      <th>top</th>\n",
       "      <td>bbq_ckn</td>\n",
       "      <td>The Barbecue Chicken Pizza</td>\n",
       "      <td>Supreme</td>\n",
       "      <td>Barbecued Chicken, Red Peppers, Green Peppers,...</td>\n",
       "    </tr>\n",
       "    <tr>\n",
       "      <th>freq</th>\n",
       "      <td>1</td>\n",
       "      <td>1</td>\n",
       "      <td>9</td>\n",
       "      <td>1</td>\n",
       "    </tr>\n",
       "  </tbody>\n",
       "</table>\n",
       "</div>"
      ],
      "text/plain": [
       "       pizza_type_id  ...                                        ingredients\n",
       "count             32  ...                                                 32\n",
       "unique            32  ...                                                 32\n",
       "top          bbq_ckn  ...  Barbecued Chicken, Red Peppers, Green Peppers,...\n",
       "freq               1  ...                                                  1\n",
       "\n",
       "[4 rows x 4 columns]"
      ]
     },
     "execution_count": 8,
     "metadata": {},
     "output_type": "execute_result"
    }
   ],
   "source": [
    "pizza_types.describe()"
   ]
  },
  {
   "cell_type": "code",
   "execution_count": 9,
   "id": "31f126ec-ed36-4158-9cf2-8a96be73ba3a",
   "metadata": {
    "collapsed": false,
    "executionCancelledAt": null,
    "executionTime": 52,
    "jupyter": {
     "outputs_hidden": false,
     "source_hidden": true
    },
    "lastExecutedAt": 1718976561370,
    "lastExecutedByKernel": "8bf0682e-e275-47e8-9836-fae1c07588aa",
    "lastScheduledRunId": null,
    "lastSuccessfullyExecutedCode": "order_details.describe()",
    "outputsMetadata": {
     "0": {
      "height": 550,
      "tableState": {},
      "type": "dataFrame"
     }
    }
   },
   "outputs": [
    {
     "data": {
      "application/com.datacamp.data-table.v2+json": {
       "table": {
        "data": {
         "index": [
          "count",
          "mean",
          "std",
          "min",
          "25%",
          "50%",
          "75%",
          "max"
         ],
         "order_details_id": [
          48620,
          24310.5,
          14035.5293808249,
          1,
          12155.75,
          24310.5,
          36465.25,
          48620
         ],
         "order_id": [
          48620,
          10701.4797614151,
          6180.1197703776,
          1,
          5337,
          10682.5,
          16100,
          21350
         ],
         "quantity": [
          48620,
          1.0196215549,
          0.1430770093,
          1,
          1,
          1,
          1,
          4
         ]
        },
        "schema": {
         "fields": [
          {
           "name": "index",
           "type": "string"
          },
          {
           "name": "order_details_id",
           "type": "number"
          },
          {
           "name": "order_id",
           "type": "number"
          },
          {
           "name": "quantity",
           "type": "number"
          }
         ],
         "pandas_version": "1.4.0",
         "primaryKey": [
          "index"
         ]
        }
       },
       "total_rows": 8,
       "truncation_type": null
      },
      "text/html": [
       "<div>\n",
       "<style scoped>\n",
       "    .dataframe tbody tr th:only-of-type {\n",
       "        vertical-align: middle;\n",
       "    }\n",
       "\n",
       "    .dataframe tbody tr th {\n",
       "        vertical-align: top;\n",
       "    }\n",
       "\n",
       "    .dataframe thead th {\n",
       "        text-align: right;\n",
       "    }\n",
       "</style>\n",
       "<table border=\"1\" class=\"dataframe\">\n",
       "  <thead>\n",
       "    <tr style=\"text-align: right;\">\n",
       "      <th></th>\n",
       "      <th>order_details_id</th>\n",
       "      <th>order_id</th>\n",
       "      <th>quantity</th>\n",
       "    </tr>\n",
       "  </thead>\n",
       "  <tbody>\n",
       "    <tr>\n",
       "      <th>count</th>\n",
       "      <td>48620.000000</td>\n",
       "      <td>48620.000000</td>\n",
       "      <td>48620.000000</td>\n",
       "    </tr>\n",
       "    <tr>\n",
       "      <th>mean</th>\n",
       "      <td>24310.500000</td>\n",
       "      <td>10701.479761</td>\n",
       "      <td>1.019622</td>\n",
       "    </tr>\n",
       "    <tr>\n",
       "      <th>std</th>\n",
       "      <td>14035.529381</td>\n",
       "      <td>6180.119770</td>\n",
       "      <td>0.143077</td>\n",
       "    </tr>\n",
       "    <tr>\n",
       "      <th>min</th>\n",
       "      <td>1.000000</td>\n",
       "      <td>1.000000</td>\n",
       "      <td>1.000000</td>\n",
       "    </tr>\n",
       "    <tr>\n",
       "      <th>25%</th>\n",
       "      <td>12155.750000</td>\n",
       "      <td>5337.000000</td>\n",
       "      <td>1.000000</td>\n",
       "    </tr>\n",
       "    <tr>\n",
       "      <th>50%</th>\n",
       "      <td>24310.500000</td>\n",
       "      <td>10682.500000</td>\n",
       "      <td>1.000000</td>\n",
       "    </tr>\n",
       "    <tr>\n",
       "      <th>75%</th>\n",
       "      <td>36465.250000</td>\n",
       "      <td>16100.000000</td>\n",
       "      <td>1.000000</td>\n",
       "    </tr>\n",
       "    <tr>\n",
       "      <th>max</th>\n",
       "      <td>48620.000000</td>\n",
       "      <td>21350.000000</td>\n",
       "      <td>4.000000</td>\n",
       "    </tr>\n",
       "  </tbody>\n",
       "</table>\n",
       "</div>"
      ],
      "text/plain": [
       "       order_details_id      order_id      quantity\n",
       "count      48620.000000  48620.000000  48620.000000\n",
       "mean       24310.500000  10701.479761      1.019622\n",
       "std        14035.529381   6180.119770      0.143077\n",
       "min            1.000000      1.000000      1.000000\n",
       "25%        12155.750000   5337.000000      1.000000\n",
       "50%        24310.500000  10682.500000      1.000000\n",
       "75%        36465.250000  16100.000000      1.000000\n",
       "max        48620.000000  21350.000000      4.000000"
      ]
     },
     "execution_count": 9,
     "metadata": {},
     "output_type": "execute_result"
    }
   ],
   "source": [
    "order_details.describe()"
   ]
  },
  {
   "cell_type": "markdown",
   "id": "8660f6bd-b858-4867-b979-529e0f18f969",
   "metadata": {},
   "source": [
    "## 1. How many customers do we have each day? Are there any peak hours?"
   ]
  },
  {
   "cell_type": "markdown",
   "id": "c5ffc4d3-7cd6-4e7a-9ee2-7a900839eb26",
   "metadata": {},
   "source": [
    "Since there's no registration of customers of any type, I'll consider the orders to answer this question. So I'll only use the order data which already contains the order id and date and time."
   ]
  },
  {
   "cell_type": "code",
   "execution_count": 10,
   "id": "9bfa446d-1782-4a88-ae94-b157848bea8c",
   "metadata": {
    "collapsed": false,
    "executionCancelledAt": null,
    "executionTime": 51,
    "jupyter": {
     "outputs_hidden": false,
     "source_hidden": false
    },
    "lastExecutedAt": 1718976561421,
    "lastExecutedByKernel": "8bf0682e-e275-47e8-9836-fae1c07588aa",
    "lastScheduledRunId": null,
    "lastSuccessfullyExecutedCode": "# to get the number of order per day i'll divide the total count of order by the number of unique days we have in the data \n# and round it!\norder_per_day = len(order.order_id)/len(order.date.unique())\nprint('Number of orders per day : ',round(order_per_day,0))",
    "outputsMetadata": {
     "0": {
      "height": 38,
      "type": "stream"
     }
    }
   },
   "outputs": [
    {
     "name": "stdout",
     "output_type": "stream",
     "text": [
      "Number of orders per day :  60.0\n"
     ]
    }
   ],
   "source": [
    "# to get the number of order per day i'll divide the total count of order by the number of unique days we have in the data \n",
    "# and round it!\n",
    "order_per_day = len(order.order_id)/len(order.date.unique())\n",
    "print('Number of orders per day : ',round(order_per_day,0))"
   ]
  },
  {
   "cell_type": "markdown",
   "id": "e067418d-60c6-4982-be67-dcb9d11dc9a3",
   "metadata": {},
   "source": [
    "The pizza place had a mean of 60 orders a day during 2015"
   ]
  },
  {
   "cell_type": "code",
   "execution_count": 11,
   "id": "35da558f-6bd1-4aa0-aa14-9be187890fce",
   "metadata": {
    "collapsed": false,
    "executionCancelledAt": null,
    "executionTime": 433,
    "jupyter": {
     "outputs_hidden": false,
     "source_hidden": false
    },
    "lastExecutedAt": 1718976561855,
    "lastExecutedByKernel": "8bf0682e-e275-47e8-9836-fae1c07588aa",
    "lastScheduledRunId": null,
    "lastSuccessfullyExecutedCode": "#plotting the sales by time\norder.time.sort_values().value_counts(sort=False).plot()\nplt.title('Sales distribution per time')\nplt.show()"
   },
   "outputs": [
    {
     "data": {
      "image/png": "[encoded data removed]",
      "text/plain": [
       "<Figure size 640x480 with 1 Axes>"
      ]
     },
     "metadata": {
      "image/png": {
       "height": 434,
       "width": 543
      }
     },
     "output_type": "display_data"
    }
   ],
   "source": [
    "#plotting the sales by time\n",
    "order.time.sort_values().value_counts(sort=False).plot()\n",
    "plt.title('Sales distribution per time')\n",
    "plt.show()"
   ]
  },
  {
   "cell_type": "markdown",
   "id": "a3e517c1-5184-4d1f-9fcf-05a41f1cc202",
   "metadata": {},
   "source": [
    "## 2. How many pizzas are tipically in an order? Do we have any bestsellers?"
   ]
  },
  {
   "cell_type": "code",
   "execution_count": 12,
   "id": "a1b8a86e-6bab-4c61-92bb-ee8cdef09778",
   "metadata": {
    "collapsed": false,
    "executionCancelledAt": null,
    "executionTime": 51,
    "jupyter": {
     "outputs_hidden": false,
     "source_hidden": true
    },
    "lastExecutedAt": 1718976561906,
    "lastExecutedByKernel": "8bf0682e-e275-47e8-9836-fae1c07588aa",
    "lastScheduledRunId": null,
    "lastSuccessfullyExecutedCode": "pizza_mean = round(order_details.quantity.sum()/len(order),0)\nprint('The mean number of pizzas per order : ',pizza_mean)",
    "outputsMetadata": {
     "0": {
      "height": 38,
      "type": "stream"
     }
    }
   },
   "outputs": [
    {
     "name": "stdout",
     "output_type": "stream",
     "text": [
      "The mean number of pizzas per order :  2.0\n"
     ]
    }
   ],
   "source": [
    "pizza_mean = round(order_details.quantity.sum()/len(order),0)\n",
    "print('The mean number of pizzas per order : ',pizza_mean)"
   ]
  },
  {
   "cell_type": "code",
   "execution_count": 13,
   "id": "59be2d74-32da-4238-926b-f75f77414d2e",
   "metadata": {
    "collapsed": false,
    "executionCancelledAt": null,
    "executionTime": 47,
    "jupyter": {
     "outputs_hidden": false,
     "source_hidden": false
    },
    "lastExecutedAt": 1718976561953,
    "lastExecutedByKernel": "8bf0682e-e275-47e8-9836-fae1c07588aa",
    "lastScheduledRunId": null,
    "lastSuccessfullyExecutedCode": "# joining the order details and the pizza df's to get more data about the orders\nordered_pizzas = order_details.merge(pizzas, on='pizza_id')\nordered_pizzas['total_price'] = ordered_pizzas.quantity * ordered_pizzas.price"
   },
   "outputs": [],
   "source": [
    "# joining the order details and the pizza df's to get more data about the orders\n",
    "ordered_pizzas = order_details.merge(pizzas, on='pizza_id')\n",
    "ordered_pizzas['total_price'] = ordered_pizzas.quantity * ordered_pizzas.price"
   ]
  },
  {
   "cell_type": "code",
   "execution_count": 14,
   "id": "0b36b0b6-b42c-4ca1-9a12-065addb29d9e",
   "metadata": {
    "collapsed": false,
    "executionCancelledAt": null,
    "executionTime": 57,
    "jupyter": {
     "outputs_hidden": false,
     "source_hidden": false
    },
    "lastExecutedAt": 1718976562011,
    "lastExecutedByKernel": "8bf0682e-e275-47e8-9836-fae1c07588aa",
    "lastScheduledRunId": null,
    "lastSuccessfullyExecutedCode": "# using the merged data to gete the best seller by quantity\nbest_seller_type_id = ordered_pizzas.groupby('pizza_type_id')['quantity'].sum().sort_values(ascending=False).index[0]\nbest_seller = pizza_types[pizza_types['pizza_type_id']==best_seller_type_id]['name'].iloc[0]\nprint('The best seller pizza is ',best_seller)",
    "outputsMetadata": {
     "0": {
      "height": 38,
      "type": "stream"
     }
    }
   },
   "outputs": [
    {
     "name": "stdout",
     "output_type": "stream",
     "text": [
      "The best seller pizza is  The Classic Deluxe Pizza\n"
     ]
    }
   ],
   "source": [
    "# using the merged data to gete the best seller by quantity\n",
    "best_seller_type_id = ordered_pizzas.groupby('pizza_type_id')['quantity'].sum().sort_values(ascending=False).index[0]\n",
    "best_seller = pizza_types[pizza_types['pizza_type_id']==best_seller_type_id]['name'].iloc[0]\n",
    "print('The best seller pizza is ',best_seller)"
   ]
  },
  {
   "cell_type": "markdown",
   "id": "f2100057-769e-4076-98d3-78bae9adec27",
   "metadata": {
    "collapsed": false,
    "jupyter": {
     "outputs_hidden": false,
     "source_hidden": false
    }
   },
   "source": [
    "The mean number of pizzas per order is 2, and the best seller is The Classic Deluxe Pizza"
   ]
  },
  {
   "cell_type": "markdown",
   "id": "a3eac9e4-fd8a-4f0f-8ebb-94ed95694d9c",
   "metadata": {},
   "source": [
    "## 3. How much money did we make this year? Can we identify any seasonality in sales?"
   ]
  },
  {
   "cell_type": "code",
   "execution_count": 15,
   "id": "50cad451-8ab6-41c6-a527-9ac588720136",
   "metadata": {
    "collapsed": false,
    "executionCancelledAt": null,
    "executionTime": 50,
    "jupyter": {
     "outputs_hidden": false,
     "source_hidden": true
    },
    "lastExecutedAt": 1718976562061,
    "lastExecutedByKernel": "8bf0682e-e275-47e8-9836-fae1c07588aa",
    "lastScheduledRunId": null,
    "lastSuccessfullyExecutedCode": "revenue2015 = ordered_pizzas['total_price'].sum()\nprint('The total money made in 2015 with the pizzas was ',round(revenue2015,2))",
    "outputsMetadata": {
     "0": {
      "height": 38,
      "type": "stream"
     }
    }
   },
   "outputs": [
    {
     "name": "stdout",
     "output_type": "stream",
     "text": [
      "The total money made in 2015 with the pizzas was  817860.05\n"
     ]
    }
   ],
   "source": [
    "revenue2015 = ordered_pizzas['total_price'].sum()\n",
    "print('The total money made in 2015 with the pizzas was ',round(revenue2015,2))"
   ]
  },
  {
   "cell_type": "markdown",
   "id": "d11612de-df67-4331-8872-2cd180de60aa",
   "metadata": {},
   "source": [
    "The total amount of money made with the pizza sales was $817860,05 in the year 2015"
   ]
  },
  {
   "cell_type": "code",
   "execution_count": 16,
   "id": "7894d277-6936-473e-9e4a-3ced48b73134",
   "metadata": {
    "collapsed": false,
    "executionCancelledAt": null,
    "executionTime": 264,
    "jupyter": {
     "outputs_hidden": false,
     "source_hidden": false
    },
    "lastExecutedAt": 1718976562325,
    "lastExecutedByKernel": "8bf0682e-e275-47e8-9836-fae1c07588aa",
    "lastScheduledRunId": null,
    "lastSuccessfullyExecutedCode": "# to make the visualization clear i resampled the date monthly\norder.resample('M',on='date')['order_id'].count().plot()",
    "outputsMetadata": {
     "0": {
      "height": 38,
      "type": "stream"
     }
    }
   },
   "outputs": [
    {
     "data": {
      "text/plain": [
       "<AxesSubplot: xlabel='date'>"
      ]
     },
     "execution_count": 16,
     "metadata": {},
     "output_type": "execute_result"
    },
    {
     "data": {
      "image/png": "[encoded data removed]",
      "text/plain": [
       "<Figure size 640x480 with 1 Axes>"
      ]
     },
     "metadata": {
      "image/png": {
       "height": 448,
       "width": 570
      }
     },
     "output_type": "display_data"
    }
   ],
   "source": [
    "# to make the visualization clear i resampled the date monthly\n",
    "order.resample('M',on='date')['order_id'].count().plot()"
   ]
  },
  {
   "cell_type": "markdown",
   "id": "7a0eca90-7e30-4d57-8f1c-fe80efe6f182",
   "metadata": {},
   "source": [
    "We have a raise by the end of June going to its peak in July, but then falling drastically to September and October. The sales in February were also way less comparing to the rest"
   ]
  },
  {
   "cell_type": "markdown",
   "id": "8b17dabf-87ae-4919-a168-6ab5d79cc521",
   "metadata": {},
   "source": [
    "## 4. Are there any pizzas we should take of the menu, or any promotions we could leverage?"
   ]
  },
  {
   "cell_type": "markdown",
   "id": "443807e4-003e-4f11-8957-7bd97e3e3f79",
   "metadata": {
    "collapsed": false,
    "jupyter": {
     "outputs_hidden": false,
     "source_hidden": false
    }
   },
   "source": [
    "As showed below there's almost a group division around each 500's sales. And the only one that stands under 500 sales is brie carre, which also have a much higher mean price than the rest."
   ]
  },
  {
   "cell_type": "code",
   "execution_count": 17,
   "id": "30a673e6-883e-40fc-ae17-591a34a4e46f",
   "metadata": {
    "collapsed": false,
    "executionCancelledAt": null,
    "executionTime": 165,
    "jupyter": {
     "outputs_hidden": false,
     "source_hidden": true
    },
    "lastExecutedAt": 1718976562490,
    "lastExecutedByKernel": "8bf0682e-e275-47e8-9836-fae1c07588aa",
    "lastScheduledRunId": null,
    "lastSuccessfullyExecutedCode": "# Group the data by pizza_type and calculate the count and mean price\npizza_type_counts = ordered_pizzas.groupby('pizza_type_id').agg(count=('pizza_type_id', 'count'), mean_price=('price', 'mean')).reset_index()\n\n# Sort the dataframe by count in descending order\npizza_type_counts = pizza_type_counts.sort_values('count', ascending=True)\n\n# Create the vertical bar plot using plotly\nfig = px.bar(pizza_type_counts, y='pizza_type_id', x='count', color='mean_price', title='Pizza Sold per Pizza Type', labels={'pizza_type_id': 'Pizza Type', 'count': 'Quantity Sold', 'mean_price': 'Mean Price'}, color_continuous_scale='inferno_r', orientation='h',height=650)\n\n# Update the color of the grid lines and increase the grid size\nfig.update_xaxes(showgrid=True, gridcolor='rgba(0, 0, 0, 0.4)', gridwidth=1.5)\nfig.update_yaxes(showgrid=True, gridcolor='rgba(0, 0, 0, 0.2)', gridwidth=1.5)\n\nfig.show()",
    "outputsMetadata": {
     "0": {
      "height": 467,
      "type": "plotly"
     }
    }
   },
   "outputs": [
    {
     "data": {
      "application/vnd.plotly.v1+json": {
       "config": {
        "displaylogo": false,
        "plotlyServerURL": "https://plot.ly",
        "toImageButtonOptions": {
         "filename": "DataLab plot",
         "format": "png",
         "height": 500,
         "scale": 2,
         "width": 700
        }
       },
       "data": [
        {
         "alignmentgroup": "True",
         "hovertemplate": "Quantity Sold=%{x}<br>Pizza Type=%{y}<br>Mean Price=%{marker.color}<extra></extra>",
         "legendgroup": "",
         "marker": {
          "color": [
           23.65,
           16.42795232936078,
           17.005124056094928,
           16.08936170212766,
           16.07967607105538,
           17.077063740856843,
           17.153746097814775,
           16.33923076923077,
           17.12142857142857,
           14.001519756838906,
           13.865126676602086,
           18.5,
           20.035633001422475,
           17.42680339462518,
           17.637834036568215,
           16.582457983193276,
           16.07629189944134,
           16.437284631288765,
           18.02403846153846,
           15.979966887417218,
           12,
           17.76974040021633,
           16.951945945945944,
           18.08050397877984,
           15.963831478537362,
           18.104663487016428,
           17.448523023457863,
           18.28606911447084,
           12.468657661460531,
           13.317194092827004,
           17.57293423271501,
           15.575951986754967
          ],
          "coloraxis": "coloraxis",
          "pattern": {
           "shape": ""
          }
         },
         "name": "",
         "offsetgroup": "",
         "orientation": "h",
         "showlegend": false,
         "textposition": "auto",
         "type": "bar",
         "x": [
          480,
          923,
          927,
          940,
          957,
          957,
          961,
          975,
          980,
          987,
          1342,
          1359,
          1406,
          1414,
          1422,
          1428,
          1432,
          1451,
          1456,
          1510,
          1811,
          1849,
          1850,
          1885,
          1887,
          1887,
          2302,
          2315,
          2369,
          2370,
          2372,
          2416
         ],
         "xaxis": "x",
         "y": [
          "brie_carre",
          "mediterraneo",
          "calabrese",
          "spinach_supr",
          "spin_pesto",
          "soppressata",
          "ckn_pesto",
          "ital_veggie",
          "ckn_alfredo",
          "green_garden",
          "pep_msh_pep",
          "five_cheese",
          "the_greek",
          "ital_cpcllo",
          "peppr_salami",
          "prsc_argla",
          "spinach_fet",
          "napolitana",
          "mexicana",
          "veggie_veg",
          "big_meat",
          "ital_supr",
          "four_cheese",
          "southw_ckn",
          "sicilian",
          "spicy_ital",
          "cali_ckn",
          "thai_ckn",
          "pepperoni",
          "hawaiian",
          "bbq_ckn",
          "classic_dlx"
         ],
         "yaxis": "y"
        }
       ],
       "layout": {
        "barmode": "relative",
        "coloraxis": {
         "colorbar": {
          "title": {
           "text": "Mean Price"
          }
         },
         "colorscale": [
          [
           0,
           "#fcffa4"
          ],
          [
           0.1111111111111111,
           "#f7d13d"
          ],
          [
           0.2222222222222222,
           "#fb9b06"
          ],
          [
           0.3333333333333333,
           "#ed6925"
          ],
          [
           0.4444444444444444,
           "#cf4446"
          ],
          [
           0.5555555555555556,
           "#a52c60"
          ],
          [
           0.6666666666666666,
           "#781c6d"
          ],
          [
           0.7777777777777778,
           "#4a0c6b"
          ],
          [
           0.8888888888888888,
           "#1b0c41"
          ],
          [
           1,
           "#000004"
          ]
         ]
        },
        "height": 650,
        "legend": {
         "tracegroupgap": 0
        },
        "template": {
         "data": {
          "bar": [
           {
            "error_x": {
             "color": "#2a3f5f"
            },
            "error_y": {
             "color": "#2a3f5f"
            },
            "marker": {
             "line": {
              "color": "white",
              "width": 0.5
             },
             "pattern": {
              "fillmode": "overlay",
              "size": 10,
              "solidity": 0.2
             }
            },
            "type": "bar"
           }
          ],
          "barpolar": [
           {
            "marker": {
             "line": {
              "color": "white",
              "width": 0.5
             },
             "pattern": {
              "fillmode": "overlay",
              "size": 10,
              "solidity": 0.2
             }
            },
            "type": "barpolar"
           }
          ],
          "carpet": [
           {
            "aaxis": {
             "endlinecolor": "#2a3f5f",
             "gridcolor": "#C8D4E3",
             "linecolor": "#C8D4E3",
             "minorgridcolor": "#C8D4E3",
             "startlinecolor": "#2a3f5f"
            },
            "baxis": {
             "endlinecolor": "#2a3f5f",
             "gridcolor": "#C8D4E3",
             "linecolor": "#C8D4E3",
             "minorgridcolor": "#C8D4E3",
             "startlinecolor": "#2a3f5f"
            },
            "type": "carpet"
           }
          ],
          "choropleth": [
           {
            "colorbar": {
             "outlinewidth": 0,
             "ticks": ""
            },
            "type": "choropleth"
           }
          ],
          "contour": [
           {
            "colorbar": {
             "outlinewidth": 0,
             "ticks": ""
            },
            "colorscale": [
             [
              0,
              "#0d0887"
             ],
             [
              0.1111111111111111,
              "#46039f"
             ],
             [
              0.2222222222222222,
              "#7201a8"
             ],
             [
              0.3333333333333333,
              "#9c179e"
             ],
             [
              0.4444444444444444,
              "#bd3786"
             ],
             [
              0.5555555555555556,
              "#d8576b"
             ],
             [
              0.6666666666666666,
              "#ed7953"
             ],
             [
              0.7777777777777778,
              "#fb9f3a"
             ],
             [
              0.8888888888888888,
              "#fdca26"
             ],
             [
              1,
              "#f0f921"
             ]
            ],
            "type": "contour"
           }
          ],
          "contourcarpet": [
           {
            "colorbar": {
             "outlinewidth": 0,
             "ticks": ""
            },
            "type": "contourcarpet"
           }
          ],
          "heatmap": [
           {
            "colorbar": {
             "outlinewidth": 0,
             "ticks": ""
            },
            "colorscale": [
             [
              0,
              "#0d0887"
             ],
             [
              0.1111111111111111,
              "#46039f"
             ],
             [
              0.2222222222222222,
              "#7201a8"
             ],
             [
              0.3333333333333333,
              "#9c179e"
             ],
             [
              0.4444444444444444,
              "#bd3786"
             ],
             [
              0.5555555555555556,
              "#d8576b"
             ],
             [
              0.6666666666666666,
              "#ed7953"
             ],
             [
              0.7777777777777778,
              "#fb9f3a"
             ],
             [
              0.8888888888888888,
              "#fdca26"
             ],
             [
              1,
              "#f0f921"
             ]
            ],
            "type": "heatmap"
           }
          ],
          "heatmapgl": [
           {
            "colorbar": {
             "outlinewidth": 0,
             "ticks": ""
            },
            "colorscale": [
             [
              0,
              "#0d0887"
             ],
             [
              0.1111111111111111,
              "#46039f"
             ],
             [
              0.2222222222222222,
              "#7201a8"
             ],
             [
              0.3333333333333333,
              "#9c179e"
             ],
             [
              0.4444444444444444,
              "#bd3786"
             ],
             [
              0.5555555555555556,
              "#d8576b"
             ],
             [
              0.6666666666666666,
              "#ed7953"
             ],
             [
              0.7777777777777778,
              "#fb9f3a"
             ],
             [
              0.8888888888888888,
              "#fdca26"
             ],
             [
              1,
              "#f0f921"
             ]
            ],
            "type": "heatmapgl"
           }
          ],
          "histogram": [
           {
            "marker": {
             "pattern": {
              "fillmode": "overlay",
              "size": 10,
              "solidity": 0.2
             }
            },
            "type": "histogram"
           }
          ],
          "histogram2d": [
           {
            "colorbar": {
             "outlinewidth": 0,
             "ticks": ""
            },
            "colorscale": [
             [
              0,
              "#0d0887"
             ],
             [
              0.1111111111111111,
              "#46039f"
             ],
             [
              0.2222222222222222,
              "#7201a8"
             ],
             [
              0.3333333333333333,
              "#9c179e"
             ],
             [
              0.4444444444444444,
              "#bd3786"
             ],
             [
              0.5555555555555556,
              "#d8576b"
             ],
             [
              0.6666666666666666,
              "#ed7953"
             ],
             [
              0.7777777777777778,
              "#fb9f3a"
             ],
             [
              0.8888888888888888,
              "#fdca26"
             ],
             [
              1,
              "#f0f921"
             ]
            ],
            "type": "histogram2d"
           }
          ],
          "histogram2dcontour": [
           {
            "colorbar": {
             "outlinewidth": 0,
             "ticks": ""
            },
            "colorscale": [
             [
              0,
              "#0d0887"
             ],
             [
              0.1111111111111111,
              "#46039f"
             ],
             [
              0.2222222222222222,
              "#7201a8"
             ],
             [
              0.3333333333333333,
              "#9c179e"
             ],
             [
              0.4444444444444444,
              "#bd3786"
             ],
             [
              0.5555555555555556,
              "#d8576b"
             ],
             [
              0.6666666666666666,
              "#ed7953"
             ],
             [
              0.7777777777777778,
              "#fb9f3a"
             ],
             [
              0.8888888888888888,
              "#fdca26"
             ],
             [
              1,
              "#f0f921"
             ]
            ],
            "type": "histogram2dcontour"
           }
          ],
          "mesh3d": [
           {
            "colorbar": {
             "outlinewidth": 0,
             "ticks": ""
            },
            "type": "mesh3d"
           }
          ],
          "parcoords": [
           {
            "line": {
             "colorbar": {
              "outlinewidth": 0,
              "ticks": ""
             }
            },
            "type": "parcoords"
           }
          ],
          "pie": [
           {
            "automargin": true,
            "type": "pie"
           }
          ],
          "scatter": [
           {
            "fillpattern": {
             "fillmode": "overlay",
             "size": 10,
             "solidity": 0.2
            },
            "type": "scatter"
           }
          ],
          "scatter3d": [
           {
            "line": {
             "colorbar": {
              "outlinewidth": 0,
              "ticks": ""
             }
            },
            "marker": {
             "colorbar": {
              "outlinewidth": 0,
              "ticks": ""
             }
            },
            "type": "scatter3d"
           }
          ],
          "scattercarpet": [
           {
            "marker": {
             "colorbar": {
              "outlinewidth": 0,
              "ticks": ""
             }
            },
            "type": "scattercarpet"
           }
          ],
          "scattergeo": [
           {
            "marker": {
             "colorbar": {
              "outlinewidth": 0,
              "ticks": ""
             }
            },
            "type": "scattergeo"
           }
          ],
          "scattergl": [
           {
            "marker": {
             "colorbar": {
              "outlinewidth": 0,
              "ticks": ""
             }
            },
            "type": "scattergl"
           }
          ],
          "scattermapbox": [
           {
            "marker": {
             "colorbar": {
              "outlinewidth": 0,
              "ticks": ""
             }
            },
            "type": "scattermapbox"
           }
          ],
          "scatterpolar": [
           {
            "marker": {
             "colorbar": {
              "outlinewidth": 0,
              "ticks": ""
             }
            },
            "type": "scatterpolar"
           }
          ],
          "scatterpolargl": [
           {
            "marker": {
             "colorbar": {
              "outlinewidth": 0,
              "ticks": ""
             }
            },
            "type": "scatterpolargl"
           }
          ],
          "scatterternary": [
           {
            "marker": {
             "colorbar": {
              "outlinewidth": 0,
              "ticks": ""
             }
            },
            "type": "scatterternary"
           }
          ],
          "surface": [
           {
            "colorbar": {
             "outlinewidth": 0,
             "ticks": ""
            },
            "colorscale": [
             [
              0,
              "#0d0887"
             ],
             [
              0.1111111111111111,
              "#46039f"
             ],
             [
              0.2222222222222222,
              "#7201a8"
             ],
             [
              0.3333333333333333,
              "#9c179e"
             ],
             [
              0.4444444444444444,
              "#bd3786"
             ],
             [
              0.5555555555555556,
              "#d8576b"
             ],
             [
              0.6666666666666666,
              "#ed7953"
             ],
             [
              0.7777777777777778,
              "#fb9f3a"
             ],
             [
              0.8888888888888888,
              "#fdca26"
             ],
             [
              1,
              "#f0f921"
             ]
            ],
            "type": "surface"
           }
          ],
          "table": [
           {
            "cells": {
             "fill": {
              "color": "#EBF0F8"
             },
             "line": {
              "color": "white"
             }
            },
            "header": {
             "fill": {
              "color": "#C8D4E3"
             },
             "line": {
              "color": "white"
             }
            },
            "type": "table"
           }
          ]
         },
         "layout": {
          "annotationdefaults": {
           "arrowcolor": "#2a3f5f",
           "arrowhead": 0,
           "arrowwidth": 1
          },
          "autotypenumbers": "strict",
          "coloraxis": {
           "colorbar": {
            "outlinewidth": 0,
            "ticks": ""
           }
          },
          "colorscale": {
           "diverging": [
            [
             0,
             "#8e0152"
            ],
            [
             0.1,
             "#c51b7d"
            ],
            [
             0.2,
             "#de77ae"
            ],
            [
             0.3,
             "#f1b6da"
            ],
            [
             0.4,
             "#fde0ef"
            ],
            [
             0.5,
             "#f7f7f7"
            ],
            [
             0.6,
             "#e6f5d0"
            ],
            [
             0.7,
             "#b8e186"
            ],
            [
             0.8,
             "#7fbc41"
            ],
            [
             0.9,
             "#4d9221"
            ],
            [
             1,
             "#276419"
            ]
           ],
           "sequential": [
            [
             0,
             "#0d0887"
            ],
            [
             0.1111111111111111,
             "#46039f"
            ],
            [
             0.2222222222222222,
             "#7201a8"
            ],
            [
             0.3333333333333333,
             "#9c179e"
            ],
            [
             0.4444444444444444,
             "#bd3786"
            ],
            [
             0.5555555555555556,
             "#d8576b"
            ],
            [
             0.6666666666666666,
             "#ed7953"
            ],
            [
             0.7777777777777778,
             "#fb9f3a"
            ],
            [
             0.8888888888888888,
             "#fdca26"
            ],
            [
             1,
             "#f0f921"
            ]
           ],
           "sequentialminus": [
            [
             0,
             "#0d0887"
            ],
            [
             0.1111111111111111,
             "#46039f"
            ],
            [
             0.2222222222222222,
             "#7201a8"
            ],
            [
             0.3333333333333333,
             "#9c179e"
            ],
            [
             0.4444444444444444,
             "#bd3786"
            ],
            [
             0.5555555555555556,
             "#d8576b"
            ],
            [
             0.6666666666666666,
             "#ed7953"
            ],
            [
             0.7777777777777778,
             "#fb9f3a"
            ],
            [
             0.8888888888888888,
             "#fdca26"
            ],
            [
             1,
             "#f0f921"
            ]
           ]
          },
          "colorway": [
           "#6568a0",
           "#43d7a4",
           "#4095db",
           "#facc5f",
           "#cae279",
           "#7db64f",
           "#f08083",
           "#5bcdf2",
           "#f099dc",
           "#965858"
          ],
          "font": {
           "color": "#05192D",
           "family": "Studio-Feixen-Sans, Arial, sans-serif"
          },
          "geo": {
           "bgcolor": "white",
           "lakecolor": "white",
           "landcolor": "white",
           "showlakes": true,
           "showland": true,
           "subunitcolor": "#C8D4E3"
          },
          "hoverlabel": {
           "align": "left",
           "font": {
            "family": "Studio-Feixen-Sans, Arial, sans-serif"
           }
          },
          "hovermode": "closest",
          "mapbox": {
           "style": "light"
          },
          "paper_bgcolor": "white",
          "plot_bgcolor": "white",
          "polar": {
           "angularaxis": {
            "gridcolor": "#EBF0F8",
            "linecolor": "#EBF0F8",
            "ticks": ""
           },
           "bgcolor": "white",
           "radialaxis": {
            "gridcolor": "#EBF0F8",
            "linecolor": "#EBF0F8",
            "ticks": ""
           }
          },
          "scene": {
           "xaxis": {
            "backgroundcolor": "white",
            "gridcolor": "#DFE8F3",
            "gridwidth": 2,
            "linecolor": "#EBF0F8",
            "showbackground": true,
            "ticks": "",
            "zerolinecolor": "#EBF0F8"
           },
           "yaxis": {
            "backgroundcolor": "white",
            "gridcolor": "#DFE8F3",
            "gridwidth": 2,
            "linecolor": "#EBF0F8",
            "showbackground": true,
            "ticks": "",
            "zerolinecolor": "#EBF0F8"
           },
           "zaxis": {
            "backgroundcolor": "white",
            "gridcolor": "#DFE8F3",
            "gridwidth": 2,
            "linecolor": "#EBF0F8",
            "showbackground": true,
            "ticks": "",
            "zerolinecolor": "#EBF0F8"
           }
          },
          "shapedefaults": {
           "line": {
            "color": "#2a3f5f"
           }
          },
          "ternary": {
           "aaxis": {
            "gridcolor": "#DFE8F3",
            "linecolor": "#A2B1C6",
            "ticks": ""
           },
           "baxis": {
            "gridcolor": "#DFE8F3",
            "linecolor": "#A2B1C6",
            "ticks": ""
           },
           "bgcolor": "white",
           "caxis": {
            "gridcolor": "#DFE8F3",
            "linecolor": "#A2B1C6",
            "ticks": ""
           }
          },
          "title": {
           "x": 0.05
          },
          "xaxis": {
           "automargin": true,
           "gridcolor": "#EBF0F8",
           "linecolor": "#EBF0F8",
           "ticks": "",
           "title": {
            "standoff": 15
           },
           "zerolinecolor": "#EBF0F8",
           "zerolinewidth": 2
          },
          "yaxis": {
           "automargin": true,
           "gridcolor": "#EBF0F8",
           "linecolor": "#EBF0F8",
           "ticks": "",
           "title": {
            "standoff": 15
           },
           "zerolinecolor": "#EBF0F8",
           "zerolinewidth": 2
          }
         }
        },
        "title": {
         "text": "Pizza Sold per Pizza Type"
        },
        "xaxis": {
         "anchor": "y",
         "domain": [
          0,
          1
         ],
         "gridcolor": "rgba(0, 0, 0, 0.4)",
         "gridwidth": 1.5,
         "showgrid": true,
         "title": {
          "text": "Quantity Sold"
         }
        },
        "yaxis": {
         "anchor": "x",
         "domain": [
          0,
          1
         ],
         "gridcolor": "rgba(0, 0, 0, 0.2)",
         "gridwidth": 1.5,
         "showgrid": true,
         "title": {
          "text": "Pizza Type"
         }
        }
       }
      }
     },
     "metadata": {},
     "output_type": "display_data"
    }
   ],
   "source": [
    "# Group the data by pizza_type and calculate the count and mean price\n",
    "pizza_type_counts = ordered_pizzas.groupby('pizza_type_id').agg(count=('pizza_type_id', 'count'), mean_price=('price', 'mean')).reset_index()\n",
    "\n",
    "# Sort the dataframe by count in descending order\n",
    "pizza_type_counts = pizza_type_counts.sort_values('count', ascending=True)\n",
    "\n",
    "# Create the vertical bar plot using plotly\n",
    "fig = px.bar(pizza_type_counts, y='pizza_type_id', x='count', color='mean_price', title='Pizza Sold per Pizza Type', labels={'pizza_type_id': 'Pizza Type', 'count': 'Quantity Sold', 'mean_price': 'Mean Price'}, color_continuous_scale='inferno_r', orientation='h',height=650)\n",
    "\n",
    "# Update the color of the grid lines and increase the grid size\n",
    "fig.update_xaxes(showgrid=True, gridcolor='rgba(0, 0, 0, 0.4)', gridwidth=1.5)\n",
    "fig.update_yaxes(showgrid=True, gridcolor='rgba(0, 0, 0, 0.2)', gridwidth=1.5)\n",
    "\n",
    "fig.show()"
   ]
  },
  {
   "cell_type": "code",
   "execution_count": 18,
   "id": "4f28b1a0-a982-4e38-bf31-e95acbd87d71",
   "metadata": {
    "collapsed": false,
    "executionCancelledAt": null,
    "executionTime": 52,
    "jupyter": {
     "outputs_hidden": false,
     "source_hidden": false
    },
    "lastExecutedAt": 1718976562542,
    "lastExecutedByKernel": "8bf0682e-e275-47e8-9836-fae1c07588aa",
    "lastScheduledRunId": null,
    "lastSuccessfullyExecutedCode": "# check the sizes for brie carre pizza\npizzas[pizzas['pizza_type_id']=='brie_carre']['size'].value_counts()",
    "outputsMetadata": {
     "0": {
      "height": 50,
      "tableState": {
       "customFilter": {
        "const": {
         "type": "boolean",
         "valid": true,
         "value": true
        },
        "id": "1a58f4b8-4baf-4f9e-80d2-674211f1fb04",
        "nodeType": "const"
       }
      },
      "type": "dataFrame"
     }
    }
   },
   "outputs": [
    {
     "data": {
      "application/com.datacamp.data-table.v2+json": {
       "table": {
        "data": {
         "index": [
          "S"
         ],
         "size": [
          1
         ]
        },
        "schema": {
         "fields": [
          {
           "name": "index",
           "type": "string"
          },
          {
           "name": "size",
           "type": "integer"
          }
         ],
         "pandas_version": "1.4.0",
         "primaryKey": [
          "index"
         ]
        }
       },
       "total_rows": 1,
       "truncation_type": null
      },
      "text/plain": [
       "S    1\n",
       "Name: size, dtype: int64"
      ]
     },
     "execution_count": 18,
     "metadata": {},
     "output_type": "execute_result"
    }
   ],
   "source": [
    "# check the sizes for brie carre pizza\n",
    "pizzas[pizzas['pizza_type_id']=='brie_carre']['size'].value_counts()"
   ]
  },
  {
   "cell_type": "code",
   "execution_count": 19,
   "id": "72d3ad1b-8e65-4065-a112-82be3cdac0b2",
   "metadata": {
    "collapsed": false,
    "executionCancelledAt": null,
    "executionTime": 51,
    "jupyter": {
     "outputs_hidden": false,
     "source_hidden": false
    },
    "lastExecutedAt": 1718976562593,
    "lastExecutedByKernel": "8bf0682e-e275-47e8-9836-fae1c07588aa",
    "lastScheduledRunId": null,
    "lastSuccessfullyExecutedCode": "#mean price per size\npizzas.groupby('size')['price'].mean()",
    "outputsMetadata": {
     "0": {
      "height": 50,
      "tableState": {
       "customFilter": {
        "const": {
         "type": "boolean",
         "valid": true,
         "value": true
        },
        "id": "1a58f4b8-4baf-4f9e-80d2-674211f1fb04",
        "nodeType": "const"
       }
      },
      "type": "dataFrame"
     }
    }
   },
   "outputs": [
    {
     "data": {
      "application/com.datacamp.data-table.v2+json": {
       "table": {
        "data": {
         "price": [
          20.0225806452,
          15.9919354839,
          12.5125,
          25.5,
          35.95
         ],
         "size": [
          "L",
          "M",
          "S",
          "XL",
          "XXL"
         ]
        },
        "schema": {
         "fields": [
          {
           "name": "size",
           "type": "string"
          },
          {
           "name": "price",
           "type": "number"
          }
         ],
         "pandas_version": "1.4.0",
         "primaryKey": [
          "size"
         ]
        }
       },
       "total_rows": 5,
       "truncation_type": null
      },
      "text/plain": [
       "size\n",
       "L      20.022581\n",
       "M      15.991935\n",
       "S      12.512500\n",
       "XL     25.500000\n",
       "XXL    35.950000\n",
       "Name: price, dtype: float64"
      ]
     },
     "execution_count": 19,
     "metadata": {},
     "output_type": "execute_result"
    }
   ],
   "source": [
    "#mean price per size\n",
    "pizzas.groupby('size')['price'].mean()"
   ]
  },
  {
   "cell_type": "code",
   "execution_count": 20,
   "id": "485fa281-3763-4e42-a089-235f67807fe7",
   "metadata": {
    "collapsed": false,
    "executionCancelledAt": null,
    "executionTime": 52,
    "jupyter": {
     "outputs_hidden": false,
     "source_hidden": false
    },
    "lastExecutedAt": 1718976562645,
    "lastExecutedByKernel": "8bf0682e-e275-47e8-9836-fae1c07588aa",
    "lastScheduledRunId": null,
    "lastSuccessfullyExecutedCode": "# Checking if the price has influence in the amount of pizzas sold\n\n# Select the relevant columns from the ordered_pizzas dataframe\ndata = ordered_pizzas[['price', 'quantity']]\n\n# Group the data by price and calculate the sum of quantity for each price\ngrouped_data = data.groupby('price')['quantity'].sum().reset_index()\n\n# Define the dependent variable (y) and independent variable (X)\ny = grouped_data['quantity']\nX = grouped_data['price']\n\n# Add a constant term to the independent variable\nX = sm.add_constant(X)\n\n# Fit the linear regression model\nmodel = sm.OLS(y, X).fit()\n\n# Print the summary of the regression model\nmodel.summary()",
    "outputsMetadata": {
     "0": {
      "height": 134,
      "type": "stream"
     }
    }
   },
   "outputs": [
    {
     "data": {
      "text/html": [
       "<table class=\"simpletable\">\n",
       "<caption>OLS Regression Results</caption>\n",
       "<tr>\n",
       "  <th>Dep. Variable:</th>        <td>quantity</td>     <th>  R-squared:         </th> <td>   0.008</td>\n",
       "</tr>\n",
       "<tr>\n",
       "  <th>Model:</th>                   <td>OLS</td>       <th>  Adj. R-squared:    </th> <td>  -0.035</td>\n",
       "</tr>\n",
       "<tr>\n",
       "  <th>Method:</th>             <td>Least Squares</td>  <th>  F-statistic:       </th> <td>  0.1804</td>\n",
       "</tr>\n",
       "<tr>\n",
       "  <th>Date:</th>             <td>Fri, 21 Jun 2024</td> <th>  Prob (F-statistic):</th>  <td> 0.675</td> \n",
       "</tr>\n",
       "<tr>\n",
       "  <th>Time:</th>                 <td>13:29:22</td>     <th>  Log-Likelihood:    </th> <td> -226.75</td>\n",
       "</tr>\n",
       "<tr>\n",
       "  <th>No. Observations:</th>      <td>    25</td>      <th>  AIC:               </th> <td>   457.5</td>\n",
       "</tr>\n",
       "<tr>\n",
       "  <th>Df Residuals:</th>          <td>    23</td>      <th>  BIC:               </th> <td>   459.9</td>\n",
       "</tr>\n",
       "<tr>\n",
       "  <th>Df Model:</th>              <td>     1</td>      <th>                     </th>     <td> </td>   \n",
       "</tr>\n",
       "<tr>\n",
       "  <th>Covariance Type:</th>      <td>nonrobust</td>    <th>                     </th>     <td> </td>   \n",
       "</tr>\n",
       "</table>\n",
       "<table class=\"simpletable\">\n",
       "<tr>\n",
       "    <td></td>       <th>coef</th>     <th>std err</th>      <th>t</th>      <th>P>|t|</th>  <th>[0.025</th>    <th>0.975]</th>  \n",
       "</tr>\n",
       "<tr>\n",
       "  <th>const</th> <td> 2550.9552</td> <td> 1407.332</td> <td>    1.813</td> <td> 0.083</td> <td> -360.334</td> <td> 5462.244</td>\n",
       "</tr>\n",
       "<tr>\n",
       "  <th>price</th> <td>  -33.3683</td> <td>   78.562</td> <td>   -0.425</td> <td> 0.675</td> <td> -195.885</td> <td>  129.149</td>\n",
       "</tr>\n",
       "</table>\n",
       "<table class=\"simpletable\">\n",
       "<tr>\n",
       "  <th>Omnibus:</th>       <td>17.546</td> <th>  Durbin-Watson:     </th> <td>   2.183</td>\n",
       "</tr>\n",
       "<tr>\n",
       "  <th>Prob(Omnibus):</th> <td> 0.000</td> <th>  Jarque-Bera (JB):  </th> <td>  19.463</td>\n",
       "</tr>\n",
       "<tr>\n",
       "  <th>Skew:</th>          <td> 1.702</td> <th>  Prob(JB):          </th> <td>5.94e-05</td>\n",
       "</tr>\n",
       "<tr>\n",
       "  <th>Kurtosis:</th>      <td> 5.665</td> <th>  Cond. No.          </th> <td>    57.7</td>\n",
       "</tr>\n",
       "</table><br/><br/>Notes:<br/>[1] Standard Errors assume that the covariance matrix of the errors is correctly specified."
      ],
      "text/latex": [
       "\\begin{center}\n",
       "\\begin{tabular}{lclc}\n",
       "\\toprule\n",
       "\\textbf{Dep. Variable:}    &     quantity     & \\textbf{  R-squared:         } &     0.008   \\\\\n",
       "\\textbf{Model:}            &       OLS        & \\textbf{  Adj. R-squared:    } &    -0.035   \\\\\n",
       "\\textbf{Method:}           &  Least Squares   & \\textbf{  F-statistic:       } &    0.1804   \\\\\n",
       "\\textbf{Date:}             & Fri, 21 Jun 2024 & \\textbf{  Prob (F-statistic):} &    0.675    \\\\\n",
       "\\textbf{Time:}             &     13:29:22     & \\textbf{  Log-Likelihood:    } &   -226.75   \\\\\n",
       "\\textbf{No. Observations:} &          25      & \\textbf{  AIC:               } &     457.5   \\\\\n",
       "\\textbf{Df Residuals:}     &          23      & \\textbf{  BIC:               } &     459.9   \\\\\n",
       "\\textbf{Df Model:}         &           1      & \\textbf{                     } &             \\\\\n",
       "\\textbf{Covariance Type:}  &    nonrobust     & \\textbf{                     } &             \\\\\n",
       "\\bottomrule\n",
       "\\end{tabular}\n",
       "\\begin{tabular}{lcccccc}\n",
       "               & \\textbf{coef} & \\textbf{std err} & \\textbf{t} & \\textbf{P$> |$t$|$} & \\textbf{[0.025} & \\textbf{0.975]}  \\\\\n",
       "\\midrule\n",
       "\\textbf{const} &    2550.9552  &     1407.332     &     1.813  &         0.083        &     -360.334    &     5462.244     \\\\\n",
       "\\textbf{price} &     -33.3683  &       78.562     &    -0.425  &         0.675        &     -195.885    &      129.149     \\\\\n",
       "\\bottomrule\n",
       "\\end{tabular}\n",
       "\\begin{tabular}{lclc}\n",
       "\\textbf{Omnibus:}       & 17.546 & \\textbf{  Durbin-Watson:     } &    2.183  \\\\\n",
       "\\textbf{Prob(Omnibus):} &  0.000 & \\textbf{  Jarque-Bera (JB):  } &   19.463  \\\\\n",
       "\\textbf{Skew:}          &  1.702 & \\textbf{  Prob(JB):          } & 5.94e-05  \\\\\n",
       "\\textbf{Kurtosis:}      &  5.665 & \\textbf{  Cond. No.          } &     57.7  \\\\\n",
       "\\bottomrule\n",
       "\\end{tabular}\n",
       "%\\caption{OLS Regression Results}\n",
       "\\end{center}\n",
       "\n",
       "Notes: \\newline\n",
       " [1] Standard Errors assume that the covariance matrix of the errors is correctly specified."
      ],
      "text/plain": [
       "<class 'statsmodels.iolib.summary.Summary'>\n",
       "\"\"\"\n",
       "                            OLS Regression Results                            \n",
       "==============================================================================\n",
       "Dep. Variable:               quantity   R-squared:                       0.008\n",
       "Model:                            OLS   Adj. R-squared:                 -0.035\n",
       "Method:                 Least Squares   F-statistic:                    0.1804\n",
       "Date:                Fri, 21 Jun 2024   Prob (F-statistic):              0.675\n",
       "Time:                        13:29:22   Log-Likelihood:                -226.75\n",
       "No. Observations:                  25   AIC:                             457.5\n",
       "Df Residuals:                      23   BIC:                             459.9\n",
       "Df Model:                           1                                         \n",
       "Covariance Type:            nonrobust                                         \n",
       "==============================================================================\n",
       "                 coef    std err          t      P>|t|      [0.025      0.975]\n",
       "------------------------------------------------------------------------------\n",
       "const       2550.9552   1407.332      1.813      0.083    -360.334    5462.244\n",
       "price        -33.3683     78.562     -0.425      0.675    -195.885     129.149\n",
       "==============================================================================\n",
       "Omnibus:                       17.546   Durbin-Watson:                   2.183\n",
       "Prob(Omnibus):                  0.000   Jarque-Bera (JB):               19.463\n",
       "Skew:                           1.702   Prob(JB):                     5.94e-05\n",
       "Kurtosis:                       5.665   Cond. No.                         57.7\n",
       "==============================================================================\n",
       "\n",
       "Notes:\n",
       "[1] Standard Errors assume that the covariance matrix of the errors is correctly specified.\n",
       "\"\"\""
      ]
     },
     "execution_count": 20,
     "metadata": {},
     "output_type": "execute_result"
    }
   ],
   "source": [
    "# Checking if the price has influence in the amount of pizzas sold\n",
    "\n",
    "# Select the relevant columns from the ordered_pizzas dataframe\n",
    "data = ordered_pizzas[['price', 'quantity']]\n",
    "\n",
    "# Group the data by price and calculate the sum of quantity for each price\n",
    "grouped_data = data.groupby('price')['quantity'].sum().reset_index()\n",
    "\n",
    "# Define the dependent variable (y) and independent variable (X)\n",
    "y = grouped_data['quantity']\n",
    "X = grouped_data['price']\n",
    "\n",
    "# Add a constant term to the independent variable\n",
    "X = sm.add_constant(X)\n",
    "\n",
    "# Fit the linear regression model\n",
    "model = sm.OLS(y, X).fit()\n",
    "\n",
    "# Print the summary of the regression model\n",
    "model.summary()"
   ]
  },
  {
   "cell_type": "markdown",
   "id": "90b957e1-3350-4b30-9ef8-34554acdb482",
   "metadata": {},
   "source": [
    "The brie carre pizza has only the size 'S', and even though the linear regression model found a r-square of only 0.008 for the price explaining the sales, the mean price for pizzas with size 'S' (Small) is 12.5, and the brie carre small pizza is 23.65, almost twice the mean price, which it's also more expensive than the mean of large pizzas."
   ]
  },
  {
   "cell_type": "code",
   "execution_count": 21,
   "id": "6b91318b-0f39-4148-ab47-d57e04997804",
   "metadata": {
    "collapsed": false,
    "executionCancelledAt": null,
    "executionTime": 249,
    "jupyter": {
     "outputs_hidden": false,
     "source_hidden": true
    },
    "lastExecutedAt": 1718976562894,
    "lastExecutedByKernel": "8bf0682e-e275-47e8-9836-fae1c07588aa",
    "lastScheduledRunId": null,
    "lastSuccessfullyExecutedCode": "# check the number of pizza type per size\nsizes = pizzas.groupby('size')['pizza_type_id'].nunique()\nsizes.plot(kind='bar')\nplt.title('Unique pizza types per size')",
    "outputsMetadata": {
     "0": {
      "height": 290,
      "type": "stream"
     }
    }
   },
   "outputs": [
    {
     "data": {
      "text/plain": [
       "Text(0.5, 1.0, 'Unique pizza types per size')"
      ]
     },
     "execution_count": 21,
     "metadata": {},
     "output_type": "execute_result"
    },
    {
     "data": {
      "image/png": "[encoded data removed]",
      "text/plain": [
       "<Figure size 640x480 with 1 Axes>"
      ]
     },
     "metadata": {
      "image/png": {
       "height": 463,
       "width": 542
      }
     },
     "output_type": "display_data"
    }
   ],
   "source": [
    "# check the number of pizza type per size\n",
    "sizes = pizzas.groupby('size')['pizza_type_id'].nunique()\n",
    "sizes.plot(kind='bar')\n",
    "plt.title('Unique pizza types per size')"
   ]
  },
  {
   "cell_type": "code",
   "execution_count": 22,
   "id": "c0b3a82b-9ad8-4b56-88e2-9cf1a416bd03",
   "metadata": {
    "collapsed": false,
    "executionCancelledAt": null,
    "executionTime": 57,
    "jupyter": {
     "outputs_hidden": false,
     "source_hidden": false
    },
    "lastExecutedAt": 1718976562951,
    "lastExecutedByKernel": "8bf0682e-e275-47e8-9836-fae1c07588aa",
    "lastScheduledRunId": null,
    "lastSuccessfullyExecutedCode": "# number of sizes per pizza type\nsizes_per_type = pizzas.groupby('pizza_type_id')['size'].count()\nsizes_per_type",
    "outputsMetadata": {
     "0": {
      "height": 550,
      "tableState": {
       "customFilter": {
        "const": {
         "type": "boolean",
         "valid": true,
         "value": true
        },
        "id": "1a58f4b8-4baf-4f9e-80d2-674211f1fb04",
        "nodeType": "const"
       }
      },
      "type": "dataFrame"
     }
    }
   },
   "outputs": [
    {
     "data": {
      "application/com.datacamp.data-table.v2+json": {
       "table": {
        "data": {
         "pizza_type_id": [
          "bbq_ckn",
          "big_meat",
          "brie_carre",
          "calabrese",
          "cali_ckn",
          "ckn_alfredo",
          "ckn_pesto",
          "classic_dlx",
          "five_cheese",
          "four_cheese",
          "green_garden",
          "hawaiian",
          "ital_cpcllo",
          "ital_supr",
          "ital_veggie",
          "mediterraneo",
          "mexicana",
          "napolitana",
          "pep_msh_pep",
          "pepperoni",
          "peppr_salami",
          "prsc_argla",
          "sicilian",
          "soppressata",
          "southw_ckn",
          "spicy_ital",
          "spin_pesto",
          "spinach_fet",
          "spinach_supr",
          "thai_ckn",
          "the_greek",
          "veggie_veg"
         ],
         "size": [
          3,
          3,
          1,
          3,
          3,
          3,
          3,
          3,
          3,
          3,
          3,
          3,
          3,
          3,
          3,
          3,
          3,
          3,
          3,
          3,
          3,
          3,
          3,
          3,
          3,
          3,
          3,
          3,
          3,
          3,
          5,
          3
         ]
        },
        "schema": {
         "fields": [
          {
           "name": "pizza_type_id",
           "type": "string"
          },
          {
           "name": "size",
           "type": "integer"
          }
         ],
         "pandas_version": "1.4.0",
         "primaryKey": [
          "pizza_type_id"
         ]
        }
       },
       "total_rows": 32,
       "truncation_type": null
      },
      "text/plain": [
       "pizza_type_id\n",
       "bbq_ckn         3\n",
       "big_meat        3\n",
       "brie_carre      1\n",
       "calabrese       3\n",
       "cali_ckn        3\n",
       "ckn_alfredo     3\n",
       "ckn_pesto       3\n",
       "classic_dlx     3\n",
       "five_cheese     3\n",
       "four_cheese     3\n",
       "green_garden    3\n",
       "hawaiian        3\n",
       "ital_cpcllo     3\n",
       "ital_supr       3\n",
       "ital_veggie     3\n",
       "mediterraneo    3\n",
       "mexicana        3\n",
       "napolitana      3\n",
       "pep_msh_pep     3\n",
       "pepperoni       3\n",
       "peppr_salami    3\n",
       "prsc_argla      3\n",
       "sicilian        3\n",
       "soppressata     3\n",
       "southw_ckn      3\n",
       "spicy_ital      3\n",
       "spin_pesto      3\n",
       "spinach_fet     3\n",
       "spinach_supr    3\n",
       "thai_ckn        3\n",
       "the_greek       5\n",
       "veggie_veg      3\n",
       "Name: size, dtype: int64"
      ]
     },
     "execution_count": 22,
     "metadata": {},
     "output_type": "execute_result"
    }
   ],
   "source": [
    "# number of sizes per pizza type\n",
    "sizes_per_type = pizzas.groupby('pizza_type_id')['size'].count()\n",
    "sizes_per_type"
   ]
  },
  {
   "cell_type": "code",
   "execution_count": 23,
   "id": "5922b773-ef5f-4821-acec-4cc9e45deb5f",
   "metadata": {
    "collapsed": false,
    "executionCancelledAt": null,
    "executionTime": 58,
    "jupyter": {
     "outputs_hidden": false,
     "source_hidden": false
    },
    "lastExecutedAt": 1718976563009,
    "lastExecutedByKernel": "8bf0682e-e275-47e8-9836-fae1c07588aa",
    "lastScheduledRunId": null,
    "lastSuccessfullyExecutedCode": "# check for pizzas with size XL and XXL\nxlxxl = pizzas[(pizzas['size']=='XL') | (pizzas['size']=='XXL')]\nxlxxl",
    "outputsMetadata": {
     "0": {
      "height": 50,
      "tableState": {
       "customFilter": {
        "const": {
         "type": "boolean",
         "valid": true,
         "value": true
        },
        "id": "1a58f4b8-4baf-4f9e-80d2-674211f1fb04",
        "nodeType": "const"
       }
      },
      "type": "dataFrame"
     }
    }
   },
   "outputs": [
    {
     "data": {
      "application/com.datacamp.data-table.v2+json": {
       "table": {
        "data": {
         "index": [
          42,
          43
         ],
         "pizza_id": [
          "the_greek_xl",
          "the_greek_xxl"
         ],
         "pizza_type_id": [
          "the_greek",
          "the_greek"
         ],
         "price": [
          25.5,
          35.95
         ],
         "size": [
          "XL",
          "XXL"
         ]
        },
        "schema": {
         "fields": [
          {
           "name": "index",
           "type": "integer"
          },
          {
           "extDtype": "string",
           "name": "pizza_id",
           "type": "any"
          },
          {
           "name": "pizza_type_id",
           "type": "string"
          },
          {
           "name": "size",
           "type": "string"
          },
          {
           "name": "price",
           "type": "number"
          }
         ],
         "pandas_version": "1.4.0",
         "primaryKey": [
          "index"
         ]
        }
       },
       "total_rows": 2,
       "truncation_type": null
      },
      "text/html": [
       "<div>\n",
       "<style scoped>\n",
       "    .dataframe tbody tr th:only-of-type {\n",
       "        vertical-align: middle;\n",
       "    }\n",
       "\n",
       "    .dataframe tbody tr th {\n",
       "        vertical-align: top;\n",
       "    }\n",
       "\n",
       "    .dataframe thead th {\n",
       "        text-align: right;\n",
       "    }\n",
       "</style>\n",
       "<table border=\"1\" class=\"dataframe\">\n",
       "  <thead>\n",
       "    <tr style=\"text-align: right;\">\n",
       "      <th></th>\n",
       "      <th>pizza_id</th>\n",
       "      <th>pizza_type_id</th>\n",
       "      <th>size</th>\n",
       "      <th>price</th>\n",
       "    </tr>\n",
       "  </thead>\n",
       "  <tbody>\n",
       "    <tr>\n",
       "      <th>42</th>\n",
       "      <td>the_greek_xl</td>\n",
       "      <td>the_greek</td>\n",
       "      <td>XL</td>\n",
       "      <td>25.50</td>\n",
       "    </tr>\n",
       "    <tr>\n",
       "      <th>43</th>\n",
       "      <td>the_greek_xxl</td>\n",
       "      <td>the_greek</td>\n",
       "      <td>XXL</td>\n",
       "      <td>35.95</td>\n",
       "    </tr>\n",
       "  </tbody>\n",
       "</table>\n",
       "</div>"
      ],
      "text/plain": [
       "         pizza_id pizza_type_id size  price\n",
       "42   the_greek_xl     the_greek   XL  25.50\n",
       "43  the_greek_xxl     the_greek  XXL  35.95"
      ]
     },
     "execution_count": 23,
     "metadata": {},
     "output_type": "execute_result"
    }
   ],
   "source": [
    "# check for pizzas with size XL and XXL\n",
    "xlxxl = pizzas[(pizzas['size']=='XL') | (pizzas['size']=='XXL')]\n",
    "xlxxl"
   ]
  },
  {
   "cell_type": "markdown",
   "id": "5022f2ae-8c93-4793-abaa-eeab8276ecf9",
   "metadata": {},
   "source": [
    "The Brie carre is the only type of pizza that has only one size and the greek is the only one that have XL an XXL sizes"
   ]
  },
  {
   "cell_type": "code",
   "execution_count": 24,
   "id": "0224c1c3-86b9-482b-a502-df3c4916e30f",
   "metadata": {
    "chartConfig": {
     "bar": {
      "hasRoundedCorners": true,
      "stacked": false
     },
     "groupBy": {
      "field": "size",
      "type": "string"
     },
     "type": "bar",
     "version": "v1",
     "x": {
      "field": "quantity",
      "type": "integer"
     },
     "y": {
      "field": "price",
      "type": "number"
     }
    },
    "collapsed": false,
    "executionCancelledAt": null,
    "executionTime": 262,
    "jupyter": {
     "outputs_hidden": false,
     "source_hidden": true
    },
    "lastExecutedAt": 1718976563271,
    "lastExecutedByKernel": "8bf0682e-e275-47e8-9836-fae1c07588aa",
    "lastScheduledRunId": null,
    "lastSuccessfullyExecutedCode": "#plot the pízzas sales per pizza size\ndata = ordered_pizzas.groupby(\"size\").size().reset_index(name='count')  \n\nsns.barplot(x='size',y='count', data=data)\n\nplt.title('Pizza Sold quantity per pizza size')\nplt.ylabel('Quantity Sold')\nplt.xlabel('Pizza Size')\nplt.xticks(rotation=75)\nplt.show()",
    "outputsMetadata": {
     "0": {
      "height": 194,
      "type": "dataFrame"
     }
    },
    "visualizeDataframe": false
   },
   "outputs": [
    {
     "data": {
      "image/png": "[encoded data removed]",
      "text/plain": [
       "<Figure size 640x480 with 1 Axes>"
      ]
     },
     "metadata": {
      "image/png": {
       "height": 466,
       "width": 585
      }
     },
     "output_type": "display_data"
    }
   ],
   "source": [
    "#plot the pízzas sales per pizza size\n",
    "data = ordered_pizzas.groupby(\"size\").size().reset_index(name='count')  \n",
    "\n",
    "sns.barplot(x='size',y='count', data=data)\n",
    "\n",
    "plt.title('Pizza Sold quantity per pizza size')\n",
    "plt.ylabel('Quantity Sold')\n",
    "plt.xlabel('Pizza Size')\n",
    "plt.xticks(rotation=75)\n",
    "plt.show()"
   ]
  },
  {
   "cell_type": "code",
   "execution_count": 25,
   "id": "5f08cae7-dd17-4a14-8fc3-a1ee704f37ad",
   "metadata": {
    "collapsed": false,
    "executionCancelledAt": null,
    "executionTime": 310,
    "jupyter": {
     "outputs_hidden": false,
     "source_hidden": true
    },
    "lastExecutedAt": 1718976563581,
    "lastExecutedByKernel": "8bf0682e-e275-47e8-9836-fae1c07588aa",
    "lastScheduledRunId": null,
    "lastSuccessfullyExecutedCode": "#plot the pizza sales for pizzas size XL and XXL\n\ndata = ordered_pizzas[(ordered_pizzas['size']=='XL') | (ordered_pizzas['size']=='XXL')].groupby(\"size\").size().reset_index(name='count')  \n\nsns.barplot(x='size',y='count', data=data)\n\nplt.title('XL and XXL Pizzas Sold')\nplt.ylabel('Quantity Sold')\nplt.xlabel('Pizza Size')\nplt.xticks(rotation=75)\nplt.show()"
   },
   "outputs": [
    {
     "data": {
      "image/png": "[encoded data removed]",
      "text/plain": [
       "<Figure size 640x480 with 1 Axes>"
      ]
     },
     "metadata": {
      "image/png": {
       "height": 465,
       "width": 571
      }
     },
     "output_type": "display_data"
    }
   ],
   "source": [
    "#plot the pizza sales for pizzas size XL and XXL\n",
    "\n",
    "data = ordered_pizzas[(ordered_pizzas['size']=='XL') | (ordered_pizzas['size']=='XXL')].groupby(\"size\").size().reset_index(name='count')  \n",
    "\n",
    "sns.barplot(x='size',y='count', data=data)\n",
    "\n",
    "plt.title('XL and XXL Pizzas Sold')\n",
    "plt.ylabel('Quantity Sold')\n",
    "plt.xlabel('Pizza Size')\n",
    "plt.xticks(rotation=75)\n",
    "plt.show()"
   ]
  },
  {
   "cell_type": "markdown",
   "id": "f9daee56-63ad-41d4-9af6-f5e542476f09",
   "metadata": {},
   "source": [
    "The XXL size pizzas (The Greek) sold less than 50 units."
   ]
  },
  {
   "cell_type": "code",
   "execution_count": 26,
   "id": "fd3fc084-4038-4f9d-b449-5d4608a067d9",
   "metadata": {
    "collapsed": false,
    "executionCancelledAt": null,
    "executionTime": 48,
    "jupyter": {
     "outputs_hidden": false,
     "source_hidden": true
    },
    "lastExecutedAt": 1718976563629,
    "lastExecutedByKernel": "8bf0682e-e275-47e8-9836-fae1c07588aa",
    "lastScheduledRunId": null,
    "lastSuccessfullyExecutedCode": "# create a list for all the ingredients used for all pizzas and clear duplicates\ning_list = [x.strip() for i in range(pizza_types['ingredients'].size) for x in pizza_types['ingredients'].tolist()[i].split(',')]\ning_list = list( dict.fromkeys(ing_list) )\ning_list.sort()",
    "outputsMetadata": {
     "0": {
      "height": 193,
      "type": "stream"
     }
    }
   },
   "outputs": [],
   "source": [
    "# create a list for all the ingredients used for all pizzas and clear duplicates\n",
    "ing_list = [x.strip() for i in range(pizza_types['ingredients'].size) for x in pizza_types['ingredients'].tolist()[i].split(',')]\n",
    "ing_list = list( dict.fromkeys(ing_list) )\n",
    "ing_list.sort()"
   ]
  },
  {
   "cell_type": "code",
   "execution_count": 27,
   "id": "da55c616-f2db-461e-a08f-f5e4b14074a6",
   "metadata": {
    "collapsed": false,
    "executionCancelledAt": null,
    "executionTime": 1415,
    "jupyter": {
     "outputs_hidden": false,
     "source_hidden": true
    },
    "lastExecutedAt": 1718976565044,
    "lastExecutedByKernel": "8bf0682e-e275-47e8-9836-fae1c07588aa",
    "lastScheduledRunId": null,
    "lastSuccessfullyExecutedCode": "# Create a dataframe with the ingredients as column and pizza names as rows \n# and store if the pizzas have that ingredient or not\n\npizza_ing = pd.DataFrame()\n\n# Add the pizza names as rows for 'pizza'\npizza_ing['pizza'] = pizza_types['name']\n\n# Add one collumn for ingredient from ing_list\nfor ing in ing_list:\n    pizza_ing[ing] = 2\n\n# Filling the df with 1 if the ingredient is part of that pizza or 0 if not\nfor pizzas in pizza_types.iterrows(): \n    for ingredient in ing_list:\n        if any([x.strip()==ingredient for x in pizzas[1][3].split(',')]):\n            pizza_ing[ingredient][pizza_ing['pizza']==pizzas[1][1]] = 1\n        else:\n            pizza_ing[ingredient][pizza_ing['pizza']==pizzas[1][1]] = 0\n\npizza_ing['num_ing'] = pizza_ing.sum(axis=1)",
    "outputsMetadata": {
     "0": {
      "height": 329,
      "type": "dataFrame"
     },
     "1": {
      "height": 330,
      "type": "dataFrame"
     }
    }
   },
   "outputs": [],
   "source": [
    "# Create a dataframe with the ingredients as column and pizza names as rows \n",
    "# and store if the pizzas have that ingredient or not\n",
    "\n",
    "pizza_ing = pd.DataFrame()\n",
    "\n",
    "# Add the pizza names as rows for 'pizza'\n",
    "pizza_ing['pizza'] = pizza_types['name']\n",
    "\n",
    "# Add one collumn for ingredient from ing_list\n",
    "for ing in ing_list:\n",
    "    pizza_ing[ing] = 2\n",
    "\n",
    "# Filling the df with 1 if the ingredient is part of that pizza or 0 if not\n",
    "for pizzas in pizza_types.iterrows(): \n",
    "    for ingredient in ing_list:\n",
    "        if any([x.strip()==ingredient for x in pizzas[1][3].split(',')]):\n",
    "            pizza_ing[ingredient][pizza_ing['pizza']==pizzas[1][1]] = 1\n",
    "        else:\n",
    "            pizza_ing[ingredient][pizza_ing['pizza']==pizzas[1][1]] = 0\n",
    "\n",
    "pizza_ing['num_ing'] = pizza_ing.sum(axis=1)"
   ]
  },
  {
   "cell_type": "code",
   "execution_count": 28,
   "id": "d387076a-68f8-47d6-b9b3-3194b67df06a",
   "metadata": {
    "collapsed": false,
    "executionCancelledAt": null,
    "executionTime": 125,
    "jupyter": {
     "outputs_hidden": false,
     "source_hidden": true
    },
    "lastExecutedAt": 1718976565170,
    "lastExecutedByKernel": "8bf0682e-e275-47e8-9836-fae1c07588aa",
    "lastScheduledRunId": null,
    "lastSuccessfullyExecutedCode": "# plot a treemap to the number of ingredient for each pizza type\n\nfig = px.treemap(pizza_ing, path=[px.Constant(\"all\"), 'pizza'], values='num_ing',labels={'num_ing': 'Ingredients Count'}, color='num_ing',color_continuous_scale='inferno_r')\nfig.update_layout(title='Number of Ingredients per Pizza')",
    "outputsMetadata": {
     "0": {
      "height": 17,
      "type": "plotly"
     }
    }
   },
   "outputs": [
    {
     "data": {
      "application/vnd.plotly.v1+json": {
       "config": {
        "displaylogo": false,
        "plotlyServerURL": "https://plot.ly",
        "toImageButtonOptions": {
         "filename": "DataLab plot",
         "format": "png",
         "height": 500,
         "scale": 2,
         "width": 700
        }
       },
       "data": [
        {
         "branchvalues": "total",
         "customdata": [
          [
           6
          ],
          [
           4
          ],
          [
           6
          ],
          [
           6
          ],
          [
           7
          ],
          [
           6
          ],
          [
           6
          ],
          [
           5
          ],
          [
           6
          ],
          [
           5
          ],
          [
           6
          ],
          [
           5
          ],
          [
           3
          ],
          [
           6
          ],
          [
           6
          ],
          [
           7
          ],
          [
           7
          ],
          [
           8
          ],
          [
           5
          ],
          [
           6
          ],
          [
           2
          ],
          [
           3
          ],
          [
           3
          ],
          [
           6
          ],
          [
           5
          ],
          [
           8
          ],
          [
           6
          ],
          [
           6
          ],
          [
           8
          ],
          [
           5
          ],
          [
           5
          ],
          [
           8
          ],
          [
           6.038674033149171
          ]
         ],
         "domain": {
          "x": [
           0,
           1
          ],
          "y": [
           0,
           1
          ]
         },
         "hovertemplate": "labels=%{label}<br>num_ing_sum=%{value}<br>parent=%{parent}<br>id=%{id}<br>Ingredients Count=%{color}<extra></extra>",
         "ids": [
          "all/The Barbecue Chicken Pizza",
          "all/The Big Meat Pizza",
          "all/The Brie Carre Pizza",
          "all/The Calabrese Pizza",
          "all/The California Chicken Pizza",
          "all/The Chicken Alfredo Pizza",
          "all/The Chicken Pesto Pizza",
          "all/The Classic Deluxe Pizza",
          "all/The Five Cheese Pizza",
          "all/The Four Cheese Pizza",
          "all/The Greek Pizza",
          "all/The Green Garden Pizza",
          "all/The Hawaiian Pizza",
          "all/The Italian Capocollo Pizza",
          "all/The Italian Supreme Pizza",
          "all/The Italian Vegetables Pizza",
          "all/The Mediterranean Pizza",
          "all/The Mexicana Pizza",
          "all/The Napolitana Pizza",
          "all/The Pepper Salami Pizza",
          "all/The Pepperoni Pizza",
          "all/The Pepperoni, Mushroom, and Peppers Pizza",
          "all/The Prosciutto and Arugula Pizza",
          "all/The Sicilian Pizza",
          "all/The Soppressata Pizza",
          "all/The Southwest Chicken Pizza",
          "all/The Spicy Italian Pizza",
          "all/The Spinach Pesto Pizza",
          "all/The Spinach Supreme Pizza",
          "all/The Spinach and Feta Pizza",
          "all/The Thai Chicken Pizza",
          "all/The Vegetables + Vegetables Pizza",
          "all"
         ],
         "labels": [
          "The Barbecue Chicken Pizza",
          "The Big Meat Pizza",
          "The Brie Carre Pizza",
          "The Calabrese Pizza",
          "The California Chicken Pizza",
          "The Chicken Alfredo Pizza",
          "The Chicken Pesto Pizza",
          "The Classic Deluxe Pizza",
          "The Five Cheese Pizza",
          "The Four Cheese Pizza",
          "The Greek Pizza",
          "The Green Garden Pizza",
          "The Hawaiian Pizza",
          "The Italian Capocollo Pizza",
          "The Italian Supreme Pizza",
          "The Italian Vegetables Pizza",
          "The Mediterranean Pizza",
          "The Mexicana Pizza",
          "The Napolitana Pizza",
          "The Pepper Salami Pizza",
          "The Pepperoni Pizza",
          "The Pepperoni, Mushroom, and Peppers Pizza",
          "The Prosciutto and Arugula Pizza",
          "The Sicilian Pizza",
          "The Soppressata Pizza",
          "The Southwest Chicken Pizza",
          "The Spicy Italian Pizza",
          "The Spinach Pesto Pizza",
          "The Spinach Supreme Pizza",
          "The Spinach and Feta Pizza",
          "The Thai Chicken Pizza",
          "The Vegetables + Vegetables Pizza",
          "all"
         ],
         "marker": {
          "coloraxis": "coloraxis",
          "colors": [
           6,
           4,
           6,
           6,
           7,
           6,
           6,
           5,
           6,
           5,
           6,
           5,
           3,
           6,
           6,
           7,
           7,
           8,
           5,
           6,
           2,
           3,
           3,
           6,
           5,
           8,
           6,
           6,
           8,
           5,
           5,
           8,
           6.038674033149171
          ]
         },
         "name": "",
         "parents": [
          "all",
          "all",
          "all",
          "all",
          "all",
          "all",
          "all",
          "all",
          "all",
          "all",
          "all",
          "all",
          "all",
          "all",
          "all",
          "all",
          "all",
          "all",
          "all",
          "all",
          "all",
          "all",
          "all",
          "all",
          "all",
          "all",
          "all",
          "all",
          "all",
          "all",
          "all",
          "all",
          ""
         ],
         "type": "treemap",
         "values": [
          6,
          4,
          6,
          6,
          7,
          6,
          6,
          5,
          6,
          5,
          6,
          5,
          3,
          6,
          6,
          7,
          7,
          8,
          5,
          6,
          2,
          3,
          3,
          6,
          5,
          8,
          6,
          6,
          8,
          5,
          5,
          8,
          181
         ]
        }
       ],
       "layout": {
        "coloraxis": {
         "colorbar": {
          "title": {
           "text": "Ingredients Count"
          }
         },
         "colorscale": [
          [
           0,
           "#fcffa4"
          ],
          [
           0.1111111111111111,
           "#f7d13d"
          ],
          [
           0.2222222222222222,
           "#fb9b06"
          ],
          [
           0.3333333333333333,
           "#ed6925"
          ],
          [
           0.4444444444444444,
           "#cf4446"
          ],
          [
           0.5555555555555556,
           "#a52c60"
          ],
          [
           0.6666666666666666,
           "#781c6d"
          ],
          [
           0.7777777777777778,
           "#4a0c6b"
          ],
          [
           0.8888888888888888,
           "#1b0c41"
          ],
          [
           1,
           "#000004"
          ]
         ]
        },
        "legend": {
         "tracegroupgap": 0
        },
        "margin": {
         "t": 60
        },
        "template": {
         "data": {
          "bar": [
           {
            "error_x": {
             "color": "#2a3f5f"
            },
            "error_y": {
             "color": "#2a3f5f"
            },
            "marker": {
             "line": {
              "color": "white",
              "width": 0.5
             },
             "pattern": {
              "fillmode": "overlay",
              "size": 10,
              "solidity": 0.2
             }
            },
            "type": "bar"
           }
          ],
          "barpolar": [
           {
            "marker": {
             "line": {
              "color": "white",
              "width": 0.5
             },
             "pattern": {
              "fillmode": "overlay",
              "size": 10,
              "solidity": 0.2
             }
            },
            "type": "barpolar"
           }
          ],
          "carpet": [
           {
            "aaxis": {
             "endlinecolor": "#2a3f5f",
             "gridcolor": "#C8D4E3",
             "linecolor": "#C8D4E3",
             "minorgridcolor": "#C8D4E3",
             "startlinecolor": "#2a3f5f"
            },
            "baxis": {
             "endlinecolor": "#2a3f5f",
             "gridcolor": "#C8D4E3",
             "linecolor": "#C8D4E3",
             "minorgridcolor": "#C8D4E3",
             "startlinecolor": "#2a3f5f"
            },
            "type": "carpet"
           }
          ],
          "choropleth": [
           {
            "colorbar": {
             "outlinewidth": 0,
             "ticks": ""
            },
            "type": "choropleth"
           }
          ],
          "contour": [
           {
            "colorbar": {
             "outlinewidth": 0,
             "ticks": ""
            },
            "colorscale": [
             [
              0,
              "#0d0887"
             ],
             [
              0.1111111111111111,
              "#46039f"
             ],
             [
              0.2222222222222222,
              "#7201a8"
             ],
             [
              0.3333333333333333,
              "#9c179e"
             ],
             [
              0.4444444444444444,
              "#bd3786"
             ],
             [
              0.5555555555555556,
              "#d8576b"
             ],
             [
              0.6666666666666666,
              "#ed7953"
             ],
             [
              0.7777777777777778,
              "#fb9f3a"
             ],
             [
              0.8888888888888888,
              "#fdca26"
             ],
             [
              1,
              "#f0f921"
             ]
            ],
            "type": "contour"
           }
          ],
          "contourcarpet": [
           {
            "colorbar": {
             "outlinewidth": 0,
             "ticks": ""
            },
            "type": "contourcarpet"
           }
          ],
          "heatmap": [
           {
            "colorbar": {
             "outlinewidth": 0,
             "ticks": ""
            },
            "colorscale": [
             [
              0,
              "#0d0887"
             ],
             [
              0.1111111111111111,
              "#46039f"
             ],
             [
              0.2222222222222222,
              "#7201a8"
             ],
             [
              0.3333333333333333,
              "#9c179e"
             ],
             [
              0.4444444444444444,
              "#bd3786"
             ],
             [
              0.5555555555555556,
              "#d8576b"
             ],
             [
              0.6666666666666666,
              "#ed7953"
             ],
             [
              0.7777777777777778,
              "#fb9f3a"
             ],
             [
              0.8888888888888888,
              "#fdca26"
             ],
             [
              1,
              "#f0f921"
             ]
            ],
            "type": "heatmap"
           }
          ],
          "heatmapgl": [
           {
            "colorbar": {
             "outlinewidth": 0,
             "ticks": ""
            },
            "colorscale": [
             [
              0,
              "#0d0887"
             ],
             [
              0.1111111111111111,
              "#46039f"
             ],
             [
              0.2222222222222222,
              "#7201a8"
             ],
             [
              0.3333333333333333,
              "#9c179e"
             ],
             [
              0.4444444444444444,
              "#bd3786"
             ],
             [
              0.5555555555555556,
              "#d8576b"
             ],
             [
              0.6666666666666666,
              "#ed7953"
             ],
             [
              0.7777777777777778,
              "#fb9f3a"
             ],
             [
              0.8888888888888888,
              "#fdca26"
             ],
             [
              1,
              "#f0f921"
             ]
            ],
            "type": "heatmapgl"
           }
          ],
          "histogram": [
           {
            "marker": {
             "pattern": {
              "fillmode": "overlay",
              "size": 10,
              "solidity": 0.2
             }
            },
            "type": "histogram"
           }
          ],
          "histogram2d": [
           {
            "colorbar": {
             "outlinewidth": 0,
             "ticks": ""
            },
            "colorscale": [
             [
              0,
              "#0d0887"
             ],
             [
              0.1111111111111111,
              "#46039f"
             ],
             [
              0.2222222222222222,
              "#7201a8"
             ],
             [
              0.3333333333333333,
              "#9c179e"
             ],
             [
              0.4444444444444444,
              "#bd3786"
             ],
             [
              0.5555555555555556,
              "#d8576b"
             ],
             [
              0.6666666666666666,
              "#ed7953"
             ],
             [
              0.7777777777777778,
              "#fb9f3a"
             ],
             [
              0.8888888888888888,
              "#fdca26"
             ],
             [
              1,
              "#f0f921"
             ]
            ],
            "type": "histogram2d"
           }
          ],
          "histogram2dcontour": [
           {
            "colorbar": {
             "outlinewidth": 0,
             "ticks": ""
            },
            "colorscale": [
             [
              0,
              "#0d0887"
             ],
             [
              0.1111111111111111,
              "#46039f"
             ],
             [
              0.2222222222222222,
              "#7201a8"
             ],
             [
              0.3333333333333333,
              "#9c179e"
             ],
             [
              0.4444444444444444,
              "#bd3786"
             ],
             [
              0.5555555555555556,
              "#d8576b"
             ],
             [
              0.6666666666666666,
              "#ed7953"
             ],
             [
              0.7777777777777778,
              "#fb9f3a"
             ],
             [
              0.8888888888888888,
              "#fdca26"
             ],
             [
              1,
              "#f0f921"
             ]
            ],
            "type": "histogram2dcontour"
           }
          ],
          "mesh3d": [
           {
            "colorbar": {
             "outlinewidth": 0,
             "ticks": ""
            },
            "type": "mesh3d"
           }
          ],
          "parcoords": [
           {
            "line": {
             "colorbar": {
              "outlinewidth": 0,
              "ticks": ""
             }
            },
            "type": "parcoords"
           }
          ],
          "pie": [
           {
            "automargin": true,
            "type": "pie"
           }
          ],
          "scatter": [
           {
            "fillpattern": {
             "fillmode": "overlay",
             "size": 10,
             "solidity": 0.2
            },
            "type": "scatter"
           }
          ],
          "scatter3d": [
           {
            "line": {
             "colorbar": {
              "outlinewidth": 0,
              "ticks": ""
             }
            },
            "marker": {
             "colorbar": {
              "outlinewidth": 0,
              "ticks": ""
             }
            },
            "type": "scatter3d"
           }
          ],
          "scattercarpet": [
           {
            "marker": {
             "colorbar": {
              "outlinewidth": 0,
              "ticks": ""
             }
            },
            "type": "scattercarpet"
           }
          ],
          "scattergeo": [
           {
            "marker": {
             "colorbar": {
              "outlinewidth": 0,
              "ticks": ""
             }
            },
            "type": "scattergeo"
           }
          ],
          "scattergl": [
           {
            "marker": {
             "colorbar": {
              "outlinewidth": 0,
              "ticks": ""
             }
            },
            "type": "scattergl"
           }
          ],
          "scattermapbox": [
           {
            "marker": {
             "colorbar": {
              "outlinewidth": 0,
              "ticks": ""
             }
            },
            "type": "scattermapbox"
           }
          ],
          "scatterpolar": [
           {
            "marker": {
             "colorbar": {
              "outlinewidth": 0,
              "ticks": ""
             }
            },
            "type": "scatterpolar"
           }
          ],
          "scatterpolargl": [
           {
            "marker": {
             "colorbar": {
              "outlinewidth": 0,
              "ticks": ""
             }
            },
            "type": "scatterpolargl"
           }
          ],
          "scatterternary": [
           {
            "marker": {
             "colorbar": {
              "outlinewidth": 0,
              "ticks": ""
             }
            },
            "type": "scatterternary"
           }
          ],
          "surface": [
           {
            "colorbar": {
             "outlinewidth": 0,
             "ticks": ""
            },
            "colorscale": [
             [
              0,
              "#0d0887"
             ],
             [
              0.1111111111111111,
              "#46039f"
             ],
             [
              0.2222222222222222,
              "#7201a8"
             ],
             [
              0.3333333333333333,
              "#9c179e"
             ],
             [
              0.4444444444444444,
              "#bd3786"
             ],
             [
              0.5555555555555556,
              "#d8576b"
             ],
             [
              0.6666666666666666,
              "#ed7953"
             ],
             [
              0.7777777777777778,
              "#fb9f3a"
             ],
             [
              0.8888888888888888,
              "#fdca26"
             ],
             [
              1,
              "#f0f921"
             ]
            ],
            "type": "surface"
           }
          ],
          "table": [
           {
            "cells": {
             "fill": {
              "color": "#EBF0F8"
             },
             "line": {
              "color": "white"
             }
            },
            "header": {
             "fill": {
              "color": "#C8D4E3"
             },
             "line": {
              "color": "white"
             }
            },
            "type": "table"
           }
          ]
         },
         "layout": {
          "annotationdefaults": {
           "arrowcolor": "#2a3f5f",
           "arrowhead": 0,
           "arrowwidth": 1
          },
          "autotypenumbers": "strict",
          "coloraxis": {
           "colorbar": {
            "outlinewidth": 0,
            "ticks": ""
           }
          },
          "colorscale": {
           "diverging": [
            [
             0,
             "#8e0152"
            ],
            [
             0.1,
             "#c51b7d"
            ],
            [
             0.2,
             "#de77ae"
            ],
            [
             0.3,
             "#f1b6da"
            ],
            [
             0.4,
             "#fde0ef"
            ],
            [
             0.5,
             "#f7f7f7"
            ],
            [
             0.6,
             "#e6f5d0"
            ],
            [
             0.7,
             "#b8e186"
            ],
            [
             0.8,
             "#7fbc41"
            ],
            [
             0.9,
             "#4d9221"
            ],
            [
             1,
             "#276419"
            ]
           ],
           "sequential": [
            [
             0,
             "#0d0887"
            ],
            [
             0.1111111111111111,
             "#46039f"
            ],
            [
             0.2222222222222222,
             "#7201a8"
            ],
            [
             0.3333333333333333,
             "#9c179e"
            ],
            [
             0.4444444444444444,
             "#bd3786"
            ],
            [
             0.5555555555555556,
             "#d8576b"
            ],
            [
             0.6666666666666666,
             "#ed7953"
            ],
            [
             0.7777777777777778,
             "#fb9f3a"
            ],
            [
             0.8888888888888888,
             "#fdca26"
            ],
            [
             1,
             "#f0f921"
            ]
           ],
           "sequentialminus": [
            [
             0,
             "#0d0887"
            ],
            [
             0.1111111111111111,
             "#46039f"
            ],
            [
             0.2222222222222222,
             "#7201a8"
            ],
            [
             0.3333333333333333,
             "#9c179e"
            ],
            [
             0.4444444444444444,
             "#bd3786"
            ],
            [
             0.5555555555555556,
             "#d8576b"
            ],
            [
             0.6666666666666666,
             "#ed7953"
            ],
            [
             0.7777777777777778,
             "#fb9f3a"
            ],
            [
             0.8888888888888888,
             "#fdca26"
            ],
            [
             1,
             "#f0f921"
            ]
           ]
          },
          "colorway": [
           "#6568a0",
           "#43d7a4",
           "#4095db",
           "#facc5f",
           "#cae279",
           "#7db64f",
           "#f08083",
           "#5bcdf2",
           "#f099dc",
           "#965858"
          ],
          "font": {
           "color": "#05192D",
           "family": "Studio-Feixen-Sans, Arial, sans-serif"
          },
          "geo": {
           "bgcolor": "white",
           "lakecolor": "white",
           "landcolor": "white",
           "showlakes": true,
           "showland": true,
           "subunitcolor": "#C8D4E3"
          },
          "hoverlabel": {
           "align": "left",
           "font": {
            "family": "Studio-Feixen-Sans, Arial, sans-serif"
           }
          },
          "hovermode": "closest",
          "mapbox": {
           "style": "light"
          },
          "paper_bgcolor": "white",
          "plot_bgcolor": "white",
          "polar": {
           "angularaxis": {
            "gridcolor": "#EBF0F8",
            "linecolor": "#EBF0F8",
            "ticks": ""
           },
           "bgcolor": "white",
           "radialaxis": {
            "gridcolor": "#EBF0F8",
            "linecolor": "#EBF0F8",
            "ticks": ""
           }
          },
          "scene": {
           "xaxis": {
            "backgroundcolor": "white",
            "gridcolor": "#DFE8F3",
            "gridwidth": 2,
            "linecolor": "#EBF0F8",
            "showbackground": true,
            "ticks": "",
            "zerolinecolor": "#EBF0F8"
           },
           "yaxis": {
            "backgroundcolor": "white",
            "gridcolor": "#DFE8F3",
            "gridwidth": 2,
            "linecolor": "#EBF0F8",
            "showbackground": true,
            "ticks": "",
            "zerolinecolor": "#EBF0F8"
           },
           "zaxis": {
            "backgroundcolor": "white",
            "gridcolor": "#DFE8F3",
            "gridwidth": 2,
            "linecolor": "#EBF0F8",
            "showbackground": true,
            "ticks": "",
            "zerolinecolor": "#EBF0F8"
           }
          },
          "shapedefaults": {
           "line": {
            "color": "#2a3f5f"
           }
          },
          "ternary": {
           "aaxis": {
            "gridcolor": "#DFE8F3",
            "linecolor": "#A2B1C6",
            "ticks": ""
           },
           "baxis": {
            "gridcolor": "#DFE8F3",
            "linecolor": "#A2B1C6",
            "ticks": ""
           },
           "bgcolor": "white",
           "caxis": {
            "gridcolor": "#DFE8F3",
            "linecolor": "#A2B1C6",
            "ticks": ""
           }
          },
          "title": {
           "x": 0.05
          },
          "xaxis": {
           "automargin": true,
           "gridcolor": "#EBF0F8",
           "linecolor": "#EBF0F8",
           "ticks": "",
           "title": {
            "standoff": 15
           },
           "zerolinecolor": "#EBF0F8",
           "zerolinewidth": 2
          },
          "yaxis": {
           "automargin": true,
           "gridcolor": "#EBF0F8",
           "linecolor": "#EBF0F8",
           "ticks": "",
           "title": {
            "standoff": 15
           },
           "zerolinecolor": "#EBF0F8",
           "zerolinewidth": 2
          }
         }
        },
        "title": {
         "text": "Number of Ingredients per Pizza"
        }
       }
      }
     },
     "metadata": {},
     "output_type": "display_data"
    }
   ],
   "source": [
    "# plot a treemap to the number of ingredient for each pizza type\n",
    "\n",
    "fig = px.treemap(pizza_ing, path=[px.Constant(\"all\"), 'pizza'], values='num_ing',labels={'num_ing': 'Ingredients Count'}, color='num_ing',color_continuous_scale='inferno_r')\n",
    "fig.update_layout(title='Number of Ingredients per Pizza')"
   ]
  },
  {
   "cell_type": "markdown",
   "id": "92f85dfd-9d30-46c3-bedb-d44d47894606",
   "metadata": {},
   "source": [
    "The best seller pizza (The Classic Deluxe) has 5 ingredients while the worst seller has 6, so the number of ingredients is not the best way to explain the sales either"
   ]
  },
  {
   "cell_type": "code",
   "execution_count": 29,
   "id": "5eee01c5-ec25-4645-a119-a56a05321b1c",
   "metadata": {
    "collapsed": false,
    "executionCancelledAt": null,
    "executionTime": 1550,
    "jupyter": {
     "outputs_hidden": false,
     "source_hidden": true
    },
    "lastExecutedAt": 1718976566721,
    "lastExecutedByKernel": "8bf0682e-e275-47e8-9836-fae1c07588aa",
    "lastScheduledRunId": null,
    "lastSuccessfullyExecutedCode": "# Create an empty dataframe\ning_df = pd.DataFrame()\n# Add the values of ing_list as a column\ning_df['ingredients'] = ing_list\n# Add one collumn for each pizza name\nfor pizzas in pizza_types.iterrows():\n    ing_df[pizzas[1][1]] = 0\n# Filling the df with 1 if the ingredient is part of that pizza e.g. df[the barbecue chicken pizza][Tomatoes] = 1\nfor ingredient in ing_list:\n    for pizzas in pizza_types.iterrows():\n        if any([x.strip()==ingredient for x in pizzas[1][3].split(',')]):\n            ing_df[pizzas[1][1]][ing_df['ingredients']==ingredient] = 1\n        else:\n            ing_df[pizzas[1][1]][ing_df['ingredients']==ingredient] = 0\n            \ning_df['ing_appear'] = ing_df.sum(axis=1)",
    "outputsMetadata": {
     "0": {
      "height": 329,
      "type": "dataFrame"
     }
    }
   },
   "outputs": [],
   "source": [
    "# Create an empty dataframe\n",
    "ing_df = pd.DataFrame()\n",
    "# Add the values of ing_list as a column\n",
    "ing_df['ingredients'] = ing_list\n",
    "# Add one collumn for each pizza name\n",
    "for pizzas in pizza_types.iterrows():\n",
    "    ing_df[pizzas[1][1]] = 0\n",
    "# Filling the df with 1 if the ingredient is part of that pizza e.g. df[the barbecue chicken pizza][Tomatoes] = 1\n",
    "for ingredient in ing_list:\n",
    "    for pizzas in pizza_types.iterrows():\n",
    "        if any([x.strip()==ingredient for x in pizzas[1][3].split(',')]):\n",
    "            ing_df[pizzas[1][1]][ing_df['ingredients']==ingredient] = 1\n",
    "        else:\n",
    "            ing_df[pizzas[1][1]][ing_df['ingredients']==ingredient] = 0\n",
    "            \n",
    "ing_df['ing_appear'] = ing_df.sum(axis=1)"
   ]
  },
  {
   "cell_type": "code",
   "execution_count": 30,
   "id": "72d6d30a-471c-420a-b66b-33aaef27a9b2",
   "metadata": {
    "executionCancelledAt": null,
    "executionTime": 55,
    "lastExecutedAt": 1718976566777,
    "lastExecutedByKernel": "8bf0682e-e275-47e8-9836-fae1c07588aa",
    "lastScheduledRunId": null,
    "lastSuccessfullyExecutedCode": "pizza_types[pizza_types['name'] == 'The Classic Deluxe Pizza']",
    "outputsMetadata": {
     "0": {
      "height": 50,
      "tableState": {
       "customFilter": {
        "const": {
         "type": "boolean",
         "valid": true,
         "value": true
        },
        "id": "1a58f4b8-4baf-4f9e-80d2-674211f1fb04",
        "nodeType": "const"
       }
      },
      "type": "dataFrame"
     }
    }
   },
   "outputs": [
    {
     "data": {
      "application/com.datacamp.data-table.v2+json": {
       "table": {
        "data": {
         "category": [
          "Classic"
         ],
         "index": [
          7
         ],
         "ingredients": [
          "Pepperoni, Mushrooms, Red Onions, Red Peppers, Bacon"
         ],
         "name": [
          "The Classic Deluxe Pizza"
         ],
         "pizza_type_id": [
          "classic_dlx"
         ]
        },
        "schema": {
         "fields": [
          {
           "name": "index",
           "type": "integer"
          },
          {
           "name": "pizza_type_id",
           "type": "string"
          },
          {
           "name": "name",
           "type": "string"
          },
          {
           "name": "category",
           "type": "string"
          },
          {
           "name": "ingredients",
           "type": "string"
          }
         ],
         "pandas_version": "1.4.0",
         "primaryKey": [
          "index"
         ]
        }
       },
       "total_rows": 1,
       "truncation_type": null
      },
      "text/html": [
       "<div>\n",
       "<style scoped>\n",
       "    .dataframe tbody tr th:only-of-type {\n",
       "        vertical-align: middle;\n",
       "    }\n",
       "\n",
       "    .dataframe tbody tr th {\n",
       "        vertical-align: top;\n",
       "    }\n",
       "\n",
       "    .dataframe thead th {\n",
       "        text-align: right;\n",
       "    }\n",
       "</style>\n",
       "<table border=\"1\" class=\"dataframe\">\n",
       "  <thead>\n",
       "    <tr style=\"text-align: right;\">\n",
       "      <th></th>\n",
       "      <th>pizza_type_id</th>\n",
       "      <th>name</th>\n",
       "      <th>category</th>\n",
       "      <th>ingredients</th>\n",
       "    </tr>\n",
       "  </thead>\n",
       "  <tbody>\n",
       "    <tr>\n",
       "      <th>7</th>\n",
       "      <td>classic_dlx</td>\n",
       "      <td>The Classic Deluxe Pizza</td>\n",
       "      <td>Classic</td>\n",
       "      <td>Pepperoni, Mushrooms, Red Onions, Red Peppers,...</td>\n",
       "    </tr>\n",
       "  </tbody>\n",
       "</table>\n",
       "</div>"
      ],
      "text/plain": [
       "  pizza_type_id  ...                                        ingredients\n",
       "7   classic_dlx  ...  Pepperoni, Mushrooms, Red Onions, Red Peppers,...\n",
       "\n",
       "[1 rows x 4 columns]"
      ]
     },
     "execution_count": 30,
     "metadata": {},
     "output_type": "execute_result"
    }
   ],
   "source": [
    "pizza_types[pizza_types['name'] == 'The Classic Deluxe Pizza']"
   ]
  },
  {
   "cell_type": "markdown",
   "id": "0949036d-9f76-4dcc-aee2-234505b5102e",
   "metadata": {},
   "source": [
    "For promotions, one way to go is the best sellers (more than 2000 units sold), to try make it even more of those ones. The brie carre could also be put in promotion to see if the price is the reason for not selling good, even though the price is not the main criteria for the sales, but in this case we have a limited size categories, and a price much higher than the mean for small pizzas. If this type of pizza really need to be that much more expensive than the rest, the recomendation is to see if it will sell more if different sizes are offered, if not it could be taken off the menu. The \"XXL Greek Pizza\" has sold less than 50 units so is one option to be taken off the menu too. "
   ]
  },
  {
   "cell_type": "markdown",
   "id": "07195dfc-4944-4d07-8c13-6c4808d04da1",
   "metadata": {},
   "source": [
    "## Conclusion"
   ]
  },
  {
   "cell_type": "markdown",
   "id": "cfb55567-58ae-4588-8dcf-f416d13e215e",
   "metadata": {},
   "source": [
    "This pizza Place has a mean of 60 orders a day with a mean of 2 pizzas per order. \n",
    "The best seller is 'the classic deluxe'. The total revenue for 2015 was $ 817.860,05. \n",
    "There was a big raise in sales in august, but in february september and october the sales were way less. \n",
    "\n",
    "There is five sizes of pizza, but two of them are only offered by one pizza, Xl and XXL. It could be patterned by either making those sizes for the rest of the pizzas or taking them out of the menu, mainly the XXL, that sold less than 50 units. \n",
    "\n",
    "The brie carre pizza it's the worst seller, but it has two peculiarities, it's only offered in one size, and has a much higher price than the mean to this size. It could be offered in different size, and should be done a review to it's price.A promotion could be a good ideia to see if it will sell more, there could also have a promotion on the top sellers too since the clients seem to like those. \n",
    "\n",
    "For further analysis, it could be a research on what combination of products work better, and try to enhance the menu with this info, adding new pizza types and removing the ones that don't work that well\n",
    "\n",
    "Please fell free to let any comments and suggestion, and if you wanna contact me you can reach me via [Linkedin](https://www.linkedin.com/in/caio-gonzaga-alves/). If you wanna see more there's also my [Portfolio](https://www.caioalves.com/) and [Github](https://github.com/Caio-G) page."
   ]
  }
 ],
 "metadata": {
  "colab": {
   "name": "Welcome to DataCamp Workspaces.ipynb",
   "provenance": []
  },
  "kernelspec": {
   "display_name": "Python 3 (ipykernel)",
   "language": "python",
   "name": "python3"
  },
  "language_info": {
   "codemirror_mode": {
    "name": "ipython",
    "version": 3
   },
   "file_extension": ".py",
   "mimetype": "text/x-python",
   "name": "python",
   "nbconvert_exporter": "python",
   "pygments_lexer": "ipython3",
   "version": "3.8.10"
  }
 },
 "nbformat": 4,
 "nbformat_minor": 5
}
