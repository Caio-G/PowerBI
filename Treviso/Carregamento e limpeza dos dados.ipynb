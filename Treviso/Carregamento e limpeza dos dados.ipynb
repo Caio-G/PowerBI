{
 "cells": [
  {
   "cell_type": "markdown",
   "id": "09f80279",
   "metadata": {},
   "source": [
    "# Carregamento dos dados"
   ]
  },
  {
   "cell_type": "markdown",
   "id": "040fc526",
   "metadata": {},
   "source": [
    "O primeiro passo é importar os pacotes que serão utilizado e em seguida carregar os dados"
   ]
  },
  {
   "cell_type": "code",
   "execution_count": 1,
   "id": "0645dd1c",
   "metadata": {},
   "outputs": [],
   "source": [
    "# importando os pacotes necessários\n",
    "import pandas as pd"
   ]
  },
  {
   "cell_type": "code",
   "execution_count": 2,
   "id": "71ca8b53",
   "metadata": {},
   "outputs": [],
   "source": [
    "# importando a planilha com os dados\n",
    "planilha_completa = pd.read_excel(\"CORRETA - analise d edados.xlsx\",None)"
   ]
  },
  {
   "cell_type": "code",
   "execution_count": 3,
   "id": "3a637e2c",
   "metadata": {},
   "outputs": [
    {
     "data": {
      "text/plain": [
       "dict_keys(['Vendas', 'Custo', 'Saida', 'Caixa'])"
      ]
     },
     "execution_count": 3,
     "metadata": {},
     "output_type": "execute_result"
    }
   ],
   "source": [
    "# verificando as abas do arquivo carregado\n",
    "planilha_completa.keys()"
   ]
  },
  {
   "cell_type": "markdown",
   "id": "cce92bb6",
   "metadata": {},
   "source": [
    "Com os dados já carregados, irei dividi-lós de acordo com as abas da planilha"
   ]
  },
  {
   "cell_type": "code",
   "execution_count": 4,
   "id": "7a528926",
   "metadata": {},
   "outputs": [],
   "source": [
    "# separando cada uma das abas\n",
    "vendas = planilha_completa['Vendas']\n",
    "custo = planilha_completa['Custo']\n",
    "saida = planilha_completa['Saida']\n",
    "caixa = planilha_completa['Caixa']"
   ]
  },
  {
   "cell_type": "markdown",
   "id": "a8b1aefd",
   "metadata": {},
   "source": [
    "# Limpeza e transformação"
   ]
  },
  {
   "cell_type": "markdown",
   "id": "49ea2bb9",
   "metadata": {},
   "source": [
    "Agora que essa separação já foi feita posso começar a verificar possiveis inconsistências nos dados e pontos de ajustes para melhor performance. Começando pela tabela 'vendas'\n",
    "\n",
    "## Vendas"
   ]
  },
  {
   "cell_type": "code",
   "execution_count": 5,
   "id": "875687b9",
   "metadata": {},
   "outputs": [
    {
     "name": "stdout",
     "output_type": "stream",
     "text": [
      "<class 'pandas.core.frame.DataFrame'>\n",
      "RangeIndex: 1866 entries, 0 to 1865\n",
      "Data columns (total 7 columns):\n",
      " #   Column           Non-Null Count  Dtype \n",
      "---  ------           --------------  ----- \n",
      " 0   ID               1866 non-null   int64 \n",
      " 1   DataVenda        1866 non-null   object\n",
      " 2   ModeloComercial  1866 non-null   object\n",
      " 3   NotaEntrada      1866 non-null   int64 \n",
      " 4   NotaSaida        1866 non-null   int64 \n",
      " 5   Vendedor         1866 non-null   object\n",
      " 6   Cliente          1866 non-null   object\n",
      "dtypes: int64(3), object(4)\n",
      "memory usage: 102.2+ KB\n"
     ]
    }
   ],
   "source": [
    "# conferindo as informações de cada coluna da tabela de vendas\n",
    "\n",
    "vendas.info()"
   ]
  },
  {
   "cell_type": "markdown",
   "id": "f366f966",
   "metadata": {},
   "source": [
    "Não foram encontrados dados nulos ou faltantes nas colunas, mas a coluna 'DataVenda' por se tratar de uma coluna de datas deve ser formatada como tal"
   ]
  },
  {
   "cell_type": "code",
   "execution_count": 6,
   "id": "74c82e15",
   "metadata": {
    "scrolled": true
   },
   "outputs": [
    {
     "data": {
      "text/plain": [
       "0         02 de Janeiro de 2024\n",
       "1       05 de fevereiro de 2024\n",
       "2          3 de Janeiro de 2024\n",
       "3        6 de fevereiro de 2024\n",
       "4          4 de Janeiro de 2024\n",
       "                 ...           \n",
       "1861    28 de fevereiro de 2024\n",
       "1862        17 de junho de 2024\n",
       "1863        13 de junho de 2023\n",
       "1864     26 de dezembro de 2023\n",
       "1865    16 de fevereiro de 2024\n",
       "Name: DataVenda, Length: 1866, dtype: object"
      ]
     },
     "execution_count": 6,
     "metadata": {},
     "output_type": "execute_result"
    }
   ],
   "source": [
    "# verificando como a coluna 'DataVenda' está formatada\n",
    "vendas['DataVenda']"
   ]
  },
  {
   "cell_type": "code",
   "execution_count": 7,
   "id": "4af94dc8",
   "metadata": {
    "scrolled": true
   },
   "outputs": [],
   "source": [
    "# criando listas para passar os nomes dos meses de português para inglês para conseguir fazer a mudança de tipo de dado\n",
    "\"\"\" Essa função também reconhece outras linguas e faz a mudança a depender da definição de localização \n",
    "utilizada, mas nesse caso a minha configuração estava com o inlgês como base, e para evitar essas alterações eu \n",
    "preferi trocar os nomes dos meses para inglês \"\"\"\n",
    "\n",
    "meses_pt = ['de ','janeiro', 'fevereiro', 'março', 'abril', 'maio', 'junho', 'julho', 'agosto', 'setembro', 'outubro', 'novembro', 'dezembro']\n",
    "meses_en = ['','january', 'february', 'march', 'april', 'may', 'june', 'july', 'august', 'september', 'october', 'november', 'december']\n",
    "\n",
    "# trocando os nomes dos meses de português para inglês\n",
    "for en, pt in zip(meses_en, meses_pt):\n",
    "    vendas['DataVenda'] = vendas['DataVenda'].str.lower().str.replace(pt, en)\n",
    "\n",
    "# alterando o tipo da coluna para datetime\n",
    "vendas['DataVenda'] = pd.to_datetime(vendas['DataVenda'], format='%d %B %Y',dayfirst=True)"
   ]
  },
  {
   "cell_type": "code",
   "execution_count": 8,
   "id": "fa8972b6",
   "metadata": {},
   "outputs": [
    {
     "name": "stdout",
     "output_type": "stream",
     "text": [
      "<class 'pandas.core.frame.DataFrame'>\n",
      "RangeIndex: 1866 entries, 0 to 1865\n",
      "Data columns (total 7 columns):\n",
      " #   Column           Non-Null Count  Dtype         \n",
      "---  ------           --------------  -----         \n",
      " 0   ID               1866 non-null   int64         \n",
      " 1   DataVenda        1866 non-null   datetime64[ns]\n",
      " 2   ModeloComercial  1866 non-null   object        \n",
      " 3   NotaEntrada      1866 non-null   int64         \n",
      " 4   NotaSaida        1866 non-null   int64         \n",
      " 5   Vendedor         1866 non-null   object        \n",
      " 6   Cliente          1866 non-null   object        \n",
      "dtypes: datetime64[ns](1), int64(3), object(3)\n",
      "memory usage: 102.2+ KB\n"
     ]
    }
   ],
   "source": [
    "# verificando como ficaram os dados depois da alteração\n",
    "vendas.info()"
   ]
  },
  {
   "cell_type": "markdown",
   "id": "613bb653",
   "metadata": {},
   "source": [
    "Agora que os tipos dos dados de todas as colunas já estão corretos, irei olhar os valores de cada coluna e como se distribuem"
   ]
  },
  {
   "cell_type": "code",
   "execution_count": 9,
   "id": "58462303",
   "metadata": {},
   "outputs": [
    {
     "data": {
      "text/html": [
       "<div>\n",
       "<style scoped>\n",
       "    .dataframe tbody tr th:only-of-type {\n",
       "        vertical-align: middle;\n",
       "    }\n",
       "\n",
       "    .dataframe tbody tr th {\n",
       "        vertical-align: top;\n",
       "    }\n",
       "\n",
       "    .dataframe thead th {\n",
       "        text-align: right;\n",
       "    }\n",
       "</style>\n",
       "<table border=\"1\" class=\"dataframe\">\n",
       "  <thead>\n",
       "    <tr style=\"text-align: right;\">\n",
       "      <th></th>\n",
       "      <th>ID</th>\n",
       "      <th>DataVenda</th>\n",
       "      <th>ModeloComercial</th>\n",
       "      <th>NotaEntrada</th>\n",
       "      <th>NotaSaida</th>\n",
       "      <th>Vendedor</th>\n",
       "      <th>Cliente</th>\n",
       "    </tr>\n",
       "  </thead>\n",
       "  <tbody>\n",
       "    <tr>\n",
       "      <th>0</th>\n",
       "      <td>1</td>\n",
       "      <td>2024-01-02</td>\n",
       "      <td>FMX</td>\n",
       "      <td>448855</td>\n",
       "      <td>885522</td>\n",
       "      <td>Vitor</td>\n",
       "      <td>EficientTrans</td>\n",
       "    </tr>\n",
       "    <tr>\n",
       "      <th>1</th>\n",
       "      <td>2</td>\n",
       "      <td>2024-02-05</td>\n",
       "      <td>FH</td>\n",
       "      <td>448856</td>\n",
       "      <td>885523</td>\n",
       "      <td>Jessica</td>\n",
       "      <td>MoviFrete</td>\n",
       "    </tr>\n",
       "    <tr>\n",
       "      <th>2</th>\n",
       "      <td>3</td>\n",
       "      <td>2024-01-03</td>\n",
       "      <td>VM</td>\n",
       "      <td>448857</td>\n",
       "      <td>885524</td>\n",
       "      <td>Jessica</td>\n",
       "      <td>SuperCargas</td>\n",
       "    </tr>\n",
       "    <tr>\n",
       "      <th>3</th>\n",
       "      <td>4</td>\n",
       "      <td>2024-02-06</td>\n",
       "      <td>FH</td>\n",
       "      <td>448858</td>\n",
       "      <td>885525</td>\n",
       "      <td>Rafael</td>\n",
       "      <td>ExpressoNet</td>\n",
       "    </tr>\n",
       "    <tr>\n",
       "      <th>4</th>\n",
       "      <td>5</td>\n",
       "      <td>2024-01-04</td>\n",
       "      <td>FH</td>\n",
       "      <td>448859</td>\n",
       "      <td>885526</td>\n",
       "      <td>Rafael</td>\n",
       "      <td>GlobalLog</td>\n",
       "    </tr>\n",
       "  </tbody>\n",
       "</table>\n",
       "</div>"
      ],
      "text/plain": [
       "   ID  DataVenda ModeloComercial  NotaEntrada  NotaSaida Vendedor  \\\n",
       "0   1 2024-01-02             FMX       448855     885522    Vitor   \n",
       "1   2 2024-02-05              FH       448856     885523  Jessica   \n",
       "2   3 2024-01-03              VM       448857     885524  Jessica   \n",
       "3   4 2024-02-06              FH       448858     885525   Rafael   \n",
       "4   5 2024-01-04              FH       448859     885526   Rafael   \n",
       "\n",
       "         Cliente  \n",
       "0  EficientTrans  \n",
       "1      MoviFrete  \n",
       "2    SuperCargas  \n",
       "3    ExpressoNet  \n",
       "4      GlobalLog  "
      ]
     },
     "execution_count": 9,
     "metadata": {},
     "output_type": "execute_result"
    }
   ],
   "source": [
    "# demonstração dos dados de vendas\n",
    "vendas.head()"
   ]
  },
  {
   "cell_type": "code",
   "execution_count": 10,
   "id": "983144d6",
   "metadata": {},
   "outputs": [
    {
     "data": {
      "text/plain": [
       "ID                 1866\n",
       "DataVenda           536\n",
       "ModeloComercial       4\n",
       "NotaEntrada        1866\n",
       "NotaSaida          1866\n",
       "Vendedor              4\n",
       "Cliente              13\n",
       "dtype: int64"
      ]
     },
     "execution_count": 10,
     "metadata": {},
     "output_type": "execute_result"
    }
   ],
   "source": [
    "# verificando os valores únicos de cada coluna\n",
    "vendas.nunique()"
   ]
  },
  {
   "cell_type": "code",
   "execution_count": 11,
   "id": "69350edc",
   "metadata": {
    "scrolled": true
   },
   "outputs": [
    {
     "data": {
      "text/html": [
       "<div>\n",
       "<style scoped>\n",
       "    .dataframe tbody tr th:only-of-type {\n",
       "        vertical-align: middle;\n",
       "    }\n",
       "\n",
       "    .dataframe tbody tr th {\n",
       "        vertical-align: top;\n",
       "    }\n",
       "\n",
       "    .dataframe thead th {\n",
       "        text-align: right;\n",
       "    }\n",
       "</style>\n",
       "<table border=\"1\" class=\"dataframe\">\n",
       "  <thead>\n",
       "    <tr style=\"text-align: right;\">\n",
       "      <th></th>\n",
       "      <th>ID</th>\n",
       "      <th>NotaEntrada</th>\n",
       "      <th>NotaSaida</th>\n",
       "    </tr>\n",
       "  </thead>\n",
       "  <tbody>\n",
       "    <tr>\n",
       "      <th>count</th>\n",
       "      <td>1866.000000</td>\n",
       "      <td>1866.000000</td>\n",
       "      <td>1866.000000</td>\n",
       "    </tr>\n",
       "    <tr>\n",
       "      <th>mean</th>\n",
       "      <td>933.500000</td>\n",
       "      <td>449841.049303</td>\n",
       "      <td>886454.500000</td>\n",
       "    </tr>\n",
       "    <tr>\n",
       "      <th>std</th>\n",
       "      <td>538.812119</td>\n",
       "      <td>16464.721464</td>\n",
       "      <td>538.812119</td>\n",
       "    </tr>\n",
       "    <tr>\n",
       "      <th>min</th>\n",
       "      <td>1.000000</td>\n",
       "      <td>0.000000</td>\n",
       "      <td>885522.000000</td>\n",
       "    </tr>\n",
       "    <tr>\n",
       "      <th>25%</th>\n",
       "      <td>467.250000</td>\n",
       "      <td>449320.250000</td>\n",
       "      <td>885988.250000</td>\n",
       "    </tr>\n",
       "    <tr>\n",
       "      <th>50%</th>\n",
       "      <td>933.500000</td>\n",
       "      <td>449786.500000</td>\n",
       "      <td>886454.500000</td>\n",
       "    </tr>\n",
       "    <tr>\n",
       "      <th>75%</th>\n",
       "      <td>1399.750000</td>\n",
       "      <td>450253.750000</td>\n",
       "      <td>886920.750000</td>\n",
       "    </tr>\n",
       "    <tr>\n",
       "      <th>max</th>\n",
       "      <td>1866.000000</td>\n",
       "      <td>999999.000000</td>\n",
       "      <td>887387.000000</td>\n",
       "    </tr>\n",
       "  </tbody>\n",
       "</table>\n",
       "</div>"
      ],
      "text/plain": [
       "                ID    NotaEntrada      NotaSaida\n",
       "count  1866.000000    1866.000000    1866.000000\n",
       "mean    933.500000  449841.049303  886454.500000\n",
       "std     538.812119   16464.721464     538.812119\n",
       "min       1.000000       0.000000  885522.000000\n",
       "25%     467.250000  449320.250000  885988.250000\n",
       "50%     933.500000  449786.500000  886454.500000\n",
       "75%    1399.750000  450253.750000  886920.750000\n",
       "max    1866.000000  999999.000000  887387.000000"
      ]
     },
     "execution_count": 11,
     "metadata": {},
     "output_type": "execute_result"
    }
   ],
   "source": [
    "# olhando as medidas de resumo das colunas de tipo numérico\n",
    "vendas.describe()"
   ]
  },
  {
   "cell_type": "code",
   "execution_count": 12,
   "id": "22c09e52",
   "metadata": {},
   "outputs": [
    {
     "data": {
      "text/html": [
       "<div>\n",
       "<style scoped>\n",
       "    .dataframe tbody tr th:only-of-type {\n",
       "        vertical-align: middle;\n",
       "    }\n",
       "\n",
       "    .dataframe tbody tr th {\n",
       "        vertical-align: top;\n",
       "    }\n",
       "\n",
       "    .dataframe thead th {\n",
       "        text-align: right;\n",
       "    }\n",
       "</style>\n",
       "<table border=\"1\" class=\"dataframe\">\n",
       "  <thead>\n",
       "    <tr style=\"text-align: right;\">\n",
       "      <th></th>\n",
       "      <th>ID</th>\n",
       "      <th>DataVenda</th>\n",
       "      <th>ModeloComercial</th>\n",
       "      <th>NotaEntrada</th>\n",
       "      <th>NotaSaida</th>\n",
       "      <th>Vendedor</th>\n",
       "      <th>Cliente</th>\n",
       "    </tr>\n",
       "  </thead>\n",
       "  <tbody>\n",
       "    <tr>\n",
       "      <th>955</th>\n",
       "      <td>956</td>\n",
       "      <td>2024-01-12</td>\n",
       "      <td>VM</td>\n",
       "      <td>0</td>\n",
       "      <td>886477</td>\n",
       "      <td>Andre</td>\n",
       "      <td>RápidoLog</td>\n",
       "    </tr>\n",
       "    <tr>\n",
       "      <th>0</th>\n",
       "      <td>1</td>\n",
       "      <td>2024-01-02</td>\n",
       "      <td>FMX</td>\n",
       "      <td>448855</td>\n",
       "      <td>885522</td>\n",
       "      <td>Vitor</td>\n",
       "      <td>EficientTrans</td>\n",
       "    </tr>\n",
       "    <tr>\n",
       "      <th>1</th>\n",
       "      <td>2</td>\n",
       "      <td>2024-02-05</td>\n",
       "      <td>FH</td>\n",
       "      <td>448856</td>\n",
       "      <td>885523</td>\n",
       "      <td>Jessica</td>\n",
       "      <td>MoviFrete</td>\n",
       "    </tr>\n",
       "    <tr>\n",
       "      <th>2</th>\n",
       "      <td>3</td>\n",
       "      <td>2024-01-03</td>\n",
       "      <td>VM</td>\n",
       "      <td>448857</td>\n",
       "      <td>885524</td>\n",
       "      <td>Jessica</td>\n",
       "      <td>SuperCargas</td>\n",
       "    </tr>\n",
       "    <tr>\n",
       "      <th>3</th>\n",
       "      <td>4</td>\n",
       "      <td>2024-02-06</td>\n",
       "      <td>FH</td>\n",
       "      <td>448858</td>\n",
       "      <td>885525</td>\n",
       "      <td>Rafael</td>\n",
       "      <td>ExpressoNet</td>\n",
       "    </tr>\n",
       "  </tbody>\n",
       "</table>\n",
       "</div>"
      ],
      "text/plain": [
       "      ID  DataVenda ModeloComercial  NotaEntrada  NotaSaida Vendedor  \\\n",
       "955  956 2024-01-12              VM            0     886477    Andre   \n",
       "0      1 2024-01-02             FMX       448855     885522    Vitor   \n",
       "1      2 2024-02-05              FH       448856     885523  Jessica   \n",
       "2      3 2024-01-03              VM       448857     885524  Jessica   \n",
       "3      4 2024-02-06              FH       448858     885525   Rafael   \n",
       "\n",
       "           Cliente  \n",
       "955      RápidoLog  \n",
       "0    EficientTrans  \n",
       "1        MoviFrete  \n",
       "2      SuperCargas  \n",
       "3      ExpressoNet  "
      ]
     },
     "execution_count": 12,
     "metadata": {},
     "output_type": "execute_result"
    }
   ],
   "source": [
    "# verificando os primeiros valores ordenados por 'NotaEntrada'\n",
    "vendas.sort_values('NotaEntrada').head()"
   ]
  },
  {
   "cell_type": "code",
   "execution_count": 13,
   "id": "edc25163",
   "metadata": {},
   "outputs": [
    {
     "data": {
      "text/html": [
       "<div>\n",
       "<style scoped>\n",
       "    .dataframe tbody tr th:only-of-type {\n",
       "        vertical-align: middle;\n",
       "    }\n",
       "\n",
       "    .dataframe tbody tr th {\n",
       "        vertical-align: top;\n",
       "    }\n",
       "\n",
       "    .dataframe thead th {\n",
       "        text-align: right;\n",
       "    }\n",
       "</style>\n",
       "<table border=\"1\" class=\"dataframe\">\n",
       "  <thead>\n",
       "    <tr style=\"text-align: right;\">\n",
       "      <th></th>\n",
       "      <th>ID</th>\n",
       "      <th>DataVenda</th>\n",
       "      <th>ModeloComercial</th>\n",
       "      <th>NotaEntrada</th>\n",
       "      <th>NotaSaida</th>\n",
       "      <th>Vendedor</th>\n",
       "      <th>Cliente</th>\n",
       "    </tr>\n",
       "  </thead>\n",
       "  <tbody>\n",
       "    <tr>\n",
       "      <th>1862</th>\n",
       "      <td>1863</td>\n",
       "      <td>2024-06-17</td>\n",
       "      <td>VM</td>\n",
       "      <td>450717</td>\n",
       "      <td>887384</td>\n",
       "      <td>Andre</td>\n",
       "      <td>LogiMaster</td>\n",
       "    </tr>\n",
       "    <tr>\n",
       "      <th>1863</th>\n",
       "      <td>1864</td>\n",
       "      <td>2023-06-13</td>\n",
       "      <td>FMX</td>\n",
       "      <td>450718</td>\n",
       "      <td>887385</td>\n",
       "      <td>Vitor</td>\n",
       "      <td>Velocitrans</td>\n",
       "    </tr>\n",
       "    <tr>\n",
       "      <th>1864</th>\n",
       "      <td>1865</td>\n",
       "      <td>2023-12-26</td>\n",
       "      <td>FH</td>\n",
       "      <td>450719</td>\n",
       "      <td>887386</td>\n",
       "      <td>Andre</td>\n",
       "      <td>RápidoLog</td>\n",
       "    </tr>\n",
       "    <tr>\n",
       "      <th>1865</th>\n",
       "      <td>1866</td>\n",
       "      <td>2024-02-16</td>\n",
       "      <td>FMX</td>\n",
       "      <td>450720</td>\n",
       "      <td>887387</td>\n",
       "      <td>Rafael</td>\n",
       "      <td>MaxiCarga</td>\n",
       "    </tr>\n",
       "    <tr>\n",
       "      <th>1411</th>\n",
       "      <td>1412</td>\n",
       "      <td>2023-05-22</td>\n",
       "      <td>FMX</td>\n",
       "      <td>999999</td>\n",
       "      <td>886933</td>\n",
       "      <td>Vitor</td>\n",
       "      <td>RápidoFrete</td>\n",
       "    </tr>\n",
       "  </tbody>\n",
       "</table>\n",
       "</div>"
      ],
      "text/plain": [
       "        ID  DataVenda ModeloComercial  NotaEntrada  NotaSaida Vendedor  \\\n",
       "1862  1863 2024-06-17              VM       450717     887384    Andre   \n",
       "1863  1864 2023-06-13             FMX       450718     887385    Vitor   \n",
       "1864  1865 2023-12-26              FH       450719     887386    Andre   \n",
       "1865  1866 2024-02-16             FMX       450720     887387   Rafael   \n",
       "1411  1412 2023-05-22             FMX       999999     886933    Vitor   \n",
       "\n",
       "          Cliente  \n",
       "1862   LogiMaster  \n",
       "1863  Velocitrans  \n",
       "1864    RápidoLog  \n",
       "1865    MaxiCarga  \n",
       "1411  RápidoFrete  "
      ]
     },
     "execution_count": 13,
     "metadata": {},
     "output_type": "execute_result"
    }
   ],
   "source": [
    "# verificando os últimos valores ordenados por 'NotaEntrada'\n",
    "vendas.sort_values('NotaEntrada').tail()"
   ]
  },
  {
   "cell_type": "markdown",
   "id": "7ee724a8",
   "metadata": {},
   "source": [
    "Olhando o número de valores únicos de 'ID', 'NotaEntrada' e 'NotaSaida', é possível dizer que não existem dados repetidos na tabela de vendas.\n",
    "\n",
    "Por outro lado ao olhar a distribuição de valores na coluna 'NotaEntrada', existe uma nota de número 0 e uma de número 999999, que saem do padrão dos outros valores. Mas também é possível observar que os valores dessa coluna seguem uma incrementação padrão de 1 em 1 a partir do primeiro valor 448855. Com isso em mente talvez eu consiga utilizar da coluna 'ID' para identificar qual seria o número correto dessas notas."
   ]
  },
  {
   "cell_type": "code",
   "execution_count": 14,
   "id": "19785cce",
   "metadata": {},
   "outputs": [
    {
     "data": {
      "text/html": [
       "<div>\n",
       "<style scoped>\n",
       "    .dataframe tbody tr th:only-of-type {\n",
       "        vertical-align: middle;\n",
       "    }\n",
       "\n",
       "    .dataframe tbody tr th {\n",
       "        vertical-align: top;\n",
       "    }\n",
       "\n",
       "    .dataframe thead th {\n",
       "        text-align: right;\n",
       "    }\n",
       "</style>\n",
       "<table border=\"1\" class=\"dataframe\">\n",
       "  <thead>\n",
       "    <tr style=\"text-align: right;\">\n",
       "      <th></th>\n",
       "      <th>ID</th>\n",
       "      <th>DataVenda</th>\n",
       "      <th>ModeloComercial</th>\n",
       "      <th>NotaEntrada</th>\n",
       "      <th>NotaSaida</th>\n",
       "      <th>Vendedor</th>\n",
       "      <th>Cliente</th>\n",
       "    </tr>\n",
       "  </thead>\n",
       "  <tbody>\n",
       "    <tr>\n",
       "      <th>954</th>\n",
       "      <td>955</td>\n",
       "      <td>2023-12-06</td>\n",
       "      <td>FMX</td>\n",
       "      <td>449809</td>\n",
       "      <td>886476</td>\n",
       "      <td>Vitor</td>\n",
       "      <td>RápidoFrete</td>\n",
       "    </tr>\n",
       "    <tr>\n",
       "      <th>955</th>\n",
       "      <td>956</td>\n",
       "      <td>2024-01-12</td>\n",
       "      <td>VM</td>\n",
       "      <td>0</td>\n",
       "      <td>886477</td>\n",
       "      <td>Andre</td>\n",
       "      <td>RápidoLog</td>\n",
       "    </tr>\n",
       "    <tr>\n",
       "      <th>956</th>\n",
       "      <td>957</td>\n",
       "      <td>2023-02-14</td>\n",
       "      <td>FH</td>\n",
       "      <td>449811</td>\n",
       "      <td>886478</td>\n",
       "      <td>Jessica</td>\n",
       "      <td>SuperCargas</td>\n",
       "    </tr>\n",
       "    <tr>\n",
       "      <th>1410</th>\n",
       "      <td>1411</td>\n",
       "      <td>2023-02-07</td>\n",
       "      <td>VM</td>\n",
       "      <td>450265</td>\n",
       "      <td>886932</td>\n",
       "      <td>Jessica</td>\n",
       "      <td>ViaCargo</td>\n",
       "    </tr>\n",
       "    <tr>\n",
       "      <th>1411</th>\n",
       "      <td>1412</td>\n",
       "      <td>2023-05-22</td>\n",
       "      <td>FMX</td>\n",
       "      <td>999999</td>\n",
       "      <td>886933</td>\n",
       "      <td>Vitor</td>\n",
       "      <td>RápidoFrete</td>\n",
       "    </tr>\n",
       "    <tr>\n",
       "      <th>1412</th>\n",
       "      <td>1413</td>\n",
       "      <td>2023-12-11</td>\n",
       "      <td>VM</td>\n",
       "      <td>450267</td>\n",
       "      <td>886934</td>\n",
       "      <td>Jessica</td>\n",
       "      <td>ViaCargo</td>\n",
       "    </tr>\n",
       "  </tbody>\n",
       "</table>\n",
       "</div>"
      ],
      "text/plain": [
       "        ID  DataVenda ModeloComercial  NotaEntrada  NotaSaida Vendedor  \\\n",
       "954    955 2023-12-06             FMX       449809     886476    Vitor   \n",
       "955    956 2024-01-12              VM            0     886477    Andre   \n",
       "956    957 2023-02-14              FH       449811     886478  Jessica   \n",
       "1410  1411 2023-02-07              VM       450265     886932  Jessica   \n",
       "1411  1412 2023-05-22             FMX       999999     886933    Vitor   \n",
       "1412  1413 2023-12-11              VM       450267     886934  Jessica   \n",
       "\n",
       "          Cliente  \n",
       "954   RápidoFrete  \n",
       "955     RápidoLog  \n",
       "956   SuperCargas  \n",
       "1410     ViaCargo  \n",
       "1411  RápidoFrete  \n",
       "1412     ViaCargo  "
      ]
     },
     "execution_count": 14,
     "metadata": {},
     "output_type": "execute_result"
    }
   ],
   "source": [
    "# procurando o valores por 'ID' das linhas com a 'NotaEntrada' 0 e 999999. Procurei por um anterior, o valor incorreto e o próximo,\n",
    "# pra ter certeza que a lógica de incremento está correta\n",
    "vendas[vendas['ID'].isin([955,956,957]) | vendas['ID'].isin([1411,1412,1413])]"
   ]
  },
  {
   "cell_type": "markdown",
   "id": "7f5199e4",
   "metadata": {},
   "source": [
    "Agora que eu sei que a lógica de incrementação está correta, eu vou apenas verificar se os valores que viriam a seguir não existem em alguma outra linha e depois fazer a alteração"
   ]
  },
  {
   "cell_type": "code",
   "execution_count": 15,
   "id": "1cf1b0f0",
   "metadata": {},
   "outputs": [
    {
     "data": {
      "text/html": [
       "<div>\n",
       "<style scoped>\n",
       "    .dataframe tbody tr th:only-of-type {\n",
       "        vertical-align: middle;\n",
       "    }\n",
       "\n",
       "    .dataframe tbody tr th {\n",
       "        vertical-align: top;\n",
       "    }\n",
       "\n",
       "    .dataframe thead th {\n",
       "        text-align: right;\n",
       "    }\n",
       "</style>\n",
       "<table border=\"1\" class=\"dataframe\">\n",
       "  <thead>\n",
       "    <tr style=\"text-align: right;\">\n",
       "      <th></th>\n",
       "      <th>ID</th>\n",
       "      <th>DataVenda</th>\n",
       "      <th>ModeloComercial</th>\n",
       "      <th>NotaEntrada</th>\n",
       "      <th>NotaSaida</th>\n",
       "      <th>Vendedor</th>\n",
       "      <th>Cliente</th>\n",
       "    </tr>\n",
       "  </thead>\n",
       "  <tbody>\n",
       "  </tbody>\n",
       "</table>\n",
       "</div>"
      ],
      "text/plain": [
       "Empty DataFrame\n",
       "Columns: [ID, DataVenda, ModeloComercial, NotaEntrada, NotaSaida, Vendedor, Cliente]\n",
       "Index: []"
      ]
     },
     "execution_count": 15,
     "metadata": {},
     "output_type": "execute_result"
    }
   ],
   "source": [
    "# verificando se os valores que seriam adicionados a seguir existem\n",
    "vendas[vendas['NotaEntrada'].isin([449810,450266])]"
   ]
  },
  {
   "cell_type": "code",
   "execution_count": 16,
   "id": "9d08b547",
   "metadata": {},
   "outputs": [
    {
     "data": {
      "text/html": [
       "<div>\n",
       "<style scoped>\n",
       "    .dataframe tbody tr th:only-of-type {\n",
       "        vertical-align: middle;\n",
       "    }\n",
       "\n",
       "    .dataframe tbody tr th {\n",
       "        vertical-align: top;\n",
       "    }\n",
       "\n",
       "    .dataframe thead th {\n",
       "        text-align: right;\n",
       "    }\n",
       "</style>\n",
       "<table border=\"1\" class=\"dataframe\">\n",
       "  <thead>\n",
       "    <tr style=\"text-align: right;\">\n",
       "      <th></th>\n",
       "      <th>ID</th>\n",
       "      <th>DataVenda</th>\n",
       "      <th>ModeloComercial</th>\n",
       "      <th>NotaEntrada</th>\n",
       "      <th>NotaSaida</th>\n",
       "      <th>Vendedor</th>\n",
       "      <th>Cliente</th>\n",
       "    </tr>\n",
       "  </thead>\n",
       "  <tbody>\n",
       "    <tr>\n",
       "      <th>954</th>\n",
       "      <td>955</td>\n",
       "      <td>2023-12-06</td>\n",
       "      <td>FMX</td>\n",
       "      <td>449809</td>\n",
       "      <td>886476</td>\n",
       "      <td>Vitor</td>\n",
       "      <td>RápidoFrete</td>\n",
       "    </tr>\n",
       "    <tr>\n",
       "      <th>955</th>\n",
       "      <td>956</td>\n",
       "      <td>2024-01-12</td>\n",
       "      <td>VM</td>\n",
       "      <td>449810</td>\n",
       "      <td>886477</td>\n",
       "      <td>Andre</td>\n",
       "      <td>RápidoLog</td>\n",
       "    </tr>\n",
       "    <tr>\n",
       "      <th>956</th>\n",
       "      <td>957</td>\n",
       "      <td>2023-02-14</td>\n",
       "      <td>FH</td>\n",
       "      <td>449811</td>\n",
       "      <td>886478</td>\n",
       "      <td>Jessica</td>\n",
       "      <td>SuperCargas</td>\n",
       "    </tr>\n",
       "    <tr>\n",
       "      <th>1410</th>\n",
       "      <td>1411</td>\n",
       "      <td>2023-02-07</td>\n",
       "      <td>VM</td>\n",
       "      <td>450265</td>\n",
       "      <td>886932</td>\n",
       "      <td>Jessica</td>\n",
       "      <td>ViaCargo</td>\n",
       "    </tr>\n",
       "    <tr>\n",
       "      <th>1411</th>\n",
       "      <td>1412</td>\n",
       "      <td>2023-05-22</td>\n",
       "      <td>FMX</td>\n",
       "      <td>450266</td>\n",
       "      <td>886933</td>\n",
       "      <td>Vitor</td>\n",
       "      <td>RápidoFrete</td>\n",
       "    </tr>\n",
       "    <tr>\n",
       "      <th>1412</th>\n",
       "      <td>1413</td>\n",
       "      <td>2023-12-11</td>\n",
       "      <td>VM</td>\n",
       "      <td>450267</td>\n",
       "      <td>886934</td>\n",
       "      <td>Jessica</td>\n",
       "      <td>ViaCargo</td>\n",
       "    </tr>\n",
       "  </tbody>\n",
       "</table>\n",
       "</div>"
      ],
      "text/plain": [
       "        ID  DataVenda ModeloComercial  NotaEntrada  NotaSaida Vendedor  \\\n",
       "954    955 2023-12-06             FMX       449809     886476    Vitor   \n",
       "955    956 2024-01-12              VM       449810     886477    Andre   \n",
       "956    957 2023-02-14              FH       449811     886478  Jessica   \n",
       "1410  1411 2023-02-07              VM       450265     886932  Jessica   \n",
       "1411  1412 2023-05-22             FMX       450266     886933    Vitor   \n",
       "1412  1413 2023-12-11              VM       450267     886934  Jessica   \n",
       "\n",
       "          Cliente  \n",
       "954   RápidoFrete  \n",
       "955     RápidoLog  \n",
       "956   SuperCargas  \n",
       "1410     ViaCargo  \n",
       "1411  RápidoFrete  \n",
       "1412     ViaCargo  "
      ]
     },
     "execution_count": 16,
     "metadata": {},
     "output_type": "execute_result"
    }
   ],
   "source": [
    "# como os valores não existem na coluna 'NotaEntrada', irei subistituir os valores que se encontram fora do padrão por eles\n",
    "\n",
    "vendas.loc[vendas['ID']==956,'NotaEntrada'] = 449810\n",
    "vendas.loc[vendas['ID']==1412,'NotaEntrada'] = 450266\n",
    "\n",
    "# e conferir como ficou depois da alteração\n",
    "vendas[vendas['ID'].isin([955,956,957]) | vendas['ID'].isin([1411,1412,1413])]"
   ]
  },
  {
   "cell_type": "markdown",
   "id": "d74a88c5",
   "metadata": {},
   "source": [
    "Agora parece correto\n",
    "\n",
    "Irei agora verificar os valores das outras colunas buscando incosistências"
   ]
  },
  {
   "cell_type": "code",
   "execution_count": 17,
   "id": "eb9f7546",
   "metadata": {},
   "outputs": [
    {
     "name": "stdout",
     "output_type": "stream",
     "text": [
      "Data primeira venda :  2023-01-02 00:00:00 , Data última venda :  2024-07-01 00:00:00\n"
     ]
    }
   ],
   "source": [
    "# verificando as data da primeira e última venda realizada\n",
    "\"\"\" como ao executar a troca de tipo da coluna de  data anteriormente não ocorreu nenhum erro, todos os dados estão \n",
    "dentro do padrão e por isso vou apenas verificar se o período entre a primeira e última data fazem sentido\"\"\"\n",
    "print(\"Data primeira venda : \",vendas['DataVenda'].min(),\", Data última venda : \",vendas['DataVenda'].max())"
   ]
  },
  {
   "cell_type": "code",
   "execution_count": 18,
   "id": "834c4ef4",
   "metadata": {},
   "outputs": [
    {
     "data": {
      "text/plain": [
       "VM     630\n",
       "FMX    618\n",
       "FH     617\n",
       "FHX      1\n",
       "Name: ModeloComercial, dtype: int64"
      ]
     },
     "execution_count": 18,
     "metadata": {},
     "output_type": "execute_result"
    }
   ],
   "source": [
    "# verificando quais foram os modelos comerciais registrados e a distribuição deles\n",
    "vendas['ModeloComercial'].value_counts()"
   ]
  },
  {
   "cell_type": "markdown",
   "id": "f5f0539a",
   "metadata": {},
   "source": [
    "Hoje no site da Volvo, apenas são mostrados os modelos FH,FM,FMX e VM. O modelo FHX não aparece no site da empresa, e não aparece em nenhuma busca registro de tal modelo.\n",
    "\n",
    "Tendo isso em vista, possívelmente o modelo FHX foi inserido de forma errada, mas como tanto FH como FMX estão próximos em gramática do que foi inserido, não posso supor nenhum dos dois apenas pela gramática, para tentar encontrar o modelo eu poderia usar os dados de valores das outras tabelas para tentar achar padroes nos modelos e encontrar a qual modelo essa venda pertence, mas com 1866 vendas, fazer isso por apenas um registro, não acredito que valha a pena, por isso para o intuito de analisar os dados irei apenas excluir o registro e seus valores associados"
   ]
  },
  {
   "cell_type": "code",
   "execution_count": 19,
   "id": "0763f82a",
   "metadata": {},
   "outputs": [
    {
     "data": {
      "text/html": [
       "<div>\n",
       "<style scoped>\n",
       "    .dataframe tbody tr th:only-of-type {\n",
       "        vertical-align: middle;\n",
       "    }\n",
       "\n",
       "    .dataframe tbody tr th {\n",
       "        vertical-align: top;\n",
       "    }\n",
       "\n",
       "    .dataframe thead th {\n",
       "        text-align: right;\n",
       "    }\n",
       "</style>\n",
       "<table border=\"1\" class=\"dataframe\">\n",
       "  <thead>\n",
       "    <tr style=\"text-align: right;\">\n",
       "      <th></th>\n",
       "      <th>ID</th>\n",
       "      <th>DataVenda</th>\n",
       "      <th>ModeloComercial</th>\n",
       "      <th>NotaEntrada</th>\n",
       "      <th>NotaSaida</th>\n",
       "      <th>Vendedor</th>\n",
       "      <th>Cliente</th>\n",
       "    </tr>\n",
       "  </thead>\n",
       "  <tbody>\n",
       "    <tr>\n",
       "      <th>25</th>\n",
       "      <td>26</td>\n",
       "      <td>2023-07-31</td>\n",
       "      <td>FHX</td>\n",
       "      <td>448880</td>\n",
       "      <td>885547</td>\n",
       "      <td>Vitor</td>\n",
       "      <td>EficientTrans</td>\n",
       "    </tr>\n",
       "  </tbody>\n",
       "</table>\n",
       "</div>"
      ],
      "text/plain": [
       "    ID  DataVenda ModeloComercial  NotaEntrada  NotaSaida Vendedor  \\\n",
       "25  26 2023-07-31             FHX       448880     885547    Vitor   \n",
       "\n",
       "          Cliente  \n",
       "25  EficientTrans  "
      ]
     },
     "execution_count": 19,
     "metadata": {},
     "output_type": "execute_result"
    }
   ],
   "source": [
    "# buscando a linha com o modelo FHX para saber o index para a exclusão\n",
    "vendas[vendas['ModeloComercial']=='FHX']"
   ]
  },
  {
   "cell_type": "code",
   "execution_count": 20,
   "id": "d3ee6e0a",
   "metadata": {},
   "outputs": [],
   "source": [
    "# excluindo do dataset\n",
    "vendas = vendas.drop(25)"
   ]
  },
  {
   "cell_type": "code",
   "execution_count": 21,
   "id": "baf64fea",
   "metadata": {},
   "outputs": [
    {
     "data": {
      "text/plain": [
       "VM     630\n",
       "FMX    618\n",
       "FH     617\n",
       "Name: ModeloComercial, dtype: int64"
      ]
     },
     "execution_count": 21,
     "metadata": {},
     "output_type": "execute_result"
    }
   ],
   "source": [
    "# verificando os modelos novamente após a exclusão\n",
    "vendas['ModeloComercial'].value_counts()"
   ]
  },
  {
   "cell_type": "code",
   "execution_count": 22,
   "id": "ce3027ea",
   "metadata": {},
   "outputs": [
    {
     "data": {
      "text/plain": [
       "Vitor      575\n",
       "Jessica    544\n",
       "Rafael     401\n",
       "Andre      345\n",
       "Name: Vendedor, dtype: int64"
      ]
     },
     "execution_count": 22,
     "metadata": {},
     "output_type": "execute_result"
    }
   ],
   "source": [
    "# verificando quais foram os vendedores registrados e a distribuição de vendas deles\n",
    "vendas['Vendedor'].value_counts()"
   ]
  },
  {
   "cell_type": "code",
   "execution_count": 23,
   "id": "65a6816c",
   "metadata": {},
   "outputs": [
    {
     "data": {
      "text/plain": [
       "LogiMaster       231\n",
       "RápidoFrete      208\n",
       "MoviFrete        197\n",
       "Velocitrans      191\n",
       "EficientTrans    176\n",
       "SuperCargas      151\n",
       "RápidoLog        114\n",
       "MaxiCarga        113\n",
       "FastFrete        112\n",
       "RotaCerta        104\n",
       "GlobalLog        103\n",
       "ViaCargo          84\n",
       "ExpressoNet       81\n",
       "Name: Cliente, dtype: int64"
      ]
     },
     "execution_count": 23,
     "metadata": {},
     "output_type": "execute_result"
    }
   ],
   "source": [
    "# verificando quais foram os clientes registrados e a distribuição de compras deles\n",
    "vendas['Cliente'].value_counts()"
   ]
  },
  {
   "cell_type": "markdown",
   "id": "cd96b0df",
   "metadata": {},
   "source": [
    "As outras colunas de vendas não aparentam ter nenhuma anormalidade.\n",
    "\n",
    "Passarei agora para os dados da tabela 'custo'\n",
    "\n",
    "## Custo"
   ]
  },
  {
   "cell_type": "code",
   "execution_count": 24,
   "id": "bd0b9d0a",
   "metadata": {},
   "outputs": [
    {
     "name": "stdout",
     "output_type": "stream",
     "text": [
      "<class 'pandas.core.frame.DataFrame'>\n",
      "RangeIndex: 1866 entries, 0 to 1865\n",
      "Data columns (total 8 columns):\n",
      " #   Column         Non-Null Count  Dtype         \n",
      "---  ------         --------------  -----         \n",
      " 0   Nota           1866 non-null   int64         \n",
      " 1   DataEmissao    1866 non-null   datetime64[ns]\n",
      " 2   ValorFaturado  1866 non-null   float64       \n",
      " 3   Unnamed: 3     0 non-null      float64       \n",
      " 4   Unnamed: 4     0 non-null      float64       \n",
      " 5   Unnamed: 5     0 non-null      float64       \n",
      " 6   Unnamed: 6     0 non-null      float64       \n",
      " 7   Unnamed: 7     0 non-null      float64       \n",
      "dtypes: datetime64[ns](1), float64(6), int64(1)\n",
      "memory usage: 116.8 KB\n"
     ]
    }
   ],
   "source": [
    "# conferindo as informações de cada coluna da tabela 'custo'\n",
    "\n",
    "custo.info()"
   ]
  },
  {
   "cell_type": "code",
   "execution_count": 25,
   "id": "8fba061c",
   "metadata": {},
   "outputs": [
    {
     "data": {
      "text/html": [
       "<div>\n",
       "<style scoped>\n",
       "    .dataframe tbody tr th:only-of-type {\n",
       "        vertical-align: middle;\n",
       "    }\n",
       "\n",
       "    .dataframe tbody tr th {\n",
       "        vertical-align: top;\n",
       "    }\n",
       "\n",
       "    .dataframe thead th {\n",
       "        text-align: right;\n",
       "    }\n",
       "</style>\n",
       "<table border=\"1\" class=\"dataframe\">\n",
       "  <thead>\n",
       "    <tr style=\"text-align: right;\">\n",
       "      <th></th>\n",
       "      <th>Nota</th>\n",
       "      <th>DataEmissao</th>\n",
       "      <th>ValorFaturado</th>\n",
       "      <th>Unnamed: 3</th>\n",
       "      <th>Unnamed: 4</th>\n",
       "      <th>Unnamed: 5</th>\n",
       "      <th>Unnamed: 6</th>\n",
       "      <th>Unnamed: 7</th>\n",
       "    </tr>\n",
       "  </thead>\n",
       "  <tbody>\n",
       "    <tr>\n",
       "      <th>0</th>\n",
       "      <td>448855</td>\n",
       "      <td>2023-12-07</td>\n",
       "      <td>618653.463498</td>\n",
       "      <td>NaN</td>\n",
       "      <td>NaN</td>\n",
       "      <td>NaN</td>\n",
       "      <td>NaN</td>\n",
       "      <td>NaN</td>\n",
       "    </tr>\n",
       "    <tr>\n",
       "      <th>1</th>\n",
       "      <td>448856</td>\n",
       "      <td>2024-01-25</td>\n",
       "      <td>567373.291714</td>\n",
       "      <td>NaN</td>\n",
       "      <td>NaN</td>\n",
       "      <td>NaN</td>\n",
       "      <td>NaN</td>\n",
       "      <td>NaN</td>\n",
       "    </tr>\n",
       "    <tr>\n",
       "      <th>2</th>\n",
       "      <td>448857</td>\n",
       "      <td>2023-12-11</td>\n",
       "      <td>212692.573325</td>\n",
       "      <td>NaN</td>\n",
       "      <td>NaN</td>\n",
       "      <td>NaN</td>\n",
       "      <td>NaN</td>\n",
       "      <td>NaN</td>\n",
       "    </tr>\n",
       "    <tr>\n",
       "      <th>3</th>\n",
       "      <td>448858</td>\n",
       "      <td>2024-01-15</td>\n",
       "      <td>429889.770092</td>\n",
       "      <td>NaN</td>\n",
       "      <td>NaN</td>\n",
       "      <td>NaN</td>\n",
       "      <td>NaN</td>\n",
       "      <td>NaN</td>\n",
       "    </tr>\n",
       "    <tr>\n",
       "      <th>4</th>\n",
       "      <td>448859</td>\n",
       "      <td>2023-12-21</td>\n",
       "      <td>426597.241984</td>\n",
       "      <td>NaN</td>\n",
       "      <td>NaN</td>\n",
       "      <td>NaN</td>\n",
       "      <td>NaN</td>\n",
       "      <td>NaN</td>\n",
       "    </tr>\n",
       "  </tbody>\n",
       "</table>\n",
       "</div>"
      ],
      "text/plain": [
       "     Nota DataEmissao  ValorFaturado  Unnamed: 3  Unnamed: 4  Unnamed: 5  \\\n",
       "0  448855  2023-12-07  618653.463498         NaN         NaN         NaN   \n",
       "1  448856  2024-01-25  567373.291714         NaN         NaN         NaN   \n",
       "2  448857  2023-12-11  212692.573325         NaN         NaN         NaN   \n",
       "3  448858  2024-01-15  429889.770092         NaN         NaN         NaN   \n",
       "4  448859  2023-12-21  426597.241984         NaN         NaN         NaN   \n",
       "\n",
       "   Unnamed: 6  Unnamed: 7  \n",
       "0         NaN         NaN  \n",
       "1         NaN         NaN  \n",
       "2         NaN         NaN  \n",
       "3         NaN         NaN  \n",
       "4         NaN         NaN  "
      ]
     },
     "execution_count": 25,
     "metadata": {},
     "output_type": "execute_result"
    }
   ],
   "source": [
    "# demonstração dos dados de custos\n",
    "custo.head()"
   ]
  },
  {
   "cell_type": "markdown",
   "id": "41ea14c8",
   "metadata": {},
   "source": [
    "Os tipos das colunas já estão de acordo com o esperado, mas foram puxadas 5 colunas em branco das planilhas. Antes de analisar os dados de cada coluna irei excluir essas colunas em branco"
   ]
  },
  {
   "cell_type": "code",
   "execution_count": 26,
   "id": "b859b292",
   "metadata": {},
   "outputs": [
    {
     "name": "stdout",
     "output_type": "stream",
     "text": [
      "<class 'pandas.core.frame.DataFrame'>\n",
      "RangeIndex: 1866 entries, 0 to 1865\n",
      "Data columns (total 3 columns):\n",
      " #   Column         Non-Null Count  Dtype         \n",
      "---  ------         --------------  -----         \n",
      " 0   Nota           1866 non-null   int64         \n",
      " 1   DataEmissao    1866 non-null   datetime64[ns]\n",
      " 2   ValorFaturado  1866 non-null   float64       \n",
      "dtypes: datetime64[ns](1), float64(1), int64(1)\n",
      "memory usage: 43.9 KB\n"
     ]
    }
   ],
   "source": [
    "# selecionando apenas as colunas que contém dados\n",
    "custo = custo[['Nota','DataEmissao','ValorFaturado']]\n",
    "custo.info()"
   ]
  },
  {
   "cell_type": "code",
   "execution_count": 27,
   "id": "832b9150",
   "metadata": {},
   "outputs": [
    {
     "data": {
      "text/html": [
       "<div>\n",
       "<style scoped>\n",
       "    .dataframe tbody tr th:only-of-type {\n",
       "        vertical-align: middle;\n",
       "    }\n",
       "\n",
       "    .dataframe tbody tr th {\n",
       "        vertical-align: top;\n",
       "    }\n",
       "\n",
       "    .dataframe thead th {\n",
       "        text-align: right;\n",
       "    }\n",
       "</style>\n",
       "<table border=\"1\" class=\"dataframe\">\n",
       "  <thead>\n",
       "    <tr style=\"text-align: right;\">\n",
       "      <th></th>\n",
       "      <th>Nota</th>\n",
       "      <th>ValorFaturado</th>\n",
       "    </tr>\n",
       "  </thead>\n",
       "  <tbody>\n",
       "    <tr>\n",
       "      <th>count</th>\n",
       "      <td>1866.000000</td>\n",
       "      <td>1866.000000</td>\n",
       "    </tr>\n",
       "    <tr>\n",
       "      <th>mean</th>\n",
       "      <td>449787.500000</td>\n",
       "      <td>433188.199830</td>\n",
       "    </tr>\n",
       "    <tr>\n",
       "      <th>std</th>\n",
       "      <td>538.812119</td>\n",
       "      <td>145755.473623</td>\n",
       "    </tr>\n",
       "    <tr>\n",
       "      <th>min</th>\n",
       "      <td>448855.000000</td>\n",
       "      <td>185096.374886</td>\n",
       "    </tr>\n",
       "    <tr>\n",
       "      <th>25%</th>\n",
       "      <td>449321.250000</td>\n",
       "      <td>268182.027783</td>\n",
       "    </tr>\n",
       "    <tr>\n",
       "      <th>50%</th>\n",
       "      <td>449787.500000</td>\n",
       "      <td>486526.815436</td>\n",
       "    </tr>\n",
       "    <tr>\n",
       "      <th>75%</th>\n",
       "      <td>450253.750000</td>\n",
       "      <td>551657.098073</td>\n",
       "    </tr>\n",
       "    <tr>\n",
       "      <th>max</th>\n",
       "      <td>450720.000000</td>\n",
       "      <td>702439.614667</td>\n",
       "    </tr>\n",
       "  </tbody>\n",
       "</table>\n",
       "</div>"
      ],
      "text/plain": [
       "                Nota  ValorFaturado\n",
       "count    1866.000000    1866.000000\n",
       "mean   449787.500000  433188.199830\n",
       "std       538.812119  145755.473623\n",
       "min    448855.000000  185096.374886\n",
       "25%    449321.250000  268182.027783\n",
       "50%    449787.500000  486526.815436\n",
       "75%    450253.750000  551657.098073\n",
       "max    450720.000000  702439.614667"
      ]
     },
     "execution_count": 27,
     "metadata": {},
     "output_type": "execute_result"
    }
   ],
   "source": [
    "# olhando as medidas de resumo das colunas de tipo numérico\n",
    "custo.describe()"
   ]
  },
  {
   "cell_type": "code",
   "execution_count": 28,
   "id": "64b0df58",
   "metadata": {},
   "outputs": [
    {
     "data": {
      "text/plain": [
       "Nota             1866\n",
       "DataEmissao       543\n",
       "ValorFaturado    1866\n",
       "dtype: int64"
      ]
     },
     "execution_count": 28,
     "metadata": {},
     "output_type": "execute_result"
    }
   ],
   "source": [
    "# verificando a quantidade de valores únicos de cada coluna\n",
    "custo.nunique()"
   ]
  },
  {
   "cell_type": "code",
   "execution_count": 29,
   "id": "4ae86fbe",
   "metadata": {},
   "outputs": [
    {
     "name": "stdout",
     "output_type": "stream",
     "text": [
      "Data primeira venda :  2022-12-03 00:00:00 , Data última venda :  2024-06-25 00:00:00\n"
     ]
    }
   ],
   "source": [
    "# verificando as data da primeira e última venda realizada\n",
    "print(\"Data primeira venda : \",custo['DataEmissao'].min(),\", Data última venda : \",custo['DataEmissao'].max())"
   ]
  },
  {
   "cell_type": "markdown",
   "id": "da682948",
   "metadata": {},
   "source": [
    "Os dados da tabela 'custo' não apresentam nenhuma anomalia.\n",
    "\n",
    "Passarei agora para os dados da tabela saída\n",
    "\n",
    "## Saída"
   ]
  },
  {
   "cell_type": "code",
   "execution_count": 30,
   "id": "fefd24bf",
   "metadata": {},
   "outputs": [
    {
     "name": "stdout",
     "output_type": "stream",
     "text": [
      "<class 'pandas.core.frame.DataFrame'>\n",
      "RangeIndex: 1866 entries, 0 to 1865\n",
      "Data columns (total 3 columns):\n",
      " #   Column         Non-Null Count  Dtype         \n",
      "---  ------         --------------  -----         \n",
      " 0   Nota           1866 non-null   object        \n",
      " 1   DataEmissao    1866 non-null   datetime64[ns]\n",
      " 2   ValorFaturado  1866 non-null   float64       \n",
      "dtypes: datetime64[ns](1), float64(1), object(1)\n",
      "memory usage: 43.9+ KB\n"
     ]
    }
   ],
   "source": [
    "# conferindo as informações de cada coluna da tabela 'saida'\n",
    "saida.info()"
   ]
  },
  {
   "cell_type": "code",
   "execution_count": 31,
   "id": "4e1799fa",
   "metadata": {},
   "outputs": [
    {
     "data": {
      "text/html": [
       "<div>\n",
       "<style scoped>\n",
       "    .dataframe tbody tr th:only-of-type {\n",
       "        vertical-align: middle;\n",
       "    }\n",
       "\n",
       "    .dataframe tbody tr th {\n",
       "        vertical-align: top;\n",
       "    }\n",
       "\n",
       "    .dataframe thead th {\n",
       "        text-align: right;\n",
       "    }\n",
       "</style>\n",
       "<table border=\"1\" class=\"dataframe\">\n",
       "  <thead>\n",
       "    <tr style=\"text-align: right;\">\n",
       "      <th></th>\n",
       "      <th>Nota</th>\n",
       "      <th>DataEmissao</th>\n",
       "      <th>ValorFaturado</th>\n",
       "    </tr>\n",
       "  </thead>\n",
       "  <tbody>\n",
       "    <tr>\n",
       "      <th>0</th>\n",
       "      <td>885522-a prazo</td>\n",
       "      <td>2024-01-06</td>\n",
       "      <td>648937.199473</td>\n",
       "    </tr>\n",
       "    <tr>\n",
       "      <th>1</th>\n",
       "      <td>885523-a vista</td>\n",
       "      <td>2024-02-14</td>\n",
       "      <td>588968.814928</td>\n",
       "    </tr>\n",
       "    <tr>\n",
       "      <th>2</th>\n",
       "      <td>885524-a prazo</td>\n",
       "      <td>2024-01-05</td>\n",
       "      <td>220788.138400</td>\n",
       "    </tr>\n",
       "    <tr>\n",
       "      <th>3</th>\n",
       "      <td>885525-a prazo</td>\n",
       "      <td>2024-02-10</td>\n",
       "      <td>484838.086570</td>\n",
       "    </tr>\n",
       "    <tr>\n",
       "      <th>4</th>\n",
       "      <td>885526-a prazo</td>\n",
       "      <td>2024-01-12</td>\n",
       "      <td>441307.491708</td>\n",
       "    </tr>\n",
       "  </tbody>\n",
       "</table>\n",
       "</div>"
      ],
      "text/plain": [
       "             Nota DataEmissao  ValorFaturado\n",
       "0  885522-a prazo  2024-01-06  648937.199473\n",
       "1  885523-a vista  2024-02-14  588968.814928\n",
       "2  885524-a prazo  2024-01-05  220788.138400\n",
       "3  885525-a prazo  2024-02-10  484838.086570\n",
       "4  885526-a prazo  2024-01-12  441307.491708"
      ]
     },
     "execution_count": 31,
     "metadata": {},
     "output_type": "execute_result"
    }
   ],
   "source": [
    "# demonstração dos dados de saída\n",
    "saida.head()"
   ]
  },
  {
   "cell_type": "code",
   "execution_count": 32,
   "id": "a9580c32",
   "metadata": {},
   "outputs": [
    {
     "data": {
      "text/html": [
       "<div>\n",
       "<style scoped>\n",
       "    .dataframe tbody tr th:only-of-type {\n",
       "        vertical-align: middle;\n",
       "    }\n",
       "\n",
       "    .dataframe tbody tr th {\n",
       "        vertical-align: top;\n",
       "    }\n",
       "\n",
       "    .dataframe thead th {\n",
       "        text-align: right;\n",
       "    }\n",
       "</style>\n",
       "<table border=\"1\" class=\"dataframe\">\n",
       "  <thead>\n",
       "    <tr style=\"text-align: right;\">\n",
       "      <th></th>\n",
       "      <th>ValorFaturado</th>\n",
       "    </tr>\n",
       "  </thead>\n",
       "  <tbody>\n",
       "    <tr>\n",
       "      <th>count</th>\n",
       "      <td>1866.000000</td>\n",
       "    </tr>\n",
       "    <tr>\n",
       "      <th>mean</th>\n",
       "      <td>469606.154739</td>\n",
       "    </tr>\n",
       "    <tr>\n",
       "      <th>std</th>\n",
       "      <td>157361.558513</td>\n",
       "    </tr>\n",
       "    <tr>\n",
       "      <th>min</th>\n",
       "      <td>115.000000</td>\n",
       "    </tr>\n",
       "    <tr>\n",
       "      <th>25%</th>\n",
       "      <td>290703.342627</td>\n",
       "    </tr>\n",
       "    <tr>\n",
       "      <th>50%</th>\n",
       "      <td>530272.789666</td>\n",
       "    </tr>\n",
       "    <tr>\n",
       "      <th>75%</th>\n",
       "      <td>601282.030656</td>\n",
       "    </tr>\n",
       "    <tr>\n",
       "      <th>max</th>\n",
       "      <td>714345.370847</td>\n",
       "    </tr>\n",
       "  </tbody>\n",
       "</table>\n",
       "</div>"
      ],
      "text/plain": [
       "       ValorFaturado\n",
       "count    1866.000000\n",
       "mean   469606.154739\n",
       "std    157361.558513\n",
       "min       115.000000\n",
       "25%    290703.342627\n",
       "50%    530272.789666\n",
       "75%    601282.030656\n",
       "max    714345.370847"
      ]
     },
     "execution_count": 32,
     "metadata": {},
     "output_type": "execute_result"
    }
   ],
   "source": [
    "# olhando medidas de resumo das colunas de tipo numérico\n",
    "saida.describe()"
   ]
  },
  {
   "cell_type": "code",
   "execution_count": 33,
   "id": "062022d3",
   "metadata": {},
   "outputs": [
    {
     "data": {
      "text/plain": [
       "Nota             1866\n",
       "DataEmissao       532\n",
       "ValorFaturado    1866\n",
       "dtype: int64"
      ]
     },
     "execution_count": 33,
     "metadata": {},
     "output_type": "execute_result"
    }
   ],
   "source": [
    "# verificando a quantidade de valores únicos de cada coluna\n",
    "saida.nunique()"
   ]
  },
  {
   "cell_type": "code",
   "execution_count": 34,
   "id": "40eace3e",
   "metadata": {},
   "outputs": [
    {
     "name": "stdout",
     "output_type": "stream",
     "text": [
      "Data primeira venda :  2023-01-04 00:00:00 , Data última venda :  2024-07-08 00:00:00\n"
     ]
    }
   ],
   "source": [
    "# verificando as data da primeira e última venda realizada\n",
    "print(\"Data primeira venda : \",saida['DataEmissao'].min(),\", Data última venda : \",saida['DataEmissao'].max())"
   ]
  },
  {
   "cell_type": "markdown",
   "id": "21cce39b",
   "metadata": {},
   "source": [
    "Os tipos das colunas já estão de acordo com o esperado, e não aparecereu nenhuma anomalia nos dados. Porém antes de prosseguir irei dividir a coluna 'Nota' em duas, para que possa ter uma coluna apenas com o número da nota e uma com o tipo de pagamento,e  passar o tipo de dado da coluna 'Nota' para int"
   ]
  },
  {
   "cell_type": "code",
   "execution_count": 35,
   "id": "48a29ac6",
   "metadata": {},
   "outputs": [],
   "source": [
    "# separando a antiga coluna 'Nota' e colocando a parte de tipo de pagamento em outra coluna\n",
    "\n",
    "nota_tipo = saida['Nota'].str.split('-')\n",
    "saida['Nota'],saida['Tipo pagamento'] = nota_tipo.str.get(0),nota_tipo.str.get(1)"
   ]
  },
  {
   "cell_type": "code",
   "execution_count": 36,
   "id": "e7a14543",
   "metadata": {},
   "outputs": [
    {
     "data": {
      "text/html": [
       "<div>\n",
       "<style scoped>\n",
       "    .dataframe tbody tr th:only-of-type {\n",
       "        vertical-align: middle;\n",
       "    }\n",
       "\n",
       "    .dataframe tbody tr th {\n",
       "        vertical-align: top;\n",
       "    }\n",
       "\n",
       "    .dataframe thead th {\n",
       "        text-align: right;\n",
       "    }\n",
       "</style>\n",
       "<table border=\"1\" class=\"dataframe\">\n",
       "  <thead>\n",
       "    <tr style=\"text-align: right;\">\n",
       "      <th></th>\n",
       "      <th>Nota</th>\n",
       "      <th>DataEmissao</th>\n",
       "      <th>ValorFaturado</th>\n",
       "      <th>Tipo pagamento</th>\n",
       "    </tr>\n",
       "  </thead>\n",
       "  <tbody>\n",
       "    <tr>\n",
       "      <th>0</th>\n",
       "      <td>885522</td>\n",
       "      <td>2024-01-06</td>\n",
       "      <td>648937.199473</td>\n",
       "      <td>a prazo</td>\n",
       "    </tr>\n",
       "    <tr>\n",
       "      <th>1</th>\n",
       "      <td>885523</td>\n",
       "      <td>2024-02-14</td>\n",
       "      <td>588968.814928</td>\n",
       "      <td>a vista</td>\n",
       "    </tr>\n",
       "    <tr>\n",
       "      <th>2</th>\n",
       "      <td>885524</td>\n",
       "      <td>2024-01-05</td>\n",
       "      <td>220788.138400</td>\n",
       "      <td>a prazo</td>\n",
       "    </tr>\n",
       "    <tr>\n",
       "      <th>3</th>\n",
       "      <td>885525</td>\n",
       "      <td>2024-02-10</td>\n",
       "      <td>484838.086570</td>\n",
       "      <td>a prazo</td>\n",
       "    </tr>\n",
       "    <tr>\n",
       "      <th>4</th>\n",
       "      <td>885526</td>\n",
       "      <td>2024-01-12</td>\n",
       "      <td>441307.491708</td>\n",
       "      <td>a prazo</td>\n",
       "    </tr>\n",
       "    <tr>\n",
       "      <th>...</th>\n",
       "      <td>...</td>\n",
       "      <td>...</td>\n",
       "      <td>...</td>\n",
       "      <td>...</td>\n",
       "    </tr>\n",
       "    <tr>\n",
       "      <th>1861</th>\n",
       "      <td>887383</td>\n",
       "      <td>2024-02-29</td>\n",
       "      <td>559633.313251</td>\n",
       "      <td>a prazo</td>\n",
       "    </tr>\n",
       "    <tr>\n",
       "      <th>1862</th>\n",
       "      <td>887384</td>\n",
       "      <td>2024-06-22</td>\n",
       "      <td>271356.489909</td>\n",
       "      <td>a prazo</td>\n",
       "    </tr>\n",
       "    <tr>\n",
       "      <th>1863</th>\n",
       "      <td>887385</td>\n",
       "      <td>2023-06-22</td>\n",
       "      <td>538306.153495</td>\n",
       "      <td>a prazo</td>\n",
       "    </tr>\n",
       "    <tr>\n",
       "      <th>1864</th>\n",
       "      <td>887386</td>\n",
       "      <td>2023-12-31</td>\n",
       "      <td>524499.459237</td>\n",
       "      <td>a prazo</td>\n",
       "    </tr>\n",
       "    <tr>\n",
       "      <th>1865</th>\n",
       "      <td>887387</td>\n",
       "      <td>2024-02-19</td>\n",
       "      <td>674615.832576</td>\n",
       "      <td>a prazo</td>\n",
       "    </tr>\n",
       "  </tbody>\n",
       "</table>\n",
       "<p>1866 rows × 4 columns</p>\n",
       "</div>"
      ],
      "text/plain": [
       "        Nota DataEmissao  ValorFaturado Tipo pagamento\n",
       "0     885522  2024-01-06  648937.199473        a prazo\n",
       "1     885523  2024-02-14  588968.814928        a vista\n",
       "2     885524  2024-01-05  220788.138400        a prazo\n",
       "3     885525  2024-02-10  484838.086570        a prazo\n",
       "4     885526  2024-01-12  441307.491708        a prazo\n",
       "...      ...         ...            ...            ...\n",
       "1861  887383  2024-02-29  559633.313251        a prazo\n",
       "1862  887384  2024-06-22  271356.489909        a prazo\n",
       "1863  887385  2023-06-22  538306.153495        a prazo\n",
       "1864  887386  2023-12-31  524499.459237        a prazo\n",
       "1865  887387  2024-02-19  674615.832576        a prazo\n",
       "\n",
       "[1866 rows x 4 columns]"
      ]
     },
     "execution_count": 36,
     "metadata": {},
     "output_type": "execute_result"
    }
   ],
   "source": [
    "# verificando como ficaram as colunas\n",
    "saida"
   ]
  },
  {
   "cell_type": "code",
   "execution_count": 37,
   "id": "9d3beac5",
   "metadata": {},
   "outputs": [
    {
     "name": "stdout",
     "output_type": "stream",
     "text": [
      "<class 'pandas.core.frame.DataFrame'>\n",
      "RangeIndex: 1866 entries, 0 to 1865\n",
      "Data columns (total 4 columns):\n",
      " #   Column          Non-Null Count  Dtype         \n",
      "---  ------          --------------  -----         \n",
      " 0   Nota            1866 non-null   int32         \n",
      " 1   DataEmissao     1866 non-null   datetime64[ns]\n",
      " 2   ValorFaturado   1866 non-null   float64       \n",
      " 3   Tipo pagamento  1866 non-null   object        \n",
      "dtypes: datetime64[ns](1), float64(1), int32(1), object(1)\n",
      "memory usage: 51.1+ KB\n"
     ]
    }
   ],
   "source": [
    "# trocando o tipo da coluna 'Nota' e conferindo o resultado\n",
    "saida['Nota'] = saida['Nota'].astype(int)\n",
    "saida.info()"
   ]
  },
  {
   "cell_type": "code",
   "execution_count": 38,
   "id": "20bf45ed",
   "metadata": {},
   "outputs": [
    {
     "data": {
      "text/plain": [
       "a prazo    1381\n",
       "a vista     485\n",
       "Name: Tipo pagamento, dtype: int64"
      ]
     },
     "execution_count": 38,
     "metadata": {},
     "output_type": "execute_result"
    }
   ],
   "source": [
    "# verificando a coluna 'Tipo pagamento' pra ter certeza que não aconteceu nenhum erro na criação dela\n",
    "saida['Tipo pagamento'].value_counts()"
   ]
  },
  {
   "cell_type": "markdown",
   "id": "a33f37e6",
   "metadata": {},
   "source": [
    "Com isso a tabela 'saida' fica concluída e resta agora apenas a tabela caixa\n",
    "\n",
    "## Caixa"
   ]
  },
  {
   "cell_type": "code",
   "execution_count": 39,
   "id": "a73df061",
   "metadata": {
    "scrolled": true
   },
   "outputs": [
    {
     "name": "stdout",
     "output_type": "stream",
     "text": [
      "<class 'pandas.core.frame.DataFrame'>\n",
      "RangeIndex: 14669 entries, 0 to 14668\n",
      "Data columns (total 4 columns):\n",
      " #   Column       Non-Null Count  Dtype  \n",
      "---  ------       --------------  -----  \n",
      " 0   Nota         14669 non-null  int64  \n",
      " 1   Parcela      14669 non-null  int64  \n",
      " 2   Valor        14669 non-null  float64\n",
      " 3   DataEntrada  14669 non-null  object \n",
      "dtypes: float64(1), int64(2), object(1)\n",
      "memory usage: 458.5+ KB\n"
     ]
    }
   ],
   "source": [
    "# conferindo as informações de cada coluna da tabela 'caixa'\n",
    "caixa.info()"
   ]
  },
  {
   "cell_type": "code",
   "execution_count": 40,
   "id": "86667a80",
   "metadata": {},
   "outputs": [
    {
     "data": {
      "text/html": [
       "<div>\n",
       "<style scoped>\n",
       "    .dataframe tbody tr th:only-of-type {\n",
       "        vertical-align: middle;\n",
       "    }\n",
       "\n",
       "    .dataframe tbody tr th {\n",
       "        vertical-align: top;\n",
       "    }\n",
       "\n",
       "    .dataframe thead th {\n",
       "        text-align: right;\n",
       "    }\n",
       "</style>\n",
       "<table border=\"1\" class=\"dataframe\">\n",
       "  <thead>\n",
       "    <tr style=\"text-align: right;\">\n",
       "      <th></th>\n",
       "      <th>Nota</th>\n",
       "      <th>Parcela</th>\n",
       "      <th>Valor</th>\n",
       "      <th>DataEntrada</th>\n",
       "    </tr>\n",
       "  </thead>\n",
       "  <tbody>\n",
       "    <tr>\n",
       "      <th>0</th>\n",
       "      <td>885523</td>\n",
       "      <td>0</td>\n",
       "      <td>588968.814928</td>\n",
       "      <td>2024-2-14</td>\n",
       "    </tr>\n",
       "    <tr>\n",
       "      <th>1</th>\n",
       "      <td>885528</td>\n",
       "      <td>0</td>\n",
       "      <td>525959.972055</td>\n",
       "      <td>2024-1-7</td>\n",
       "    </tr>\n",
       "    <tr>\n",
       "      <th>2</th>\n",
       "      <td>885532</td>\n",
       "      <td>0</td>\n",
       "      <td>227605.407167</td>\n",
       "      <td>2024-1-17</td>\n",
       "    </tr>\n",
       "    <tr>\n",
       "      <th>3</th>\n",
       "      <td>885533</td>\n",
       "      <td>0</td>\n",
       "      <td>486270.971853</td>\n",
       "      <td>2024-2-16</td>\n",
       "    </tr>\n",
       "    <tr>\n",
       "      <th>4</th>\n",
       "      <td>885534</td>\n",
       "      <td>0</td>\n",
       "      <td>588344.545925</td>\n",
       "      <td>2024-1-11</td>\n",
       "    </tr>\n",
       "  </tbody>\n",
       "</table>\n",
       "</div>"
      ],
      "text/plain": [
       "     Nota  Parcela          Valor DataEntrada\n",
       "0  885523        0  588968.814928   2024-2-14\n",
       "1  885528        0  525959.972055    2024-1-7\n",
       "2  885532        0  227605.407167   2024-1-17\n",
       "3  885533        0  486270.971853   2024-2-16\n",
       "4  885534        0  588344.545925   2024-1-11"
      ]
     },
     "execution_count": 40,
     "metadata": {},
     "output_type": "execute_result"
    }
   ],
   "source": [
    "# demonstração dos dados de caixa\n",
    "caixa.head()"
   ]
  },
  {
   "cell_type": "markdown",
   "id": "1202e9fe",
   "metadata": {},
   "source": [
    "Nenhum valor nulo encontrado e nenhuma anomalia aparente, porém a coluna 'DataEntrada' precisa ser formatada como data"
   ]
  },
  {
   "cell_type": "code",
   "execution_count": 41,
   "id": "fab7463b",
   "metadata": {},
   "outputs": [
    {
     "name": "stdout",
     "output_type": "stream",
     "text": [
      "<class 'pandas.core.frame.DataFrame'>\n",
      "RangeIndex: 14669 entries, 0 to 14668\n",
      "Data columns (total 4 columns):\n",
      " #   Column       Non-Null Count  Dtype         \n",
      "---  ------       --------------  -----         \n",
      " 0   Nota         14669 non-null  int64         \n",
      " 1   Parcela      14669 non-null  int64         \n",
      " 2   Valor        14669 non-null  float64       \n",
      " 3   DataEntrada  14669 non-null  datetime64[ns]\n",
      "dtypes: datetime64[ns](1), float64(1), int64(2)\n",
      "memory usage: 458.5 KB\n"
     ]
    }
   ],
   "source": [
    "# mudando o tipo de dado da coluna 'DataEntrada' e conferindo o resultado\n",
    "caixa['DataEntrada'] = pd.to_datetime(caixa['DataEntrada'])\n",
    "caixa.info()"
   ]
  },
  {
   "cell_type": "code",
   "execution_count": 44,
   "id": "4e67ce89",
   "metadata": {},
   "outputs": [
    {
     "name": "stdout",
     "output_type": "stream",
     "text": [
      "Data primeira venda :  2023-01-04 00:00:00 , Data última venda :  2024-07-08 00:00:00\n"
     ]
    }
   ],
   "source": [
    "# verificando as data do primeiro e último registro em caixa realizado\n",
    "print(\"Data primeira venda : \",saida['DataEmissao'].min(),\", Data última venda : \",saida['DataEmissao'].max())"
   ]
  },
  {
   "cell_type": "code",
   "execution_count": 42,
   "id": "0aace66f",
   "metadata": {},
   "outputs": [
    {
     "data": {
      "text/html": [
       "<div>\n",
       "<style scoped>\n",
       "    .dataframe tbody tr th:only-of-type {\n",
       "        vertical-align: middle;\n",
       "    }\n",
       "\n",
       "    .dataframe tbody tr th {\n",
       "        vertical-align: top;\n",
       "    }\n",
       "\n",
       "    .dataframe thead th {\n",
       "        text-align: right;\n",
       "    }\n",
       "</style>\n",
       "<table border=\"1\" class=\"dataframe\">\n",
       "  <thead>\n",
       "    <tr style=\"text-align: right;\">\n",
       "      <th></th>\n",
       "      <th>Nota</th>\n",
       "      <th>Parcela</th>\n",
       "      <th>Valor</th>\n",
       "    </tr>\n",
       "  </thead>\n",
       "  <tbody>\n",
       "    <tr>\n",
       "      <th>count</th>\n",
       "      <td>14669.000000</td>\n",
       "      <td>14669.000000</td>\n",
       "      <td>14669.000000</td>\n",
       "    </tr>\n",
       "    <tr>\n",
       "      <th>mean</th>\n",
       "      <td>886441.166269</td>\n",
       "      <td>5.776058</td>\n",
       "      <td>20273.868681</td>\n",
       "    </tr>\n",
       "    <tr>\n",
       "      <th>std</th>\n",
       "      <td>534.836659</td>\n",
       "      <td>4.590984</td>\n",
       "      <td>88171.629781</td>\n",
       "    </tr>\n",
       "    <tr>\n",
       "      <th>min</th>\n",
       "      <td>885522.000000</td>\n",
       "      <td>0.000000</td>\n",
       "      <td>1537.526238</td>\n",
       "    </tr>\n",
       "    <tr>\n",
       "      <th>25%</th>\n",
       "      <td>885976.000000</td>\n",
       "      <td>2.000000</td>\n",
       "      <td>3449.626256</td>\n",
       "    </tr>\n",
       "    <tr>\n",
       "      <th>50%</th>\n",
       "      <td>886440.000000</td>\n",
       "      <td>5.000000</td>\n",
       "      <td>4562.697767</td>\n",
       "    </tr>\n",
       "    <tr>\n",
       "      <th>75%</th>\n",
       "      <td>886889.000000</td>\n",
       "      <td>9.000000</td>\n",
       "      <td>6345.716881</td>\n",
       "    </tr>\n",
       "    <tr>\n",
       "      <th>max</th>\n",
       "      <td>887387.000000</td>\n",
       "      <td>18.000000</td>\n",
       "      <td>714345.370847</td>\n",
       "    </tr>\n",
       "  </tbody>\n",
       "</table>\n",
       "</div>"
      ],
      "text/plain": [
       "                Nota       Parcela          Valor\n",
       "count   14669.000000  14669.000000   14669.000000\n",
       "mean   886441.166269      5.776058   20273.868681\n",
       "std       534.836659      4.590984   88171.629781\n",
       "min    885522.000000      0.000000    1537.526238\n",
       "25%    885976.000000      2.000000    3449.626256\n",
       "50%    886440.000000      5.000000    4562.697767\n",
       "75%    886889.000000      9.000000    6345.716881\n",
       "max    887387.000000     18.000000  714345.370847"
      ]
     },
     "execution_count": 42,
     "metadata": {},
     "output_type": "execute_result"
    }
   ],
   "source": [
    "# olhando medidas de resumo das colunas de tipo numérico\n",
    "caixa.describe()"
   ]
  },
  {
   "cell_type": "code",
   "execution_count": 43,
   "id": "5212396a",
   "metadata": {},
   "outputs": [
    {
     "data": {
      "text/plain": [
       "Nota           1866\n",
       "Parcela          19\n",
       "Valor          2528\n",
       "DataEntrada     545\n",
       "dtype: int64"
      ]
     },
     "execution_count": 43,
     "metadata": {},
     "output_type": "execute_result"
    }
   ],
   "source": [
    "# verificando a quantidade de valores únicos de cada coluna\n",
    "caixa.nunique()"
   ]
  },
  {
   "cell_type": "markdown",
   "id": "95fd852b",
   "metadata": {},
   "source": [
    "Finalizada a limpeza na tabela 'caixa', também finalizam as limpezas de forma geral e agora que todas as tabelas estão com os dados em conformidade, irei terminar de extrair os dados do registro que teve o modelo inserido de forma incorreta na tabela 'vendas'.\n",
    "\n",
    "Como verificado antes da exclusão registro na tabela de vendas, as notas correspondentes à esse registro são 448880 nota de entrada, e 885547 nota de saída."
   ]
  },
  {
   "cell_type": "code",
   "execution_count": 45,
   "id": "f2acf3bc",
   "metadata": {},
   "outputs": [],
   "source": [
    "# excluindo os registros dessa venda na tabela 'custo'\n",
    "\n",
    "custo_index = custo[custo['Nota']==448880].index.values\n",
    "custo = custo.drop(custo_index)\n",
    "\n",
    "# excluindo os registros dessa venda na tabela 'saida'\n",
    "\n",
    "saida_index = saida[saida['Nota']==885547].index.values\n",
    "saida = saida.drop(saida_index)\n",
    "\n",
    "# excluindo os registros dessa venda na tabela custo\n",
    "\n",
    "caixa_index = caixa[caixa['Nota']==885547].index.values\n",
    "caixa = caixa.drop(caixa_index)\n"
   ]
  },
  {
   "cell_type": "markdown",
   "id": "56d872f1",
   "metadata": {},
   "source": [
    "## Exportando os dados"
   ]
  },
  {
   "cell_type": "code",
   "execution_count": 46,
   "id": "15adf909",
   "metadata": {},
   "outputs": [],
   "source": [
    "# exportando os dados atualizados para arquivos csv que serão usados para a análise\n",
    "vendas.to_csv('vendas.csv',encoding='utf-8',header=True,index=False)\n",
    "custo.to_csv('custo.csv',encoding='utf-8',header=True,index=False)\n",
    "saida.to_csv('saida.csv',encoding='utf-8',header=True,index=False)\n",
    "caixa.to_csv('caixa.csv',encoding='utf-8',header=True,index=False)"
   ]
  },
  {
   "cell_type": "code",
   "execution_count": null,
   "id": "0d268650",
   "metadata": {},
   "outputs": [],
   "source": [
    "from powerbiclient import Report, models\n",
    "\n",
    "# Import the DeviceCodeLoginAuthentication class to authenticate against Power BI\n",
    "from powerbiclient.authentication import DeviceCodeLoginAuthentication\n",
    "\n",
    "# Initiate device authentication\n",
    "device_auth = DeviceCodeLoginAuthentication()\n",
    "\n",
    "group_id=\"Workspace ID\"\n",
    "report_id=\"Report ID\"\n",
    "\n",
    "report = Report(group_id=group_id, report_id=report_id, auth=device_auth)\n",
    "\n",
    "report"
   ]
  },
  {
   "cell_type": "code",
   "execution_count": 1,
   "id": "1fc79877",
   "metadata": {},
   "outputs": [
    {
     "ename": "SyntaxError",
     "evalue": "invalid syntax (<ipython-input-1-abd2dd4caf49>, line 1)",
     "output_type": "error",
     "traceback": [
      "\u001b[1;36m  File \u001b[1;32m\"<ipython-input-1-abd2dd4caf49>\"\u001b[1;36m, line \u001b[1;32m1\u001b[0m\n\u001b[1;33m    <iframe title=\"Análise Treviso 2.0\" width=\"600\" height=\"373.5\" src=\"https://app.powerbi.com/view?r=eyJrIjoiMmExYzVhZmQtYmJhMS00YTFkLTkzNzMtOTk0YTE2ZWMwZGJiIiwidCI6IjZjY2M4NmNjLTY2YjItNGEwMS04YzZmLWUyMzAwODA4MTc4NyJ9\" frameborder=\"0\" allowFullScreen=\"true\"></iframe>\u001b[0m\n\u001b[1;37m    ^\u001b[0m\n\u001b[1;31mSyntaxError\u001b[0m\u001b[1;31m:\u001b[0m invalid syntax\n"
     ]
    }
   ],
   "source": [
    "<iframe title=\"Análise Treviso 2.0\" width=\"600\" height=\"373.5\" src=\"https://app.powerbi.com/view?r=eyJrIjoiMmExYzVhZmQtYmJhMS00YTFkLTkzNzMtOTk0YTE2ZWMwZGJiIiwidCI6IjZjY2M4NmNjLTY2YjItNGEwMS04YzZmLWUyMzAwODA4MTc4NyJ9\" frameborder=\"0\" allowFullScreen=\"true\"></iframe>"
   ]
  }
 ],
 "metadata": {
  "kernelspec": {
   "display_name": "Python 3",
   "language": "python",
   "name": "python3"
  },
  "language_info": {
   "codemirror_mode": {
    "name": "ipython",
    "version": 3
   },
   "file_extension": ".py",
   "mimetype": "text/x-python",
   "name": "python",
   "nbconvert_exporter": "python",
   "pygments_lexer": "ipython3",
   "version": "3.8.8"
  }
 },
 "nbformat": 4,
 "nbformat_minor": 5
}
